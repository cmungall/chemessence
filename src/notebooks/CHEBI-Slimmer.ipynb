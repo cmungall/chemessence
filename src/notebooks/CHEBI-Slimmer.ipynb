{
 "cells": [
  {
   "cell_type": "markdown",
   "id": "882b63db7629f552",
   "metadata": {},
   "source": [
    "# CHEBI Slimmer\n",
    "\n",
    "Creates a simplified version of CHEBI (\"chemessence\") by bundling all members of a **conjugate clique**.\n",
    "For full motivation, see [this slide deck](https://docs.google.com/presentation/d/1R3NRzH70ERjwebqecgt2OYKC8sIuB1_Xs7ENyWAXgjc/edit#slide=id.p).\n",
    "\n"
   ]
  },
  {
   "cell_type": "markdown",
   "id": "74787c2d9005dc21",
   "metadata": {},
   "source": [
    "## Initial setup\n",
    "\n",
    "Imports and use OAK to get an adapter to CHEBI sqlite database."
   ]
  },
  {
   "cell_type": "code",
   "execution_count": 1,
   "id": "initial_id",
   "metadata": {
    "jupyter": {
     "is_executing": true
    }
   },
   "outputs": [],
   "source": [
    "from typing import Optional, List\n",
    "from collections import defaultdict\n",
    "\n",
    "import pandas as pd\n",
    "\n",
    "from oaklib import get_adapter\n",
    "\n",
    "chebi = get_adapter(\"sqlite:obo:chebi\")\n",
    "session = chebi.session"
   ]
  },
  {
   "cell_type": "code",
   "execution_count": 2,
   "id": "237c5d0906ac560c",
   "metadata": {
    "ExecuteTime": {
     "end_time": "2024-08-24T00:14:25.101519Z",
     "start_time": "2024-08-24T00:14:25.096408Z"
    },
    "collapsed": false,
    "jupyter": {
     "outputs_hidden": false
    }
   },
   "outputs": [],
   "source": [
    "from oaklib.datamodels.vocabulary import IS_A, HAS_PART\n",
    "from oaklib.interfaces import OboGraphInterface\n",
    "\n",
    "assert isinstance(chebi, OboGraphInterface)\n"
   ]
  },
  {
   "cell_type": "markdown",
   "id": "64e69d5dbfbdc79b",
   "metadata": {},
   "source": [
    "## Set up vocabulary constants\n",
    "\n",
    "Here we set useful constant variables corresponding to the IDs of relations or terms in CHEBI.\n",
    "\n",
    "Some of these are used in the transformation, others are used for testing."
   ]
  },
  {
   "cell_type": "code",
   "execution_count": 3,
   "id": "703ad334757e40df",
   "metadata": {
    "ExecuteTime": {
     "end_time": "2024-08-24T00:14:25.149991Z",
     "start_time": "2024-08-24T00:14:25.147563Z"
    }
   },
   "outputs": [],
   "source": [
    "# Relations\n",
    "CBO = \"obo:chebi#is_conjugate_base_of\"\n",
    "CAO = \"obo:chebi#is_conjugate_acid_of\"\n",
    "TAUTOMER_OF = \"obo:chebi#is_tautomer_of\"\n",
    "ENANTIOMER_OF = \"obo:chebi#is_enantiomer_of\"\n",
    "HAS_ROLE = \"RO:0000087\""
   ]
  },
  {
   "cell_type": "code",
   "execution_count": 4,
   "id": "4538a10374439f3b",
   "metadata": {
    "ExecuteTime": {
     "end_time": "2024-08-24T00:14:25.159993Z",
     "start_time": "2024-08-24T00:14:25.157729Z"
    },
    "collapsed": false,
    "jupyter": {
     "outputs_hidden": false
    }
   },
   "outputs": [],
   "source": [
    "\n",
    "CHEMICAL_ENTITY = \"CHEBI:24431\""
   ]
  },
  {
   "cell_type": "code",
   "execution_count": 5,
   "id": "d9a11b7b7e44919a",
   "metadata": {
    "ExecuteTime": {
     "end_time": "2024-08-24T00:14:25.169516Z",
     "start_time": "2024-08-24T00:14:25.167446Z"
    },
    "collapsed": false,
    "jupyter": {
     "outputs_hidden": false
    }
   },
   "outputs": [],
   "source": [
    "# modify this for testing\n",
    "# ROOT = AMINO_ACID\n",
    "ROOT = CHEMICAL_ENTITY"
   ]
  },
  {
   "cell_type": "code",
   "execution_count": 6,
   "id": "6b59749828d83578",
   "metadata": {
    "ExecuteTime": {
     "end_time": "2024-08-24T00:14:25.179682Z",
     "start_time": "2024-08-24T00:14:25.176430Z"
    },
    "collapsed": false,
    "jupyter": {
     "outputs_hidden": false
    }
   },
   "outputs": [],
   "source": [
    "AMINO_ACID = \"CHEBI:33709\"\n",
    "AMINO_ACID_ANION = \"CHEBI:37022\"\n",
    "ION = \"CHEBI:24870\" \n",
    "ALPHA_AMINO_ACID = \"CHEBI:33704\"\n",
    "ALPHA_AMINO_ACID_ANION = \"CHEBI:33558\"\n",
    "ALPHA_AMINO_ACID_ZWITTERION = \"CHEBI:78608\"\n",
    "CYSTEINE_ZWITTERION = \"CHEBI:35237\"\n",
    "L_CYSTEINE_ZWITTERION = \"CHEBI:35235\"\n",
    "CYSTEINATE_1_MINUS = \"CHEBI:32456\"\n",
    "CYSTEINIUM = \"CHEBI:32458\"\n",
    "CORD_E = \"CHEBI:213754\"\n",
    "AAAE = \"CHEBI:46874\"\n",
    "CITRIC_ACID = \"CHEBI:30769\"\n",
    "BETA_AMINO_ACID_ANION = \"CHEBI:49095\"\n",
    "\n",
    "AMMONIA=\"CHEBI:16134\"\n",
    "AMMONIUM=\"CHEBI:28938\"\n",
    "AZANIDE=\"CHEBI:29337\"\n",
    "HYRDRIDONITRATE_2M = \"CHEBI:29340\"\n",
    "PECTIN = \"CHEBI:17309\"\n",
    "WATER = \"CHEBI:15377\"\n",
    "\n",
    "CONJ_EXCLUDES = {\n",
    "    AMMONIA, AMMONIUM, AZANIDE, HYRDRIDONITRATE_2M, PECTIN\n",
    "}\n",
    "\n"
   ]
  },
  {
   "cell_type": "markdown",
   "id": "16ad1bd007f1dd6f",
   "metadata": {},
   "source": [
    "## Create a map of ID to Label"
   ]
  },
  {
   "cell_type": "code",
   "execution_count": 7,
   "id": "bb9da82d69bf53ff",
   "metadata": {
    "ExecuteTime": {
     "end_time": "2024-08-24T00:14:42.329935Z",
     "start_time": "2024-08-24T00:14:25.194589Z"
    },
    "collapsed": false,
    "jupyter": {
     "outputs_hidden": false
    }
   },
   "outputs": [
    {
     "data": {
      "text/plain": [
       "200959"
      ]
     },
     "execution_count": 7,
     "metadata": {},
     "output_type": "execute_result"
    }
   ],
   "source": [
    "# Dictionary of CHEBI ID -> primary label\n",
    "labels = {k: v for k, v in chebi.labels(chebi.entities())}\n",
    "len(labels)"
   ]
  },
  {
   "cell_type": "markdown",
   "id": "4b95f7a4-ed1d-4806-9766-bb90609f6185",
   "metadata": {},
   "source": [
    "## Roles\n",
    "\n",
    "Get a list of all IDs in the role branch."
   ]
  },
  {
   "cell_type": "code",
   "execution_count": 8,
   "id": "c10c64db4580a7ee",
   "metadata": {
    "ExecuteTime": {
     "end_time": "2024-08-24T00:15:08.625746Z",
     "start_time": "2024-08-24T00:15:05.487934Z"
    }
   },
   "outputs": [],
   "source": [
    "roles = list(chebi.descendants(\"CHEBI:50906\", [IS_A]))"
   ]
  },
  {
   "cell_type": "markdown",
   "id": "ab80728e19185a45",
   "metadata": {},
   "source": [
    "## Mappings and InChIs\n",
    "\n",
    "Create mappings\n",
    "\n",
    " - `xrefs` of CHEBI ID -> List of Xrefs\n",
    " - `inchis` of CHEBI ID -> InChI"
   ]
  },
  {
   "cell_type": "code",
   "execution_count": 9,
   "id": "9f9bba0c78606429",
   "metadata": {
    "ExecuteTime": {
     "end_time": "2024-08-24T00:14:52.997092Z",
     "start_time": "2024-08-24T00:14:42.377312Z"
    }
   },
   "outputs": [
    {
     "data": {
      "text/plain": [
       "161158"
      ]
     },
     "execution_count": 9,
     "metadata": {},
     "output_type": "execute_result"
    }
   ],
   "source": [
    "# Mappings/xrefs\n",
    "from semsql.sqla.semsql import Statements, HasDbxrefStatement\n",
    "q = session.query(HasDbxrefStatement)\n",
    "xrefs = defaultdict(list)\n",
    "for row in q:\n",
    "    if row.subject.startswith(\"CHEBI:\"):\n",
    "        xrefs[row.subject].append(row.value)\n",
    "\n",
    "# show number of terms that have at least one mapping\n",
    "len(xrefs)"
   ]
  },
  {
   "cell_type": "code",
   "execution_count": 10,
   "id": "8bb68491d1485660",
   "metadata": {
    "ExecuteTime": {
     "end_time": "2024-08-24T00:14:54.898433Z",
     "start_time": "2024-08-24T00:14:53.110918Z"
    }
   },
   "outputs": [
    {
     "data": {
      "text/plain": [
       "177528"
      ]
     },
     "execution_count": 10,
     "metadata": {},
     "output_type": "execute_result"
    }
   ],
   "source": [
    "# InChIs\n",
    "q = session.query(Statements).filter(Statements.predicate == \"obo:chebi/inchi\")\n",
    "inchis = {row.subject: row.value for row in q}\n",
    "\n",
    "# show number of terms that have an InChI\n",
    "len(inchis)"
   ]
  },
  {
   "cell_type": "code",
   "execution_count": 11,
   "id": "12371488c8dad5e6",
   "metadata": {
    "ExecuteTime": {
     "end_time": "2024-08-24T00:14:55.019693Z",
     "start_time": "2024-08-24T00:14:55.016909Z"
    }
   },
   "outputs": [
    {
     "data": {
      "text/plain": [
       "'InChI=1S/C4H8O3.Na/c1-3(5)2-4(6)7;/h3,5H,2H2,1H3,(H,6,7);/q;+1/p-1'"
      ]
     },
     "execution_count": 11,
     "metadata": {},
     "output_type": "execute_result"
    }
   ],
   "source": [
    "# test\n",
    "S3H = \"CHEBI:113373\"\n",
    "inchis[S3H]"
   ]
  },
  {
   "cell_type": "code",
   "execution_count": 12,
   "id": "35dc1d87-26da-4ad7-9f11-c6881016da41",
   "metadata": {},
   "outputs": [],
   "source": [
    "assert all(x.startswith(\"InChI=1S/\") for x in inchis.values())"
   ]
  },
  {
   "cell_type": "code",
   "execution_count": 13,
   "id": "3e324295-38c5-4339-b939-c47f596240b8",
   "metadata": {},
   "outputs": [],
   "source": [
    "assert BETA_AMINO_ACID_ANION not in inchis, \"grouping classes should not have an inchi\""
   ]
  },
  {
   "cell_type": "markdown",
   "id": "9f732c83-0810-43b3-aeef-5b61897cad76",
   "metadata": {},
   "source": [
    "## Create is-a map\n",
    "\n",
    "- `is_a_map` : maps CHEBI ID to direct parent IDs"
   ]
  },
  {
   "cell_type": "code",
   "execution_count": 14,
   "id": "7dbf3c65-4df5-46f9-992c-72f1d6f3fe5f",
   "metadata": {
    "ExecuteTime": {
     "end_time": "2024-08-24T00:15:25.218850Z",
     "start_time": "2024-08-24T00:15:19.687885Z"
    },
    "collapsed": false,
    "jupyter": {
     "outputs_hidden": false
    }
   },
   "outputs": [],
   "source": [
    "is_as = list(chebi.relationships(predicates=[IS_A]))"
   ]
  },
  {
   "cell_type": "code",
   "execution_count": 15,
   "id": "5cd03392-939a-4169-b0b5-90a6cb8b3262",
   "metadata": {
    "ExecuteTime": {
     "end_time": "2024-08-24T00:15:25.362363Z",
     "start_time": "2024-08-24T00:15:25.255263Z"
    },
    "collapsed": false,
    "jupyter": {
     "outputs_hidden": false
    }
   },
   "outputs": [],
   "source": [
    "is_a_map = defaultdict(list)\n",
    "for s, _, o in is_as:\n",
    "    is_a_map[s].append(o)"
   ]
  },
  {
   "cell_type": "markdown",
   "id": "dd021286-9141-49c1-9e52-caef620eb37a",
   "metadata": {},
   "source": [
    "## Fetch Uniprot Synonyms\n",
    "\n",
    "One \"secret\" of CHEBI is that they place biologist-friendly synonyms on the ph 7.3 form. These are tagged \"uniprot\"\n",
    "\n",
    "creates a map:\n",
    "\n",
    " - `bio_syn_map`: CHEBI ID to biologist-friendly term"
   ]
  },
  {
   "cell_type": "code",
   "execution_count": 16,
   "id": "b0f6a321-f821-4f54-8a36-4b9a18997883",
   "metadata": {
    "ExecuteTime": {
     "end_time": "2024-08-24T00:15:38.864654Z",
     "start_time": "2024-08-24T00:15:25.397779Z"
    },
    "collapsed": false,
    "jupyter": {
     "outputs_hidden": false
    }
   },
   "outputs": [],
   "source": [
    "from semsql.sqla.semsql import OwlAxiomAnnotation\n",
    "\n",
    "q = session.query(OwlAxiomAnnotation)\n",
    "axiom_anns = list(q)"
   ]
  },
  {
   "cell_type": "code",
   "execution_count": 17,
   "id": "5fa58cb8-3acb-4ccc-9ef9-2bcb9f6cf932",
   "metadata": {
    "ExecuteTime": {
     "end_time": "2024-08-24T00:15:38.874220Z",
     "start_time": "2024-08-24T00:15:38.870996Z"
    },
    "collapsed": false,
    "jupyter": {
     "outputs_hidden": false
    }
   },
   "outputs": [
    {
     "data": {
      "text/plain": [
       "717222"
      ]
     },
     "execution_count": 17,
     "metadata": {},
     "output_type": "execute_result"
    }
   ],
   "source": [
    "len(axiom_anns)"
   ]
  },
  {
   "cell_type": "code",
   "execution_count": 18,
   "id": "c312aa0d-936a-4ca7-af30-47e168f8744a",
   "metadata": {
    "ExecuteTime": {
     "end_time": "2024-08-24T00:15:39.558412Z",
     "start_time": "2024-08-24T00:15:39.176170Z"
    },
    "collapsed": false,
    "jupyter": {
     "outputs_hidden": false
    }
   },
   "outputs": [],
   "source": [
    "up_axiom_anns = [row for row in axiom_anns if row.annotation_predicate == \"oio:hasDbXref\" and row.annotation_value == \"UniProt\"]"
   ]
  },
  {
   "cell_type": "code",
   "execution_count": 19,
   "id": "fa31d997-ecb2-423b-9780-bb1bf591f5ff",
   "metadata": {
    "ExecuteTime": {
     "end_time": "2024-08-24T00:15:40.260839Z",
     "start_time": "2024-08-24T00:15:39.867494Z"
    },
    "collapsed": false,
    "jupyter": {
     "outputs_hidden": false
    }
   },
   "outputs": [
    {
     "data": {
      "text/plain": [
       "16414"
      ]
     },
     "execution_count": 19,
     "metadata": {},
     "output_type": "execute_result"
    }
   ],
   "source": [
    "bio_syn_map = {row.subject: row.value for row in axiom_anns if row.annotation_predicate == \"oio:hasDbXref\" and row.annotation_value == \"UniProt\"}\n",
    "\n",
    "# number of terms in CHEBI with uniprot/bio synonym\n",
    "len(bio_syn_map)"
   ]
  },
  {
   "cell_type": "code",
   "execution_count": 20,
   "id": "8018d45f-fd42-4b27-bab5-c80b017132a5",
   "metadata": {
    "ExecuteTime": {
     "end_time": "2024-08-24T00:15:40.583435Z",
     "start_time": "2024-08-24T00:15:40.580153Z"
    }
   },
   "outputs": [],
   "source": [
    "assert bio_syn_map[L_CYSTEINE_ZWITTERION] == \"L-cysteine\""
   ]
  },
  {
   "cell_type": "code",
   "execution_count": 21,
   "id": "7a3ca6ea-b9d0-44e9-8672-9e8fc965c01d",
   "metadata": {},
   "outputs": [],
   "source": [
    "# only leaf nodes for ph7.3 terms are included\n",
    "assert CYSTEINE_ZWITTERION not in bio_syn_map\n",
    "assert CYSTEINATE_1_MINUS not in bio_syn_map\n",
    "assert BETA_AMINO_ACID_ANION not in bio_syn_map"
   ]
  },
  {
   "cell_type": "markdown",
   "id": "a56da86f0437f78f",
   "metadata": {},
   "source": [
    "## Non-conjugate Relationships\n",
    "\n",
    " - `preserved_rels_by_subject`: CHEBI ID to list of relationships"
   ]
  },
  {
   "cell_type": "code",
   "execution_count": 22,
   "id": "1b818c23743b2dd8",
   "metadata": {
    "ExecuteTime": {
     "end_time": "2024-08-24T00:14:57.712081Z",
     "start_time": "2024-08-24T00:14:55.137919Z"
    }
   },
   "outputs": [],
   "source": [
    "PMAP = {ENANTIOMER_OF: \"RO:0018039\"}\n",
    "preserved_rels = list(chebi.relationships(predicates=[HAS_PART, HAS_ROLE, ENANTIOMER_OF]))\n",
    "preserved_rels_by_subject = defaultdict(list)\n",
    "for s, p, o in preserved_rels:\n",
    "    p_mapped = PMAP.get(p, p)\n",
    "    preserved_rels_by_subject[s].append((p_mapped, o))"
   ]
  },
  {
   "cell_type": "code",
   "execution_count": 23,
   "id": "724c9caa-fc6c-4826-905c-2e1ed1990d5c",
   "metadata": {},
   "outputs": [
    {
     "data": {
      "text/plain": [
       "28455"
      ]
     },
     "execution_count": 23,
     "metadata": {},
     "output_type": "execute_result"
    }
   ],
   "source": [
    "len(preserved_rels_by_subject)"
   ]
  },
  {
   "cell_type": "code",
   "execution_count": 24,
   "id": "b060dd68-4b13-44f5-bdac-de3bd1a21ed8",
   "metadata": {},
   "outputs": [],
   "source": [
    "assert len(preserved_rels_by_subject) > 20000"
   ]
  },
  {
   "cell_type": "markdown",
   "id": "f7763be85ede7b0a",
   "metadata": {},
   "source": [
    "## Retrieve all Charge States\n",
    "\n",
    "Create a mapping\n",
    "\n",
    "- `charges`: CHEBI ID to integer representing charge state"
   ]
  },
  {
   "cell_type": "code",
   "execution_count": 25,
   "id": "481dce997828261a",
   "metadata": {
    "ExecuteTime": {
     "end_time": "2024-08-24T00:15:00.772525Z",
     "start_time": "2024-08-24T00:14:58.010630Z"
    }
   },
   "outputs": [],
   "source": [
    "from semsql.sqla.semsql import Statements, HasDbxrefStatement\n",
    "\n",
    "session = get_adapter(\"sqlite:obo:chebi\").session\n",
    "q = session.query(Statements).filter(Statements.predicate == \"obo:chebi/charge\")\n",
    "charges = {row.subject: int(row.value) for row in q if row.value is not None}"
   ]
  },
  {
   "cell_type": "code",
   "execution_count": 26,
   "id": "5ee9f24a01966ac0",
   "metadata": {
    "ExecuteTime": {
     "end_time": "2024-08-24T00:15:00.929475Z",
     "start_time": "2024-08-24T00:15:00.926015Z"
    }
   },
   "outputs": [
    {
     "data": {
      "text/plain": [
       "189127"
      ]
     },
     "execution_count": 26,
     "metadata": {},
     "output_type": "execute_result"
    }
   ],
   "source": [
    "len(charges)"
   ]
  },
  {
   "cell_type": "code",
   "execution_count": 27,
   "id": "6c387597c60290a2",
   "metadata": {
    "ExecuteTime": {
     "end_time": "2024-08-24T00:15:01.084503Z",
     "start_time": "2024-08-24T00:15:01.082231Z"
    }
   },
   "outputs": [],
   "source": [
    "assert charges[L_CYSTEINE_ZWITTERION] == 0"
   ]
  },
  {
   "cell_type": "code",
   "execution_count": 28,
   "id": "58b92eac4c3aea65",
   "metadata": {
    "ExecuteTime": {
     "end_time": "2024-08-24T00:15:01.240865Z",
     "start_time": "2024-08-24T00:15:01.238205Z"
    }
   },
   "outputs": [],
   "source": [
    "assert charges[CYSTEINATE_1_MINUS] == -1"
   ]
  },
  {
   "cell_type": "code",
   "execution_count": 29,
   "id": "c55e6cb12a37ea60",
   "metadata": {
    "ExecuteTime": {
     "end_time": "2024-08-24T00:15:01.416184Z",
     "start_time": "2024-08-24T00:15:01.413800Z"
    }
   },
   "outputs": [],
   "source": [
    "assert charges[CITRIC_ACID] == 0"
   ]
  },
  {
   "cell_type": "code",
   "execution_count": 30,
   "id": "e7d7762146973a0e",
   "metadata": {
    "ExecuteTime": {
     "end_time": "2024-08-24T00:15:01.567022Z",
     "start_time": "2024-08-24T00:15:01.564552Z"
    }
   },
   "outputs": [],
   "source": [
    "assert AMINO_ACID_ANION not in charges, \"X anion terms are agnostic to a SPECIFIC charge\""
   ]
  },
  {
   "cell_type": "code",
   "execution_count": 31,
   "id": "980fe7d8-d403-4760-8610-8d22be9dd359",
   "metadata": {},
   "outputs": [],
   "source": [
    "assert BETA_AMINO_ACID_ANION not in charges"
   ]
  },
  {
   "cell_type": "markdown",
   "id": "614292db-22df-4313-96c3-cf0f1ae71eef",
   "metadata": {},
   "source": [
    "## Validate charge states against InChI\n",
    "\n",
    "Ensure that the InChI and the charge are valid.\n",
    "\n",
    "__TODO__: consider using a library such as rdkit for this"
   ]
  },
  {
   "cell_type": "code",
   "execution_count": 32,
   "id": "da085426a91c079a",
   "metadata": {
    "ExecuteTime": {
     "end_time": "2024-08-24T00:15:02.089201Z",
     "start_time": "2024-08-24T00:15:01.723140Z"
    }
   },
   "outputs": [
    {
     "data": {
      "text/plain": [
       "10701"
      ]
     },
     "execution_count": 32,
     "metadata": {},
     "output_type": "execute_result"
    }
   ],
   "source": [
    "# check against inchis\n",
    "inchi_skip = {}\n",
    "charges_by_inchi = {}\n",
    "for id, inchi in inchis.items():\n",
    "    toks = inchi.split(\"/\")\n",
    "    # q is charge\n",
    "    qtoks = [tok for tok in toks if tok.startswith(\"q\")]\n",
    "    if qtoks:\n",
    "        qtok = qtoks[0]\n",
    "        if \";\" in qtok:\n",
    "            qtok = qtok.replace(\";\", \"\")\n",
    "            inchi_skip[id] = qtok\n",
    "            continue\n",
    "        if \"*\" in qtok:\n",
    "            # print(qtok)\n",
    "            mparts= qtok[1:].split(\"*\")\n",
    "            charge = 1\n",
    "            try:\n",
    "                for mpart in mparts:\n",
    "                    charge *= int(mpart)\n",
    "            except:\n",
    "                odd.append(id)\n",
    "                continue\n",
    "        else:\n",
    "            try:\n",
    "                charge = int(qtok[1:])\n",
    "                charges_by_inchi[id] = charge\n",
    "            except:\n",
    "                odd.append(id)\n",
    "                continue\n",
    "    # p is protonation\n",
    "    ptoks = [tok for tok in toks if tok.startswith(\"p\")]\n",
    "    if ptoks and True:\n",
    "        ptok = ptoks[0]\n",
    "        try:\n",
    "            charge = int(ptok[1:])\n",
    "            \n",
    "            if id in charges_by_inchi:\n",
    "                charges_by_inchi[id] = charge + charges_by_inchi[id]\n",
    "            else:\n",
    "                charges_by_inchi[id] = charge\n",
    "        except:\n",
    "            pass\n",
    "\n",
    "# total number of CHEBI terms for which charge can be inferred from InChI\n",
    "len(charges_by_inchi)"
   ]
  },
  {
   "cell_type": "code",
   "execution_count": 33,
   "id": "b46c92961495ac6c",
   "metadata": {
    "ExecuteTime": {
     "end_time": "2024-08-24T00:15:02.260039Z",
     "start_time": "2024-08-24T00:15:02.246482Z"
    }
   },
   "outputs": [
    {
     "data": {
      "text/html": [
       "<div>\n",
       "<style scoped>\n",
       "    .dataframe tbody tr th:only-of-type {\n",
       "        vertical-align: middle;\n",
       "    }\n",
       "\n",
       "    .dataframe tbody tr th {\n",
       "        vertical-align: top;\n",
       "    }\n",
       "\n",
       "    .dataframe thead th {\n",
       "        text-align: right;\n",
       "    }\n",
       "</style>\n",
       "<table border=\"1\" class=\"dataframe\">\n",
       "  <thead>\n",
       "    <tr style=\"text-align: right;\">\n",
       "      <th></th>\n",
       "    </tr>\n",
       "  </thead>\n",
       "  <tbody>\n",
       "  </tbody>\n",
       "</table>\n",
       "</div>"
      ],
      "text/plain": [
       "Empty DataFrame\n",
       "Columns: []\n",
       "Index: []"
      ]
     },
     "execution_count": 33,
     "metadata": {},
     "output_type": "execute_result"
    }
   ],
   "source": [
    "# find all errors/issues\n",
    "\n",
    "errs = []\n",
    "for id, charge in charges_by_inchi.items():\n",
    "    if id not in charges:\n",
    "        errs.append({\"id\": id, \"inchi_charge\": charge, \"asserted_charge\": None, \"type\": \"MISSING\"})\n",
    "    elif charges[id] != charge:\n",
    "        errs.append({\"id\": id, \"inchi_charge\": charge, \"asserted_charge\": charges[id], \"type\": \"MISMATCH\"})\n",
    "\n",
    "cedf = pd.DataFrame(errs)\n",
    "cedf"
   ]
  },
  {
   "cell_type": "markdown",
   "id": "7543f25a-76af-47d7-9590-def03425cad7",
   "metadata": {
    "ExecuteTime": {
     "end_time": "2024-08-24T00:15:02.447896Z",
     "start_time": "2024-08-24T00:15:02.445523Z"
    }
   },
   "source": [
    "As of the last run, this error report is empty, but in previous iterations many errors found"
   ]
  },
  {
   "cell_type": "markdown",
   "id": "9e690eb32a60624",
   "metadata": {},
   "source": [
    "## Find Conjugate Cliques\n",
    "\n",
    "Find all cliques connected by conjugate relationships or `TAUTOMER_OF`\n"
   ]
  },
  {
   "cell_type": "code",
   "execution_count": 34,
   "id": "3cb9284c0f7ba8b1",
   "metadata": {
    "ExecuteTime": {
     "end_time": "2024-08-24T00:15:04.043465Z",
     "start_time": "2024-08-24T00:15:02.471704Z"
    }
   },
   "outputs": [],
   "source": [
    "conjrels = list(chebi.relationships(predicates=[CBO, CAO, TAUTOMER_OF]))\n",
    "\n",
    "conjrels = [(s, p, o) for s, p, o in conjrels if not s in CONJ_EXCLUDES and not o in CONJ_EXCLUDES]\n",
    "\n",
    "assert len(conjrels) > 15000\n",
    "assert len([r for r in conjrels if r[1] == CBO]) > 8000\n",
    "assert len([r for r in conjrels if r[1] == TAUTOMER_OF]) > 1500"
   ]
  },
  {
   "cell_type": "code",
   "execution_count": 35,
   "id": "714c6bdf-f6b6-42c5-9cb8-3e82af7a9a55",
   "metadata": {},
   "outputs": [
    {
     "data": {
      "text/plain": [
       "18992"
      ]
     },
     "execution_count": 35,
     "metadata": {},
     "output_type": "execute_result"
    }
   ],
   "source": [
    "# number of distinct edges/relationsips\n",
    "len(conjrels)"
   ]
  },
  {
   "cell_type": "markdown",
   "id": "932816ea-ee86-41d4-b6fa-94de9f7ab026",
   "metadata": {},
   "source": [
    "Creates a mapping\n",
    "\n",
    "- `conjrels_by_subject`: CHEBI ID to list of relationsips (pred-obj tuples)"
   ]
  },
  {
   "cell_type": "code",
   "execution_count": 36,
   "id": "73446b9fa82786fd",
   "metadata": {
    "ExecuteTime": {
     "end_time": "2024-08-24T00:15:04.218543Z",
     "start_time": "2024-08-24T00:15:04.207737Z"
    }
   },
   "outputs": [],
   "source": [
    "conjrels_by_subject = defaultdict(list)\n",
    "for s, p, o in conjrels:\n",
    "    conjrels_by_subject[s].append((p, o))"
   ]
  },
  {
   "cell_type": "code",
   "execution_count": 37,
   "id": "12ccc4842a4a2204",
   "metadata": {
    "ExecuteTime": {
     "end_time": "2024-08-24T00:15:04.392333Z",
     "start_time": "2024-08-24T00:15:04.390440Z"
    }
   },
   "outputs": [
    {
     "data": {
      "text/plain": [
       "17889"
      ]
     },
     "execution_count": 37,
     "metadata": {},
     "output_type": "execute_result"
    }
   ],
   "source": [
    "# number of CHEBI terms that are subject of a conjrule\n",
    "len(conjrels_by_subject)"
   ]
  },
  {
   "cell_type": "code",
   "execution_count": 38,
   "id": "efb8614663ba2054",
   "metadata": {
    "ExecuteTime": {
     "end_time": "2024-08-24T00:15:04.567047Z",
     "start_time": "2024-08-24T00:15:04.563816Z"
    }
   },
   "outputs": [
    {
     "data": {
      "text/plain": [
       "[('obo:chebi#is_conjugate_acid_of', 'CHEBI:142858'),\n",
       " ('obo:chebi#is_tautomer_of', 'CHEBI:142853')]"
      ]
     },
     "execution_count": 38,
     "metadata": {},
     "output_type": "execute_result"
    }
   ],
   "source": [
    "conjrels_by_subject[\"CHEBI:142854\"]"
   ]
  },
  {
   "cell_type": "code",
   "execution_count": 39,
   "id": "04d85f8d-152c-4546-bac9-fa40ab21c377",
   "metadata": {},
   "outputs": [],
   "source": [
    "assert len(conjrels_by_subject[\"CHEBI:142854\"]) == 2"
   ]
  },
  {
   "cell_type": "markdown",
   "id": "13e159ee4a9c8964",
   "metadata": {},
   "source": [
    "## Calculate conjugate graph and strongly connected components\n",
    "\n",
    "We use networkx to find cliques/components from conjugate/tautomer relationships.\n",
    "\n",
    "We call this `asserted_sccs` as these are asserted in the ontology. This will later be compared with other sources\n",
    "of cliques (ph7.3 mappings, and lexical analysis)"
   ]
  },
  {
   "cell_type": "code",
   "execution_count": 40,
   "id": "5d1bc9a29166f020",
   "metadata": {
    "ExecuteTime": {
     "end_time": "2024-08-24T00:15:04.958411Z",
     "start_time": "2024-08-24T00:15:04.740412Z"
    }
   },
   "outputs": [],
   "source": [
    "from typing import Tuple\n",
    "import networkx as nx\n",
    "# find strongly connected components using cbos\n",
    "\n",
    "def calculate_conj_graph(conjrels: List[Tuple[str, str, str]]) -> nx.DiGraph:\n",
    "    conj_graph = nx.DiGraph()\n",
    "    for s, _, o in conjrels:\n",
    "        conj_graph.add_edge(s, o)\n",
    "        conj_graph.add_edge(o, s)\n",
    "    return conj_graph\n",
    "\n",
    "conj_graph = calculate_conj_graph(conjrels)\n",
    "sccs = list(nx.strongly_connected_components(conj_graph))\n",
    "asserted_sccs = sccs\n",
    "\n",
    "\n"
   ]
  },
  {
   "cell_type": "code",
   "execution_count": 41,
   "id": "a0fb3be95eeb9eec",
   "metadata": {
    "ExecuteTime": {
     "end_time": "2024-08-24T00:15:05.135196Z",
     "start_time": "2024-08-24T00:15:05.132019Z"
    }
   },
   "outputs": [
    {
     "data": {
      "text/plain": [
       "8555"
      ]
     },
     "execution_count": 41,
     "metadata": {},
     "output_type": "execute_result"
    }
   ],
   "source": [
    "# number of distinct components\n",
    "len(asserted_sccs)"
   ]
  },
  {
   "cell_type": "code",
   "execution_count": 42,
   "id": "1472c689-732c-4f4f-afe6-fc1f6f648eb7",
   "metadata": {},
   "outputs": [],
   "source": [
    "assert len(sccs) > 8000"
   ]
  },
  {
   "cell_type": "markdown",
   "id": "9ee81183-320e-4fc1-b11c-9214739d37e4",
   "metadata": {},
   "source": [
    "## Compare conj rels to inchis"
   ]
  },
  {
   "cell_type": "code",
   "execution_count": 43,
   "id": "d0183475-b0a4-4093-864c-f1e9d60b9651",
   "metadata": {},
   "outputs": [],
   "source": [
    "def get_string_diff(str1: str, str2: str) -> tuple[str, str]:\n",
    "    \"\"\"\n",
    "    Find the differences between two strings after their common prefix using binary search.\n",
    "    Returns a tuple of (str1_suffix, str2_suffix) after the common prefix.\n",
    "    Time complexity: O(log n) where n is the length of the shorter string.\n",
    "    \n",
    "    Example:\n",
    "        get_string_diff('abc123', 'abcXY') -> ('123', 'XY')\n",
    "        get_string_diff('test-v1', 'test-v2') -> ('1', '2')\n",
    "        get_string_diff('same', 'same') -> ('', '')\n",
    "    \"\"\"\n",
    "    def find_first_difference(left: int, right: int) -> int:\n",
    "        \"\"\"Binary search to find the first position where strings differ.\"\"\"\n",
    "        if left >= right:\n",
    "            return left\n",
    "            \n",
    "        mid = (left + right) // 2\n",
    "        \n",
    "        # If characters at mid are same, first difference must be after mid\n",
    "        if mid < len(str1) and mid < len(str2) and str1[mid] == str2[mid]:\n",
    "            return find_first_difference(mid + 1, right)\n",
    "        \n",
    "        # If different or one string ended, first difference must be at or before mid\n",
    "        return find_first_difference(left, mid)\n",
    "    \n",
    "    # Find position of first difference\n",
    "    pos = find_first_difference(0, min(len(str1), len(str2)))\n",
    "    \n",
    "    return str1[pos:], str2[pos:]\n",
    "\n",
    "assert get_string_diff('abc123', 'abcXY') == ('123', 'XY')"
   ]
  },
  {
   "cell_type": "code",
   "execution_count": 44,
   "id": "da0c372c-4e80-4591-be49-331e82ffc0fd",
   "metadata": {},
   "outputs": [
    {
     "name": "stdout",
     "output_type": "stream",
     "text": [
      "All test cases passed!\n"
     ]
    }
   ],
   "source": [
    "def strip_protonation_state(inchi: str) -> str:\n",
    "    \"\"\"\n",
    "    Strip the protonation state component (p+n or p-n) from an InChI string.\n",
    "    \n",
    "    Args:\n",
    "        inchi (str): Input InChI string\n",
    "        \n",
    "    Returns:\n",
    "        str: InChI string with protonation state removed\n",
    "        \n",
    "    Examples:\n",
    "        >>> strip_protonation_state(\"InChI=1S/C9H8O4/c1-6(10)13-8-5-7(11)3-2-4-9(8)12/h2-5,11-12H,1H3/p-1\")\n",
    "        'InChI=1S/C9H8O4/c1-6(10)13-8-5-7(11)3-2-4-9(8)12/h2-5,11-12H,1H3'\n",
    "        \n",
    "        >>> strip_protonation_state(\"InChI=1S/C6H5NO2/c8-7(9)6-4-2-1-3-5-6/h1-5H/p+1\")\n",
    "        'InChI=1S/C6H5NO2/c8-7(9)6-4-2-1-3-5-6/h1-5H'\n",
    "    \"\"\"\n",
    "    # Split InChI into layers\n",
    "    layers = inchi.split('/')\n",
    "    \n",
    "    # Remove protonation state layer if present\n",
    "    filtered_layers = [layer for layer in layers if not layer.startswith('p')]\n",
    "    prot_layers = [layer for layer in layers if layer.startswith('p')]\n",
    "    \n",
    "    # Rejoin layers\n",
    "    return '/'.join(filtered_layers), prot_layers[0] if prot_layers else None\n",
    "\n",
    "# Test cases\n",
    "def test_strip_protonation_state():\n",
    "    test_cases = [\n",
    "        (\n",
    "            \"InChI=1S/C9H8O4/c1-6(10)13-8-5-7(11)3-2-4-9(8)12/h2-5,11-12H,1H3/p-1\",\n",
    "            \"InChI=1S/C9H8O4/c1-6(10)13-8-5-7(11)3-2-4-9(8)12/h2-5,11-12H,1H3\"\n",
    "        ),\n",
    "        (\n",
    "            \"InChI=1S/C6H5NO2/c8-7(9)6-4-2-1-3-5-6/h1-5H/p+1\",\n",
    "            \"InChI=1S/C6H5NO2/c8-7(9)6-4-2-1-3-5-6/h1-5H\"\n",
    "        ),\n",
    "        (\n",
    "            \"InChI=1S/C6H6/c1-2-4-6-5-3-1/h1-6H\",  # No protonation state\n",
    "            \"InChI=1S/C6H6/c1-2-4-6-5-3-1/h1-6H\"\n",
    "        )\n",
    "    ]\n",
    "    \n",
    "    for input_inchi, expected_output in test_cases:\n",
    "        result, _ = strip_protonation_state(input_inchi)\n",
    "        assert result == expected_output, f\"\\nExpected: {expected_output}\\nGot: {result}\"\n",
    "        \n",
    "    print(\"All test cases passed!\")\n",
    "\n",
    "test_strip_protonation_state()"
   ]
  },
  {
   "cell_type": "code",
   "execution_count": 45,
   "id": "1e6d17f4-7b88-4943-b6ee-7ada178dcb45",
   "metadata": {},
   "outputs": [
    {
     "data": {
      "text/html": [
       "<div>\n",
       "<style scoped>\n",
       "    .dataframe tbody tr th:only-of-type {\n",
       "        vertical-align: middle;\n",
       "    }\n",
       "\n",
       "    .dataframe tbody tr th {\n",
       "        vertical-align: top;\n",
       "    }\n",
       "\n",
       "    .dataframe thead th {\n",
       "        text-align: right;\n",
       "    }\n",
       "</style>\n",
       "<table border=\"1\" class=\"dataframe\">\n",
       "  <thead>\n",
       "    <tr style=\"text-align: right;\">\n",
       "      <th></th>\n",
       "      <th>p</th>\n",
       "      <th>s</th>\n",
       "      <th>o</th>\n",
       "      <th>diff</th>\n",
       "      <th>state_s</th>\n",
       "      <th>state_o</th>\n",
       "      <th>matches</th>\n",
       "    </tr>\n",
       "  </thead>\n",
       "  <tbody>\n",
       "    <tr>\n",
       "      <th>0</th>\n",
       "      <td>obo:chebi#is_conjugate_acid_of</td>\n",
       "      <td>CHEBI:100147</td>\n",
       "      <td>CHEBI:62070</td>\n",
       "      <td>(, /p-1)</td>\n",
       "      <td>None</td>\n",
       "      <td>p-1</td>\n",
       "      <td>True</td>\n",
       "    </tr>\n",
       "    <tr>\n",
       "      <th>1</th>\n",
       "      <td>obo:chebi#is_conjugate_acid_of</td>\n",
       "      <td>CHEBI:100148</td>\n",
       "      <td>CHEBI:87985</td>\n",
       "      <td>(, /p-3)</td>\n",
       "      <td>None</td>\n",
       "      <td>p-3</td>\n",
       "      <td>True</td>\n",
       "    </tr>\n",
       "    <tr>\n",
       "      <th>2</th>\n",
       "      <td>obo:chebi#is_conjugate_base_of</td>\n",
       "      <td>CHEBI:100241</td>\n",
       "      <td>CHEBI:192486</td>\n",
       "      <td>(, /p+1)</td>\n",
       "      <td>None</td>\n",
       "      <td>p+1</td>\n",
       "      <td>True</td>\n",
       "    </tr>\n",
       "    <tr>\n",
       "      <th>3</th>\n",
       "      <td>obo:chebi#is_tautomer_of</td>\n",
       "      <td>CHEBI:100241</td>\n",
       "      <td>CHEBI:192484</td>\n",
       "      <td>(, )</td>\n",
       "      <td>None</td>\n",
       "      <td>None</td>\n",
       "      <td>True</td>\n",
       "    </tr>\n",
       "    <tr>\n",
       "      <th>4</th>\n",
       "      <td>obo:chebi#is_conjugate_acid_of</td>\n",
       "      <td>CHEBI:10043</td>\n",
       "      <td>CHEBI:78338</td>\n",
       "      <td>(, /p-1)</td>\n",
       "      <td>None</td>\n",
       "      <td>p-1</td>\n",
       "      <td>True</td>\n",
       "    </tr>\n",
       "    <tr>\n",
       "      <th>...</th>\n",
       "      <td>...</td>\n",
       "      <td>...</td>\n",
       "      <td>...</td>\n",
       "      <td>...</td>\n",
       "      <td>...</td>\n",
       "      <td>...</td>\n",
       "      <td>...</td>\n",
       "    </tr>\n",
       "    <tr>\n",
       "      <th>16541</th>\n",
       "      <td>obo:chebi#is_conjugate_acid_of</td>\n",
       "      <td>CHEBI:9907</td>\n",
       "      <td>CHEBI:78604</td>\n",
       "      <td>(t14-,15+,16-,17-,18+,19+,20+,22+,23+,24-/m1/s...</td>\n",
       "      <td>None</td>\n",
       "      <td>p-1</td>\n",
       "      <td>True</td>\n",
       "    </tr>\n",
       "    <tr>\n",
       "      <th>16542</th>\n",
       "      <td>obo:chebi#is_conjugate_acid_of</td>\n",
       "      <td>CHEBI:9921</td>\n",
       "      <td>CHEBI:68626</td>\n",
       "      <td>(b11-8+/t9-,12+,13-/m1/s1, p-1/b11-8+/t9-,12+,...</td>\n",
       "      <td>None</td>\n",
       "      <td>p-1</td>\n",
       "      <td>True</td>\n",
       "    </tr>\n",
       "    <tr>\n",
       "      <th>16543</th>\n",
       "      <td>obo:chebi#is_conjugate_base_of</td>\n",
       "      <td>CHEBI:994</td>\n",
       "      <td>CHEBI:77612</td>\n",
       "      <td>(, )</td>\n",
       "      <td>p-2</td>\n",
       "      <td>p-1</td>\n",
       "      <td>True</td>\n",
       "    </tr>\n",
       "    <tr>\n",
       "      <th>16544</th>\n",
       "      <td>obo:chebi#is_conjugate_base_of</td>\n",
       "      <td>CHEBI:994</td>\n",
       "      <td>CHEBI:995</td>\n",
       "      <td>(p-2/b2-1-,5-4-, b2-1-,5-4-)</td>\n",
       "      <td>p-2</td>\n",
       "      <td>None</td>\n",
       "      <td>True</td>\n",
       "    </tr>\n",
       "    <tr>\n",
       "      <th>16545</th>\n",
       "      <td>obo:chebi#is_conjugate_acid_of</td>\n",
       "      <td>CHEBI:995</td>\n",
       "      <td>CHEBI:994</td>\n",
       "      <td>(b2-1-,5-4-, p-2/b2-1-,5-4-)</td>\n",
       "      <td>None</td>\n",
       "      <td>p-2</td>\n",
       "      <td>True</td>\n",
       "    </tr>\n",
       "  </tbody>\n",
       "</table>\n",
       "<p>16546 rows × 7 columns</p>\n",
       "</div>"
      ],
      "text/plain": [
       "                                    p             s             o  \\\n",
       "0      obo:chebi#is_conjugate_acid_of  CHEBI:100147   CHEBI:62070   \n",
       "1      obo:chebi#is_conjugate_acid_of  CHEBI:100148   CHEBI:87985   \n",
       "2      obo:chebi#is_conjugate_base_of  CHEBI:100241  CHEBI:192486   \n",
       "3            obo:chebi#is_tautomer_of  CHEBI:100241  CHEBI:192484   \n",
       "4      obo:chebi#is_conjugate_acid_of   CHEBI:10043   CHEBI:78338   \n",
       "...                               ...           ...           ...   \n",
       "16541  obo:chebi#is_conjugate_acid_of    CHEBI:9907   CHEBI:78604   \n",
       "16542  obo:chebi#is_conjugate_acid_of    CHEBI:9921   CHEBI:68626   \n",
       "16543  obo:chebi#is_conjugate_base_of     CHEBI:994   CHEBI:77612   \n",
       "16544  obo:chebi#is_conjugate_base_of     CHEBI:994     CHEBI:995   \n",
       "16545  obo:chebi#is_conjugate_acid_of     CHEBI:995     CHEBI:994   \n",
       "\n",
       "                                                    diff state_s state_o  \\\n",
       "0                                               (, /p-1)    None     p-1   \n",
       "1                                               (, /p-3)    None     p-3   \n",
       "2                                               (, /p+1)    None     p+1   \n",
       "3                                                   (, )    None    None   \n",
       "4                                               (, /p-1)    None     p-1   \n",
       "...                                                  ...     ...     ...   \n",
       "16541  (t14-,15+,16-,17-,18+,19+,20+,22+,23+,24-/m1/s...    None     p-1   \n",
       "16542  (b11-8+/t9-,12+,13-/m1/s1, p-1/b11-8+/t9-,12+,...    None     p-1   \n",
       "16543                                               (, )     p-2     p-1   \n",
       "16544                       (p-2/b2-1-,5-4-, b2-1-,5-4-)     p-2    None   \n",
       "16545                       (b2-1-,5-4-, p-2/b2-1-,5-4-)    None     p-2   \n",
       "\n",
       "       matches  \n",
       "0         True  \n",
       "1         True  \n",
       "2         True  \n",
       "3         True  \n",
       "4         True  \n",
       "...        ...  \n",
       "16541     True  \n",
       "16542     True  \n",
       "16543     True  \n",
       "16544     True  \n",
       "16545     True  \n",
       "\n",
       "[16546 rows x 7 columns]"
      ]
     },
     "execution_count": 45,
     "metadata": {},
     "output_type": "execute_result"
    }
   ],
   "source": [
    "rows = []\n",
    "no_inchis = set()\n",
    "bad = []\n",
    "for s, p, o in conjrels:\n",
    "    if s not in inchis:\n",
    "        no_inchis.add(s)\n",
    "        continue\n",
    "    if o not in inchis:\n",
    "        no_inchis.add(o)\n",
    "        continue\n",
    "    inchi_s = inchis[s]\n",
    "    inchi_o = inchis[o]\n",
    "    diff = get_string_diff(inchi_s, inchi_o)\n",
    "    deprot_s, ps_s = strip_protonation_state(inchi_s)\n",
    "    deprot_o, ps_o = strip_protonation_state(inchi_o)\n",
    "    matches = deprot_s == deprot_o\n",
    "    rows.append({\"p\": p, \"s\": s, \"o\": o, \"diff\": diff, \"state_s\": ps_s, \"state_o\": ps_o, \"matches\": matches})\n",
    "    if not matches:\n",
    "        bad.append(rows[-1])\n",
    "diff_df = pd.DataFrame(rows)\n",
    "diff_df.to_csv(\"tmp/inchi_conj_diff.csv\", index=False)\n",
    "diff_df  "
   ]
  },
  {
   "cell_type": "code",
   "execution_count": 46,
   "id": "74bb4a89-6a45-401c-99a2-aee36330af87",
   "metadata": {},
   "outputs": [
    {
     "data": {
      "text/html": [
       "<div>\n",
       "<style scoped>\n",
       "    .dataframe tbody tr th:only-of-type {\n",
       "        vertical-align: middle;\n",
       "    }\n",
       "\n",
       "    .dataframe tbody tr th {\n",
       "        vertical-align: top;\n",
       "    }\n",
       "\n",
       "    .dataframe thead th {\n",
       "        text-align: right;\n",
       "    }\n",
       "</style>\n",
       "<table border=\"1\" class=\"dataframe\">\n",
       "  <thead>\n",
       "    <tr style=\"text-align: right;\">\n",
       "      <th></th>\n",
       "      <th>p</th>\n",
       "      <th>s</th>\n",
       "      <th>o</th>\n",
       "      <th>diff</th>\n",
       "      <th>state_s</th>\n",
       "      <th>state_o</th>\n",
       "      <th>matches</th>\n",
       "    </tr>\n",
       "  </thead>\n",
       "  <tbody>\n",
       "    <tr>\n",
       "      <th>7</th>\n",
       "      <td>obo:chebi#is_tautomer_of</td>\n",
       "      <td>CHEBI:10057</td>\n",
       "      <td>CHEBI:36441</td>\n",
       "      <td>(8H,9H2, 3,5-9H,4H2)</td>\n",
       "      <td>None</td>\n",
       "      <td>None</td>\n",
       "      <td>False</td>\n",
       "    </tr>\n",
       "    <tr>\n",
       "      <th>8</th>\n",
       "      <td>obo:chebi#is_tautomer_of</td>\n",
       "      <td>CHEBI:10057</td>\n",
       "      <td>CHEBI:36442</td>\n",
       "      <td>(8H,9H2, 9,12H)</td>\n",
       "      <td>None</td>\n",
       "      <td>None</td>\n",
       "      <td>False</td>\n",
       "    </tr>\n",
       "    <tr>\n",
       "      <th>19</th>\n",
       "      <td>obo:chebi#is_tautomer_of</td>\n",
       "      <td>CHEBI:10365</td>\n",
       "      <td>CHEBI:17233</td>\n",
       "      <td>(/m0/s1, 12-/t16-/m0/s1)</td>\n",
       "      <td>None</td>\n",
       "      <td>None</td>\n",
       "      <td>False</td>\n",
       "    </tr>\n",
       "    <tr>\n",
       "      <th>45</th>\n",
       "      <td>obo:chebi#is_conjugate_acid_of</td>\n",
       "      <td>CHEBI:11041</td>\n",
       "      <td>CHEBI:57255</td>\n",
       "      <td>(-4H,1-2H2,(H,9,10)(H,7,8,11)/t4-/m0/s1, H,1-2...</td>\n",
       "      <td>None</td>\n",
       "      <td>p-1</td>\n",
       "      <td>False</td>\n",
       "    </tr>\n",
       "    <tr>\n",
       "      <th>83</th>\n",
       "      <td>obo:chebi#is_tautomer_of</td>\n",
       "      <td>CHEBI:1162</td>\n",
       "      <td>CHEBI:82686</td>\n",
       "      <td>(,5-3-, )</td>\n",
       "      <td>None</td>\n",
       "      <td>None</td>\n",
       "      <td>False</td>\n",
       "    </tr>\n",
       "    <tr>\n",
       "      <th>...</th>\n",
       "      <td>...</td>\n",
       "      <td>...</td>\n",
       "      <td>...</td>\n",
       "      <td>...</td>\n",
       "      <td>...</td>\n",
       "      <td>...</td>\n",
       "      <td>...</td>\n",
       "    </tr>\n",
       "    <tr>\n",
       "      <th>16489</th>\n",
       "      <td>obo:chebi#is_conjugate_acid_of</td>\n",
       "      <td>CHEBI:91291</td>\n",
       "      <td>CHEBI:90857</td>\n",
       "      <td>(,31H,1,10-11H2,2-7H3,(H3,36,37,38,39,40,41,42...</td>\n",
       "      <td>p-2</td>\n",
       "      <td>p-3</td>\n",
       "      <td>False</td>\n",
       "    </tr>\n",
       "    <tr>\n",
       "      <th>16497</th>\n",
       "      <td>obo:chebi#is_tautomer_of</td>\n",
       "      <td>CHEBI:915</td>\n",
       "      <td>CHEBI:73089</td>\n",
       "      <td>(3-4,8-9H,1-2H2,(H,10,11)(H,12,13), 4,8H,1-3H2...</td>\n",
       "      <td>None</td>\n",
       "      <td>None</td>\n",
       "      <td>False</td>\n",
       "    </tr>\n",
       "    <tr>\n",
       "      <th>16511</th>\n",
       "      <td>obo:chebi#is_tautomer_of</td>\n",
       "      <td>CHEBI:93166</td>\n",
       "      <td>CHEBI:44401</td>\n",
       "      <td>(4H,5H2, 5,12H)</td>\n",
       "      <td>None</td>\n",
       "      <td>None</td>\n",
       "      <td>False</td>\n",
       "    </tr>\n",
       "    <tr>\n",
       "      <th>16514</th>\n",
       "      <td>obo:chebi#is_conjugate_acid_of</td>\n",
       "      <td>CHEBI:9328</td>\n",
       "      <td>CHEBI:33127</td>\n",
       "      <td>(10N4O2S/c11-8-2-4-9(5-3-8)17(15,16)14-10-12-6...</td>\n",
       "      <td>None</td>\n",
       "      <td>None</td>\n",
       "      <td>False</td>\n",
       "    </tr>\n",
       "    <tr>\n",
       "      <th>16522</th>\n",
       "      <td>obo:chebi#is_conjugate_acid_of</td>\n",
       "      <td>CHEBI:9440</td>\n",
       "      <td>CHEBI:136842</td>\n",
       "      <td>(7-8H,4H2,1-3H3,(H,11,14)/t5-,7?,8-/m0/s1, 8H,...</td>\n",
       "      <td>None</td>\n",
       "      <td>None</td>\n",
       "      <td>False</td>\n",
       "    </tr>\n",
       "  </tbody>\n",
       "</table>\n",
       "<p>854 rows × 7 columns</p>\n",
       "</div>"
      ],
      "text/plain": [
       "                                    p            s             o  \\\n",
       "7            obo:chebi#is_tautomer_of  CHEBI:10057   CHEBI:36441   \n",
       "8            obo:chebi#is_tautomer_of  CHEBI:10057   CHEBI:36442   \n",
       "19           obo:chebi#is_tautomer_of  CHEBI:10365   CHEBI:17233   \n",
       "45     obo:chebi#is_conjugate_acid_of  CHEBI:11041   CHEBI:57255   \n",
       "83           obo:chebi#is_tautomer_of   CHEBI:1162   CHEBI:82686   \n",
       "...                               ...          ...           ...   \n",
       "16489  obo:chebi#is_conjugate_acid_of  CHEBI:91291   CHEBI:90857   \n",
       "16497        obo:chebi#is_tautomer_of    CHEBI:915   CHEBI:73089   \n",
       "16511        obo:chebi#is_tautomer_of  CHEBI:93166   CHEBI:44401   \n",
       "16514  obo:chebi#is_conjugate_acid_of   CHEBI:9328   CHEBI:33127   \n",
       "16522  obo:chebi#is_conjugate_acid_of   CHEBI:9440  CHEBI:136842   \n",
       "\n",
       "                                                    diff state_s state_o  \\\n",
       "7                                   (8H,9H2, 3,5-9H,4H2)    None    None   \n",
       "8                                        (8H,9H2, 9,12H)    None    None   \n",
       "19                              (/m0/s1, 12-/t16-/m0/s1)    None    None   \n",
       "45     (-4H,1-2H2,(H,9,10)(H,7,8,11)/t4-/m0/s1, H,1-2...    None     p-1   \n",
       "83                                             (,5-3-, )    None    None   \n",
       "...                                                  ...     ...     ...   \n",
       "16489  (,31H,1,10-11H2,2-7H3,(H3,36,37,38,39,40,41,42...     p-2     p-3   \n",
       "16497  (3-4,8-9H,1-2H2,(H,10,11)(H,12,13), 4,8H,1-3H2...    None    None   \n",
       "16511                                    (4H,5H2, 5,12H)    None    None   \n",
       "16514  (10N4O2S/c11-8-2-4-9(5-3-8)17(15,16)14-10-12-6...    None    None   \n",
       "16522  (7-8H,4H2,1-3H3,(H,11,14)/t5-,7?,8-/m0/s1, 8H,...    None    None   \n",
       "\n",
       "       matches  \n",
       "7        False  \n",
       "8        False  \n",
       "19       False  \n",
       "45       False  \n",
       "83       False  \n",
       "...        ...  \n",
       "16489    False  \n",
       "16497    False  \n",
       "16511    False  \n",
       "16514    False  \n",
       "16522    False  \n",
       "\n",
       "[854 rows x 7 columns]"
      ]
     },
     "execution_count": 46,
     "metadata": {},
     "output_type": "execute_result"
    }
   ],
   "source": [
    "diff_df[diff_df[\"matches\"] == False]"
   ]
  },
  {
   "cell_type": "code",
   "execution_count": 47,
   "id": "44a11a97-daf0-45bb-af70-803344e46bb5",
   "metadata": {},
   "outputs": [
    {
     "data": {
      "text/html": [
       "<div>\n",
       "<style scoped>\n",
       "    .dataframe tbody tr th:only-of-type {\n",
       "        vertical-align: middle;\n",
       "    }\n",
       "\n",
       "    .dataframe tbody tr th {\n",
       "        vertical-align: top;\n",
       "    }\n",
       "\n",
       "    .dataframe thead th {\n",
       "        text-align: right;\n",
       "    }\n",
       "</style>\n",
       "<table border=\"1\" class=\"dataframe\">\n",
       "  <thead>\n",
       "    <tr style=\"text-align: right;\">\n",
       "      <th></th>\n",
       "      <th>p</th>\n",
       "      <th>state_s</th>\n",
       "      <th>state_o</th>\n",
       "      <th>matches</th>\n",
       "      <th>count</th>\n",
       "    </tr>\n",
       "  </thead>\n",
       "  <tbody>\n",
       "    <tr>\n",
       "      <th>10</th>\n",
       "      <td>obo:chebi#is_conjugate_acid_of</td>\n",
       "      <td>p-1</td>\n",
       "      <td>p-2</td>\n",
       "      <td>True</td>\n",
       "      <td>150</td>\n",
       "    </tr>\n",
       "    <tr>\n",
       "      <th>54</th>\n",
       "      <td>obo:chebi#is_conjugate_base_of</td>\n",
       "      <td>p-2</td>\n",
       "      <td>p-1</td>\n",
       "      <td>True</td>\n",
       "      <td>150</td>\n",
       "    </tr>\n",
       "    <tr>\n",
       "      <th>21</th>\n",
       "      <td>obo:chebi#is_conjugate_acid_of</td>\n",
       "      <td>p-2</td>\n",
       "      <td>p-3</td>\n",
       "      <td>True</td>\n",
       "      <td>37</td>\n",
       "    </tr>\n",
       "    <tr>\n",
       "      <th>59</th>\n",
       "      <td>obo:chebi#is_conjugate_base_of</td>\n",
       "      <td>p-3</td>\n",
       "      <td>p-2</td>\n",
       "      <td>True</td>\n",
       "      <td>37</td>\n",
       "    </tr>\n",
       "    <tr>\n",
       "      <th>86</th>\n",
       "      <td>obo:chebi#is_tautomer_of</td>\n",
       "      <td>p-1</td>\n",
       "      <td>p-1</td>\n",
       "      <td>True</td>\n",
       "      <td>32</td>\n",
       "    </tr>\n",
       "    <tr>\n",
       "      <th>...</th>\n",
       "      <td>...</td>\n",
       "      <td>...</td>\n",
       "      <td>...</td>\n",
       "      <td>...</td>\n",
       "      <td>...</td>\n",
       "    </tr>\n",
       "    <tr>\n",
       "      <th>43</th>\n",
       "      <td>obo:chebi#is_conjugate_base_of</td>\n",
       "      <td>p+4</td>\n",
       "      <td>p+5</td>\n",
       "      <td>True</td>\n",
       "      <td>1</td>\n",
       "    </tr>\n",
       "    <tr>\n",
       "      <th>61</th>\n",
       "      <td>obo:chebi#is_conjugate_base_of</td>\n",
       "      <td>p-4</td>\n",
       "      <td>p+1</td>\n",
       "      <td>True</td>\n",
       "      <td>1</td>\n",
       "    </tr>\n",
       "    <tr>\n",
       "      <th>44</th>\n",
       "      <td>obo:chebi#is_conjugate_base_of</td>\n",
       "      <td>p-1</td>\n",
       "      <td>p+1</td>\n",
       "      <td>False</td>\n",
       "      <td>1</td>\n",
       "    </tr>\n",
       "    <tr>\n",
       "      <th>47</th>\n",
       "      <td>obo:chebi#is_conjugate_base_of</td>\n",
       "      <td>p-1</td>\n",
       "      <td>p-1</td>\n",
       "      <td>True</td>\n",
       "      <td>1</td>\n",
       "    </tr>\n",
       "    <tr>\n",
       "      <th>0</th>\n",
       "      <td>obo:chebi#is_conjugate_acid_of</td>\n",
       "      <td>p+1</td>\n",
       "      <td>p-1</td>\n",
       "      <td>False</td>\n",
       "      <td>1</td>\n",
       "    </tr>\n",
       "  </tbody>\n",
       "</table>\n",
       "<p>92 rows × 5 columns</p>\n",
       "</div>"
      ],
      "text/plain": [
       "                                 p state_s state_o  matches  count\n",
       "10  obo:chebi#is_conjugate_acid_of     p-1     p-2     True    150\n",
       "54  obo:chebi#is_conjugate_base_of     p-2     p-1     True    150\n",
       "21  obo:chebi#is_conjugate_acid_of     p-2     p-3     True     37\n",
       "59  obo:chebi#is_conjugate_base_of     p-3     p-2     True     37\n",
       "86        obo:chebi#is_tautomer_of     p-1     p-1     True     32\n",
       "..                             ...     ...     ...      ...    ...\n",
       "43  obo:chebi#is_conjugate_base_of     p+4     p+5     True      1\n",
       "61  obo:chebi#is_conjugate_base_of     p-4     p+1     True      1\n",
       "44  obo:chebi#is_conjugate_base_of     p-1     p+1    False      1\n",
       "47  obo:chebi#is_conjugate_base_of     p-1     p-1     True      1\n",
       "0   obo:chebi#is_conjugate_acid_of     p+1     p-1    False      1\n",
       "\n",
       "[92 rows x 5 columns]"
      ]
     },
     "execution_count": 47,
     "metadata": {},
     "output_type": "execute_result"
    }
   ],
   "source": [
    "diff_summary = diff_df.groupby([\"p\", \"state_s\", \"state_o\", \"matches\"]).size().reset_index(name='count')\n",
    "diff_summary = diff_summary.sort_values('count', ascending=False)\n",
    "diff_summary.to_csv(\"tmp/inchi_conj_diff_summary.csv\", index=False)\n",
    "diff_summary"
   ]
  },
  {
   "cell_type": "code",
   "execution_count": 48,
   "id": "c1784dc6-052f-4d13-a440-3f01eff67a5d",
   "metadata": {},
   "outputs": [],
   "source": [
    "chebi_deprotonated_map = defaultdict(list)\n",
    "for id, inchi in inchis.items():\n",
    "    inchi_deprot, state = strip_protonation_state(inchi)\n",
    "    chebi_deprotonated_map[inchi_deprot].append((id, state))"
   ]
  },
  {
   "cell_type": "code",
   "execution_count": 49,
   "id": "169a3bdc-36cf-4a0a-9707-02acde17f88a",
   "metadata": {},
   "outputs": [
    {
     "data": {
      "text/plain": [
       "168894"
      ]
     },
     "execution_count": 49,
     "metadata": {},
     "output_type": "execute_result"
    }
   ],
   "source": [
    "len(chebi_deprotonated_map)"
   ]
  },
  {
   "cell_type": "code",
   "execution_count": 50,
   "id": "a59fcca5-d6f5-4dac-8e0e-e080922c81b6",
   "metadata": {},
   "outputs": [
    {
     "data": {
      "text/plain": [
       "7286"
      ]
     },
     "execution_count": 50,
     "metadata": {},
     "output_type": "execute_result"
    }
   ],
   "source": [
    "filtered_chebi_deprotonated_map = {k: v for k, v in chebi_deprotonated_map.items() if len(v) > 1 and any(s for _, s in v)}\n",
    "len(filtered_chebi_deprotonated_map)"
   ]
  },
  {
   "cell_type": "markdown",
   "id": "c84b70bcca329c02",
   "metadata": {},
   "source": [
    "## Lexical analysis\n",
    "\n",
    "The CHEBI conjugate relationships are incomplete - here we aim to complete them doing a lexical analysis of the labels.\n",
    "\n",
    "For example,\n",
    "\n",
    "- foo acid anion\n",
    "- foo acid(1-)\n",
    "- foo acid zwitterion\n",
    "\n",
    "should be in a clique\n",
    "\n",
    "This does not work in all cases, so we curate/hardcode an exclusion list"
   ]
  },
  {
   "cell_type": "code",
   "execution_count": 51,
   "id": "5fd4bf68445f7b11",
   "metadata": {
    "ExecuteTime": {
     "end_time": "2024-08-24T00:15:05.313966Z",
     "start_time": "2024-08-24T00:15:05.308375Z"
    }
   },
   "outputs": [
    {
     "data": {
      "text/plain": [
       "{'zwitterion(1-)': -1,\n",
       " 'zwitterion(2-)': -2,\n",
       " 'anion(1-)': -1,\n",
       " 'zwitterion': None,\n",
       " 'anion': (-99, -1),\n",
       " 'cation': (1, 99),\n",
       " 'ion': None,\n",
       " 'ate': None,\n",
       " 'acid': None,\n",
       " '(1+)': 1,\n",
       " '(1-)': -1,\n",
       " '(2+)': 2,\n",
       " '(2-)': -2,\n",
       " '(3+)': 3,\n",
       " '(3-)': -3,\n",
       " '(4+)': 4,\n",
       " '(4-)': -4,\n",
       " '(5+)': 5,\n",
       " '(5-)': -5,\n",
       " '(6+)': 6,\n",
       " '(6-)': -6,\n",
       " '(7+)': 7,\n",
       " '(7-)': -7,\n",
       " '(8+)': 8,\n",
       " '(8-)': -8,\n",
       " '(9+)': 9,\n",
       " '(9-)': -9}"
      ]
     },
     "execution_count": 51,
     "metadata": {},
     "output_type": "execute_result"
    }
   ],
   "source": [
    "# ensure ordering is such that greedy matching works\n",
    "suffixes = {\n",
    "    # odd edge cases - e.g. (2R)-glufosinate zwitterion(1-)\n",
    "    \"zwitterion(1-)\": -1,\n",
    "    \"zwitterion(2-)\": -2,\n",
    "    \"anion(1-)\": -1,\n",
    "    # standard\n",
    "    \"zwitterion\": None, \n",
    "    \"anion\": (-99, -1),\n",
    "    \"cation\": (1, 99), \n",
    "    \"ion\": None, \n",
    "    \"ate\": None,\n",
    "    \"acid\": None,\n",
    "    \n",
    "}\n",
    "for i in range(1, 10):\n",
    "    for sign in [\"+\", \"-\"]:\n",
    "        suffixes[f\"({i}{sign})\"] = int(f\"{sign}{i}\")\n",
    "suffixes"
   ]
  },
  {
   "cell_type": "code",
   "execution_count": 52,
   "id": "8400b3213240d61b",
   "metadata": {
    "ExecuteTime": {
     "end_time": "2024-08-24T00:15:08.804133Z",
     "start_time": "2024-08-24T00:15:08.801675Z"
    }
   },
   "outputs": [],
   "source": [
    "# https://github.com/ebi-chebi/ChEBI/issues/4528\n",
    "EXCLUDE_STEMS = [\"disulfide\", \"tartr\", \"tartar\", \"oxide\", \"oxo\", \"phosph\"]"
   ]
  },
  {
   "cell_type": "code",
   "execution_count": 53,
   "id": "191d0cca5fcbbcaf",
   "metadata": {
    "ExecuteTime": {
     "end_time": "2024-08-24T00:15:14.655659Z",
     "start_time": "2024-08-24T00:15:08.982851Z"
    }
   },
   "outputs": [],
   "source": [
    "from typing import Dict\n",
    "\n",
    "# stem to chem is a mapping between a stem (e.g. \"L-lysine\")\n",
    "# and a dictionary of suffixes to CHEBI IDs\n",
    "stem_to_chem: Dict[str, Dict[str, str]] = {}\n",
    "stem_to_chem = defaultdict(dict)\n",
    "\n",
    "def _norm(label: str) -> str:\n",
    "    # CHEBI is inconsistent, e.g. \"amino-acid\" vs \"amino acid\"\n",
    "    label = label.replace(\"-acid\", \" acid\")\n",
    "    # label = label.replace(\" acid\", \"\")\n",
    "    return label\n",
    "\n",
    "def _de_acid(label: str) -> str:\n",
    "    if label.endswith(\" acid\"):\n",
    "        label = label.replace(\" acid\", \"\")\n",
    "    if label.endswith(\"-acid\"):\n",
    "        label = label.replace(\" acid\", \"\")\n",
    "    if label.endswith(\"ic\"):\n",
    "        label = label.replace(\"ic\", \"\")\n",
    "    if label.endswith(\"ate\"):\n",
    "        label = label.replace(\"ate\", \"\")\n",
    "    return label\n",
    "\n",
    "for id, label in labels.items():\n",
    "    if not label:\n",
    "        # TODO: eliminate non-classes\n",
    "        continue\n",
    "    if id in roles:\n",
    "        continue\n",
    "    label = _norm(label)\n",
    "    for suffix in suffixes.keys():\n",
    "        if label.endswith(suffix):\n",
    "            stem = label.replace(suffix, \"\")\n",
    "            stem = stem.strip()\n",
    "            stem_to_chem[_de_acid(stem)][suffix] = id\n",
    "            break\n",
    "for id, label in labels.items():\n",
    "    if not label:\n",
    "        continue\n",
    "    label = _norm(label)\n",
    "    if label in stem_to_chem:\n",
    "        stem_to_chem[_de_acid(label)][\"\"] = id\n",
    "        \n",
    "for stem in EXCLUDE_STEMS:\n",
    "    if stem in stem_to_chem:\n",
    "        del stem_to_chem[stem]\n",
    "\n",
    "assert len(stem_to_chem) > 30000"
   ]
  },
  {
   "cell_type": "code",
   "execution_count": 54,
   "id": "8655db99a49e3963",
   "metadata": {
    "ExecuteTime": {
     "end_time": "2024-08-24T00:15:14.865774Z",
     "start_time": "2024-08-24T00:15:14.862663Z"
    }
   },
   "outputs": [
    {
     "data": {
      "text/plain": [
       "{'cation': 'CHEBI:33703',\n",
       " 'acid': 'CHEBI:33709',\n",
       " 'zwitterion': 'CHEBI:35238',\n",
       " 'anion': 'CHEBI:37022'}"
      ]
     },
     "execution_count": 54,
     "metadata": {},
     "output_type": "execute_result"
    }
   ],
   "source": [
    "# test this out for some stems\n",
    "\n",
    "stem_to_chem[\"amino\"]"
   ]
  },
  {
   "cell_type": "code",
   "execution_count": 55,
   "id": "18ad460573de1981",
   "metadata": {
    "ExecuteTime": {
     "end_time": "2024-08-24T00:15:15.082133Z",
     "start_time": "2024-08-24T00:15:15.078829Z"
    }
   },
   "outputs": [
    {
     "data": {
      "text/plain": [
       "{}"
      ]
     },
     "execution_count": 55,
     "metadata": {},
     "output_type": "execute_result"
    }
   ],
   "source": [
    "# should be excluded\n",
    "\n",
    "stem_to_chem[\"oxo\"]"
   ]
  },
  {
   "cell_type": "code",
   "execution_count": 56,
   "id": "e9866728e7812eb3",
   "metadata": {
    "ExecuteTime": {
     "end_time": "2024-08-24T00:15:15.354713Z",
     "start_time": "2024-08-24T00:15:15.351237Z"
    }
   },
   "outputs": [
    {
     "data": {
      "text/plain": [
       "{'(4-)': 'CHEBI:132362',\n",
       " 'anion': 'CHEBI:133748',\n",
       " '(3-)': 'CHEBI:16947',\n",
       " 'acid': 'CHEBI:30769',\n",
       " '(1-)': 'CHEBI:35804',\n",
       " '(2-)': 'CHEBI:35808'}"
      ]
     },
     "execution_count": 56,
     "metadata": {},
     "output_type": "execute_result"
    }
   ],
   "source": [
    "stem_to_chem[\"citr\"]"
   ]
  },
  {
   "cell_type": "code",
   "execution_count": 57,
   "id": "218adb893354594a",
   "metadata": {
    "ExecuteTime": {
     "end_time": "2024-08-24T00:15:15.570930Z",
     "start_time": "2024-08-24T00:15:15.568562Z"
    }
   },
   "outputs": [],
   "source": [
    "assert not stem_to_chem[\"citrate\"]"
   ]
  },
  {
   "cell_type": "code",
   "execution_count": 58,
   "id": "7f2dc8de7ba44920",
   "metadata": {
    "ExecuteTime": {
     "end_time": "2024-08-24T00:15:15.782029Z",
     "start_time": "2024-08-24T00:15:15.778272Z"
    }
   },
   "outputs": [
    {
     "data": {
      "text/plain": [
       "{'ate': 'CHEBI:142853',\n",
       " 'zwitterion': 'CHEBI:142854',\n",
       " 'zwitterion(1-)': 'CHEBI:142858'}"
      ]
     },
     "execution_count": 58,
     "metadata": {},
     "output_type": "execute_result"
    }
   ],
   "source": [
    "stem_to_chem[\"(2R)-glufosin\"]"
   ]
  },
  {
   "cell_type": "code",
   "execution_count": 59,
   "id": "4c64ccc7e2241c4c",
   "metadata": {
    "ExecuteTime": {
     "end_time": "2024-08-24T00:15:15.987654Z",
     "start_time": "2024-08-24T00:15:15.985166Z"
    }
   },
   "outputs": [],
   "source": [
    "# ensure edge case of (2R)-glufosinate zwitterion(1-) is taken care of\n",
    "assert not stem_to_chem[\"(2R)-glufosinate zwitterion\"]"
   ]
  },
  {
   "cell_type": "code",
   "execution_count": 60,
   "id": "91405e702f57aac8",
   "metadata": {
    "ExecuteTime": {
     "end_time": "2024-08-24T00:15:16.221660Z",
     "start_time": "2024-08-24T00:15:16.205696Z"
    }
   },
   "outputs": [
    {
     "data": {
      "text/plain": [
       "{'acid': 'CHEBI:33706', 'anion': 'CHEBI:49095'}"
      ]
     },
     "execution_count": 60,
     "metadata": {},
     "output_type": "execute_result"
    }
   ],
   "source": [
    "stem_to_chem[\"beta-amino\"]"
   ]
  },
  {
   "cell_type": "code",
   "execution_count": 61,
   "id": "351b30b2-b84d-4a19-8146-cb4b95670288",
   "metadata": {},
   "outputs": [
    {
     "data": {
      "text/plain": [
       "{}"
      ]
     },
     "execution_count": 61,
     "metadata": {},
     "output_type": "execute_result"
    }
   ],
   "source": [
    "stem_to_chem[\"beta amino\"]"
   ]
  },
  {
   "cell_type": "code",
   "execution_count": null,
   "id": "8c0413a76dcfd32b",
   "metadata": {
    "ExecuteTime": {
     "end_time": "2024-08-24T00:15:16.425579Z",
     "start_time": "2024-08-24T00:15:16.422306Z"
    }
   },
   "outputs": [],
   "source": []
  },
  {
   "cell_type": "markdown",
   "id": "d18ca068f686eb8e",
   "metadata": {},
   "source": [
    "## Analysis: Consistency check between lexically inferred cliques and asserted relationships\n",
    "\n",
    "Some of this is reported here:\n",
    "\n",
    "- https://github.com/ebi-chebi/ChEBI/issues/4524\n"
   ]
  },
  {
   "cell_type": "code",
   "execution_count": 62,
   "id": "f82ad334be85fe9f",
   "metadata": {
    "ExecuteTime": {
     "end_time": "2024-08-24T00:15:16.648206Z",
     "start_time": "2024-08-24T00:15:16.632610Z"
    }
   },
   "outputs": [],
   "source": [
    "import numpy as np\n",
    "\n",
    "NO_REL = \"NO_REL\"\n",
    "INVERSES = {\n",
    "    CBO: CAO,\n",
    "    CAO: CBO,\n",
    "    TAUTOMER_OF: TAUTOMER_OF,\n",
    "    NO_REL: NO_REL\n",
    "}\n",
    "\n",
    "charge_problems = []\n",
    "def make_conjrefs(clique_suffix_dict: dict, stem=None) -> List:\n",
    "    results = []\n",
    "    for suffix1, chem1 in clique_suffix_dict.items():\n",
    "        ch1 = suffixes.get(suffix1, None)\n",
    "        actual_ch1 = charges.get(chem1, None)\n",
    "        chem1_label = labels.get(chem1, chem1)\n",
    "        if isinstance(ch1, int):\n",
    "            if actual_ch1 is None:\n",
    "                charge_problems.append({\"id\": chem1, \"label\": chem1_label, \"expected\": ch1, \"asserted\": None, \"problem\": \"MISSING_CHARGE\"})\n",
    "                # raise ValueError(f\"Missing charge for {chem1}\")\n",
    "            elif ch1 != actual_ch1:\n",
    "                charge_problems.append({\"id\": chem1, \"label\": chem1_label, \"expected\": ch1, \"asserted\": actual_ch1, \"problem\": \"CONFLICTING_CHARGE\"})\n",
    "                # raise ValueError(f\"Charge mismatch for {chem1}: {ch1} vs {actual_ch1}\")\n",
    "        elif isinstance(ch1, tuple):\n",
    "            if actual_ch1 is not None:\n",
    "                if actual_ch1 < ch1[0] or actual_ch1 > ch1[1]:\n",
    "                    charge_problems.append({\"id\": chem1, \"label\": chem1_label, \"expected\": ch1, \"asserted\": actual_ch1, \"problem\": \"OUTSIDE_RANGE\"})\n",
    "                    # raise ValueError(f\"Charge mismatch for {chem1}: {ch1} vs {actual_ch1}\")\n",
    "        rels = conjrels_by_subject.get(chem1, [])\n",
    "        for suffix2, chem2 in clique_suffix_dict.items():\n",
    "            if suffix1 == suffix2:\n",
    "                continue\n",
    "            messages = []\n",
    "            matched_preds = set()\n",
    "            actual_p = \"NO_REL\"\n",
    "            for p, o in rels:\n",
    "                if o == chem2:\n",
    "                    actual_p = p\n",
    "                    matched_preds.add(p)\n",
    "            if len(matched_preds) > 1:\n",
    "                messages.append(f\"Multiple matched preds: {matched_preds}\")\n",
    "            \n",
    "            rev_matched_preds = set()\n",
    "            rels2 = conjrels_by_subject.get(chem2, [])\n",
    "            for p, o in rels2:\n",
    "                if o == chem1:\n",
    "                    inv_p = INVERSES[p]\n",
    "                    rev_matched_preds.add(inv_p)\n",
    "                    if actual_p:\n",
    "                        if inv_p != actual_p:\n",
    "                            messages.append(f\"Preds mismatch: {actual_p} vs {inv_p}\")\n",
    "                    else:\n",
    "                        actual_p = inv_p\n",
    "            if len(rev_matched_preds) > 1:\n",
    "                messages.append(f\"Multiple matched inv preds: {rev_matched_preds}\")\n",
    "            if matched_preds != rev_matched_preds:\n",
    "                messages.append(f\"Preds mismatch: {matched_preds} vs {rev_matched_preds}\")\n",
    "            if messages:\n",
    "                raise ValueError(f\"Error in clique {clique_suffix_dict}: {messages}\")\n",
    "            ch2 = suffixes.get(suffix2, None)\n",
    "            if ch1 is None or ch2 is None:\n",
    "                charge_diff = None\n",
    "                charge_diff_sign = None\n",
    "            else:\n",
    "                if isinstance(ch1, int) and isinstance(ch2, int):\n",
    "                    charge_diff = ch1 - ch2\n",
    "                    charge_diff_sign = np.sign(charge_diff)\n",
    "                elif isinstance(ch1, int) and isinstance(ch2, tuple):\n",
    "                    charge_diff = None\n",
    "                    if ch1 < ch2[0]:\n",
    "                        charge_diff_sign = -1\n",
    "                    elif ch1 > ch2[1]:\n",
    "                        charge_diff_sign = 1\n",
    "                    else:\n",
    "                        charge_diff_sign = 0\n",
    "                elif isinstance(ch1, tuple) and isinstance(ch2, int):\n",
    "                    charge_diff = None\n",
    "                    if ch1[0] < ch2:\n",
    "                        charge_diff_sign = -1\n",
    "                    elif ch1[1] > ch2:\n",
    "                        charge_diff_sign = 1\n",
    "                    else:\n",
    "                        charge_diff_sign = 0\n",
    "                else:\n",
    "                    charge_diff = None\n",
    "                    charge_diff_sign = None\n",
    "            results.append({\"suffix1\": suffix1 or \"NO_SUFFIX\",\n",
    "                            \"suffix2\": suffix2 or \"NO_SUFFIX\",\n",
    "                            \"predicate\": actual_p,\n",
    "                            \"chem1\": chem1,\n",
    "                            \"chem2\": chem2,\n",
    "                            \"charge_diff\": charge_diff,\n",
    "                            \"charge_diff_sign\": charge_diff_sign,\n",
    "                            \"stem\": stem,\n",
    "                            })\n",
    "    return results\n",
    "            \n"
   ]
  },
  {
   "cell_type": "code",
   "execution_count": 63,
   "id": "39f1703c-92ff-49e8-8368-d2329d6eb3b0",
   "metadata": {},
   "outputs": [
    {
     "data": {
      "text/plain": [
       "0"
      ]
     },
     "execution_count": 63,
     "metadata": {},
     "output_type": "execute_result"
    }
   ],
   "source": [
    "# https://github.com/ebi-chebi/ChEBI/issues/4524 -- fixed\n",
    "len(charge_problems)"
   ]
  },
  {
   "cell_type": "code",
   "execution_count": 64,
   "id": "9e0c27f4-d748-4c28-a133-c42a6e4152c1",
   "metadata": {},
   "outputs": [
    {
     "data": {
      "text/html": [
       "<div>\n",
       "<style scoped>\n",
       "    .dataframe tbody tr th:only-of-type {\n",
       "        vertical-align: middle;\n",
       "    }\n",
       "\n",
       "    .dataframe tbody tr th {\n",
       "        vertical-align: top;\n",
       "    }\n",
       "\n",
       "    .dataframe thead th {\n",
       "        text-align: right;\n",
       "    }\n",
       "</style>\n",
       "<table border=\"1\" class=\"dataframe\">\n",
       "  <thead>\n",
       "    <tr style=\"text-align: right;\">\n",
       "      <th></th>\n",
       "      <th>suffix1</th>\n",
       "      <th>suffix2</th>\n",
       "      <th>predicate</th>\n",
       "      <th>chem1</th>\n",
       "      <th>chem2</th>\n",
       "      <th>charge_diff</th>\n",
       "      <th>charge_diff_sign</th>\n",
       "      <th>stem</th>\n",
       "    </tr>\n",
       "  </thead>\n",
       "  <tbody>\n",
       "    <tr>\n",
       "      <th>0</th>\n",
       "      <td>cation</td>\n",
       "      <td>acid</td>\n",
       "      <td>obo:chebi#is_conjugate_acid_of</td>\n",
       "      <td>CHEBI:33703</td>\n",
       "      <td>CHEBI:33709</td>\n",
       "      <td>None</td>\n",
       "      <td>None</td>\n",
       "      <td>None</td>\n",
       "    </tr>\n",
       "    <tr>\n",
       "      <th>1</th>\n",
       "      <td>cation</td>\n",
       "      <td>zwitterion</td>\n",
       "      <td>NO_REL</td>\n",
       "      <td>CHEBI:33703</td>\n",
       "      <td>CHEBI:35238</td>\n",
       "      <td>None</td>\n",
       "      <td>None</td>\n",
       "      <td>None</td>\n",
       "    </tr>\n",
       "    <tr>\n",
       "      <th>2</th>\n",
       "      <td>cation</td>\n",
       "      <td>anion</td>\n",
       "      <td>NO_REL</td>\n",
       "      <td>CHEBI:33703</td>\n",
       "      <td>CHEBI:37022</td>\n",
       "      <td>None</td>\n",
       "      <td>None</td>\n",
       "      <td>None</td>\n",
       "    </tr>\n",
       "    <tr>\n",
       "      <th>3</th>\n",
       "      <td>acid</td>\n",
       "      <td>cation</td>\n",
       "      <td>obo:chebi#is_conjugate_base_of</td>\n",
       "      <td>CHEBI:33709</td>\n",
       "      <td>CHEBI:33703</td>\n",
       "      <td>None</td>\n",
       "      <td>None</td>\n",
       "      <td>None</td>\n",
       "    </tr>\n",
       "    <tr>\n",
       "      <th>4</th>\n",
       "      <td>acid</td>\n",
       "      <td>zwitterion</td>\n",
       "      <td>NO_REL</td>\n",
       "      <td>CHEBI:33709</td>\n",
       "      <td>CHEBI:35238</td>\n",
       "      <td>None</td>\n",
       "      <td>None</td>\n",
       "      <td>None</td>\n",
       "    </tr>\n",
       "    <tr>\n",
       "      <th>5</th>\n",
       "      <td>acid</td>\n",
       "      <td>anion</td>\n",
       "      <td>obo:chebi#is_conjugate_acid_of</td>\n",
       "      <td>CHEBI:33709</td>\n",
       "      <td>CHEBI:37022</td>\n",
       "      <td>None</td>\n",
       "      <td>None</td>\n",
       "      <td>None</td>\n",
       "    </tr>\n",
       "    <tr>\n",
       "      <th>6</th>\n",
       "      <td>zwitterion</td>\n",
       "      <td>cation</td>\n",
       "      <td>NO_REL</td>\n",
       "      <td>CHEBI:35238</td>\n",
       "      <td>CHEBI:33703</td>\n",
       "      <td>None</td>\n",
       "      <td>None</td>\n",
       "      <td>None</td>\n",
       "    </tr>\n",
       "    <tr>\n",
       "      <th>7</th>\n",
       "      <td>zwitterion</td>\n",
       "      <td>acid</td>\n",
       "      <td>NO_REL</td>\n",
       "      <td>CHEBI:35238</td>\n",
       "      <td>CHEBI:33709</td>\n",
       "      <td>None</td>\n",
       "      <td>None</td>\n",
       "      <td>None</td>\n",
       "    </tr>\n",
       "    <tr>\n",
       "      <th>8</th>\n",
       "      <td>zwitterion</td>\n",
       "      <td>anion</td>\n",
       "      <td>NO_REL</td>\n",
       "      <td>CHEBI:35238</td>\n",
       "      <td>CHEBI:37022</td>\n",
       "      <td>None</td>\n",
       "      <td>None</td>\n",
       "      <td>None</td>\n",
       "    </tr>\n",
       "    <tr>\n",
       "      <th>9</th>\n",
       "      <td>anion</td>\n",
       "      <td>cation</td>\n",
       "      <td>NO_REL</td>\n",
       "      <td>CHEBI:37022</td>\n",
       "      <td>CHEBI:33703</td>\n",
       "      <td>None</td>\n",
       "      <td>None</td>\n",
       "      <td>None</td>\n",
       "    </tr>\n",
       "    <tr>\n",
       "      <th>10</th>\n",
       "      <td>anion</td>\n",
       "      <td>acid</td>\n",
       "      <td>obo:chebi#is_conjugate_base_of</td>\n",
       "      <td>CHEBI:37022</td>\n",
       "      <td>CHEBI:33709</td>\n",
       "      <td>None</td>\n",
       "      <td>None</td>\n",
       "      <td>None</td>\n",
       "    </tr>\n",
       "    <tr>\n",
       "      <th>11</th>\n",
       "      <td>anion</td>\n",
       "      <td>zwitterion</td>\n",
       "      <td>NO_REL</td>\n",
       "      <td>CHEBI:37022</td>\n",
       "      <td>CHEBI:35238</td>\n",
       "      <td>None</td>\n",
       "      <td>None</td>\n",
       "      <td>None</td>\n",
       "    </tr>\n",
       "  </tbody>\n",
       "</table>\n",
       "</div>"
      ],
      "text/plain": [
       "       suffix1     suffix2                       predicate        chem1  \\\n",
       "0       cation        acid  obo:chebi#is_conjugate_acid_of  CHEBI:33703   \n",
       "1       cation  zwitterion                          NO_REL  CHEBI:33703   \n",
       "2       cation       anion                          NO_REL  CHEBI:33703   \n",
       "3         acid      cation  obo:chebi#is_conjugate_base_of  CHEBI:33709   \n",
       "4         acid  zwitterion                          NO_REL  CHEBI:33709   \n",
       "5         acid       anion  obo:chebi#is_conjugate_acid_of  CHEBI:33709   \n",
       "6   zwitterion      cation                          NO_REL  CHEBI:35238   \n",
       "7   zwitterion        acid                          NO_REL  CHEBI:35238   \n",
       "8   zwitterion       anion                          NO_REL  CHEBI:35238   \n",
       "9        anion      cation                          NO_REL  CHEBI:37022   \n",
       "10       anion        acid  obo:chebi#is_conjugate_base_of  CHEBI:37022   \n",
       "11       anion  zwitterion                          NO_REL  CHEBI:37022   \n",
       "\n",
       "          chem2 charge_diff charge_diff_sign  stem  \n",
       "0   CHEBI:33709        None             None  None  \n",
       "1   CHEBI:35238        None             None  None  \n",
       "2   CHEBI:37022        None             None  None  \n",
       "3   CHEBI:33703        None             None  None  \n",
       "4   CHEBI:35238        None             None  None  \n",
       "5   CHEBI:37022        None             None  None  \n",
       "6   CHEBI:33703        None             None  None  \n",
       "7   CHEBI:33709        None             None  None  \n",
       "8   CHEBI:37022        None             None  None  \n",
       "9   CHEBI:33703        None             None  None  \n",
       "10  CHEBI:33709        None             None  None  \n",
       "11  CHEBI:35238        None             None  None  "
      ]
     },
     "execution_count": 64,
     "metadata": {},
     "output_type": "execute_result"
    }
   ],
   "source": [
    "# test\n",
    "pd.DataFrame(make_conjrefs(stem_to_chem[\"amino\"]))"
   ]
  },
  {
   "cell_type": "code",
   "execution_count": 65,
   "id": "be092eb65d52d565",
   "metadata": {
    "ExecuteTime": {
     "end_time": "2024-08-24T00:15:16.855047Z",
     "start_time": "2024-08-24T00:15:16.850831Z"
    }
   },
   "outputs": [
    {
     "data": {
      "text/html": [
       "<div>\n",
       "<style scoped>\n",
       "    .dataframe tbody tr th:only-of-type {\n",
       "        vertical-align: middle;\n",
       "    }\n",
       "\n",
       "    .dataframe tbody tr th {\n",
       "        vertical-align: top;\n",
       "    }\n",
       "\n",
       "    .dataframe thead th {\n",
       "        text-align: right;\n",
       "    }\n",
       "</style>\n",
       "<table border=\"1\" class=\"dataframe\">\n",
       "  <thead>\n",
       "    <tr style=\"text-align: right;\">\n",
       "      <th></th>\n",
       "      <th>suffix1</th>\n",
       "      <th>suffix2</th>\n",
       "      <th>predicate</th>\n",
       "      <th>chem1</th>\n",
       "      <th>chem2</th>\n",
       "      <th>charge_diff</th>\n",
       "      <th>charge_diff_sign</th>\n",
       "      <th>stem</th>\n",
       "    </tr>\n",
       "  </thead>\n",
       "  <tbody>\n",
       "    <tr>\n",
       "      <th>0</th>\n",
       "      <td>ate</td>\n",
       "      <td>zwitterion</td>\n",
       "      <td>obo:chebi#is_tautomer_of</td>\n",
       "      <td>CHEBI:142853</td>\n",
       "      <td>CHEBI:142854</td>\n",
       "      <td>None</td>\n",
       "      <td>None</td>\n",
       "      <td>None</td>\n",
       "    </tr>\n",
       "    <tr>\n",
       "      <th>1</th>\n",
       "      <td>ate</td>\n",
       "      <td>zwitterion(1-)</td>\n",
       "      <td>NO_REL</td>\n",
       "      <td>CHEBI:142853</td>\n",
       "      <td>CHEBI:142858</td>\n",
       "      <td>None</td>\n",
       "      <td>None</td>\n",
       "      <td>None</td>\n",
       "    </tr>\n",
       "    <tr>\n",
       "      <th>2</th>\n",
       "      <td>zwitterion</td>\n",
       "      <td>ate</td>\n",
       "      <td>obo:chebi#is_tautomer_of</td>\n",
       "      <td>CHEBI:142854</td>\n",
       "      <td>CHEBI:142853</td>\n",
       "      <td>None</td>\n",
       "      <td>None</td>\n",
       "      <td>None</td>\n",
       "    </tr>\n",
       "    <tr>\n",
       "      <th>3</th>\n",
       "      <td>zwitterion</td>\n",
       "      <td>zwitterion(1-)</td>\n",
       "      <td>obo:chebi#is_conjugate_acid_of</td>\n",
       "      <td>CHEBI:142854</td>\n",
       "      <td>CHEBI:142858</td>\n",
       "      <td>None</td>\n",
       "      <td>None</td>\n",
       "      <td>None</td>\n",
       "    </tr>\n",
       "    <tr>\n",
       "      <th>4</th>\n",
       "      <td>zwitterion(1-)</td>\n",
       "      <td>ate</td>\n",
       "      <td>NO_REL</td>\n",
       "      <td>CHEBI:142858</td>\n",
       "      <td>CHEBI:142853</td>\n",
       "      <td>None</td>\n",
       "      <td>None</td>\n",
       "      <td>None</td>\n",
       "    </tr>\n",
       "    <tr>\n",
       "      <th>5</th>\n",
       "      <td>zwitterion(1-)</td>\n",
       "      <td>zwitterion</td>\n",
       "      <td>obo:chebi#is_conjugate_base_of</td>\n",
       "      <td>CHEBI:142858</td>\n",
       "      <td>CHEBI:142854</td>\n",
       "      <td>None</td>\n",
       "      <td>None</td>\n",
       "      <td>None</td>\n",
       "    </tr>\n",
       "  </tbody>\n",
       "</table>\n",
       "</div>"
      ],
      "text/plain": [
       "          suffix1         suffix2                       predicate  \\\n",
       "0             ate      zwitterion        obo:chebi#is_tautomer_of   \n",
       "1             ate  zwitterion(1-)                          NO_REL   \n",
       "2      zwitterion             ate        obo:chebi#is_tautomer_of   \n",
       "3      zwitterion  zwitterion(1-)  obo:chebi#is_conjugate_acid_of   \n",
       "4  zwitterion(1-)             ate                          NO_REL   \n",
       "5  zwitterion(1-)      zwitterion  obo:chebi#is_conjugate_base_of   \n",
       "\n",
       "          chem1         chem2 charge_diff charge_diff_sign  stem  \n",
       "0  CHEBI:142853  CHEBI:142854        None             None  None  \n",
       "1  CHEBI:142853  CHEBI:142858        None             None  None  \n",
       "2  CHEBI:142854  CHEBI:142853        None             None  None  \n",
       "3  CHEBI:142854  CHEBI:142858        None             None  None  \n",
       "4  CHEBI:142858  CHEBI:142853        None             None  None  \n",
       "5  CHEBI:142858  CHEBI:142854        None             None  None  "
      ]
     },
     "execution_count": 65,
     "metadata": {},
     "output_type": "execute_result"
    }
   ],
   "source": [
    "# test\n",
    "pd.DataFrame(make_conjrefs(stem_to_chem[\"(2R)-glufosin\"]))"
   ]
  },
  {
   "cell_type": "code",
   "execution_count": 66,
   "id": "736527f7-050c-49b1-b0fe-cd63e5e0a5d2",
   "metadata": {},
   "outputs": [],
   "source": [
    "!mkdir -p tmp"
   ]
  },
  {
   "cell_type": "code",
   "execution_count": 67,
   "id": "c5ef02e4ed64a4d3",
   "metadata": {
    "ExecuteTime": {
     "end_time": "2024-08-24T00:15:17.145232Z",
     "start_time": "2024-08-24T00:15:17.060979Z"
    }
   },
   "outputs": [
    {
     "data": {
      "text/html": [
       "<div>\n",
       "<style scoped>\n",
       "    .dataframe tbody tr th:only-of-type {\n",
       "        vertical-align: middle;\n",
       "    }\n",
       "\n",
       "    .dataframe tbody tr th {\n",
       "        vertical-align: top;\n",
       "    }\n",
       "\n",
       "    .dataframe thead th {\n",
       "        text-align: right;\n",
       "    }\n",
       "</style>\n",
       "<table border=\"1\" class=\"dataframe\">\n",
       "  <thead>\n",
       "    <tr style=\"text-align: right;\">\n",
       "      <th></th>\n",
       "      <th>id</th>\n",
       "      <th>label</th>\n",
       "      <th>expected</th>\n",
       "      <th>asserted</th>\n",
       "      <th>problem</th>\n",
       "    </tr>\n",
       "  </thead>\n",
       "  <tbody>\n",
       "    <tr>\n",
       "      <th>0</th>\n",
       "      <td>CHEBI:131605</td>\n",
       "      <td>dicarboxylic acid monoester(1-)</td>\n",
       "      <td>-1</td>\n",
       "      <td>NaN</td>\n",
       "      <td>MISSING_CHARGE</td>\n",
       "    </tr>\n",
       "    <tr>\n",
       "      <th>1</th>\n",
       "      <td>CHEBI:131861</td>\n",
       "      <td>HODE(1-)</td>\n",
       "      <td>-1</td>\n",
       "      <td>NaN</td>\n",
       "      <td>MISSING_CHARGE</td>\n",
       "    </tr>\n",
       "    <tr>\n",
       "      <th>2</th>\n",
       "      <td>CHEBI:131862</td>\n",
       "      <td>HPODE(1-)</td>\n",
       "      <td>-1</td>\n",
       "      <td>NaN</td>\n",
       "      <td>MISSING_CHARGE</td>\n",
       "    </tr>\n",
       "    <tr>\n",
       "      <th>3</th>\n",
       "      <td>CHEBI:131865</td>\n",
       "      <td>EET(1-)</td>\n",
       "      <td>-1</td>\n",
       "      <td>NaN</td>\n",
       "      <td>MISSING_CHARGE</td>\n",
       "    </tr>\n",
       "    <tr>\n",
       "      <th>4</th>\n",
       "      <td>CHEBI:131873</td>\n",
       "      <td>EpETE(1-)</td>\n",
       "      <td>-1</td>\n",
       "      <td>NaN</td>\n",
       "      <td>MISSING_CHARGE</td>\n",
       "    </tr>\n",
       "    <tr>\n",
       "      <th>...</th>\n",
       "      <td>...</td>\n",
       "      <td>...</td>\n",
       "      <td>...</td>\n",
       "      <td>...</td>\n",
       "      <td>...</td>\n",
       "    </tr>\n",
       "    <tr>\n",
       "      <th>161</th>\n",
       "      <td>CHEBI:88287</td>\n",
       "      <td>Durazol blue 4R(3-)</td>\n",
       "      <td>-3</td>\n",
       "      <td>NaN</td>\n",
       "      <td>MISSING_CHARGE</td>\n",
       "    </tr>\n",
       "    <tr>\n",
       "      <th>162</th>\n",
       "      <td>CHEBI:88289</td>\n",
       "      <td>ethyl green(1+)</td>\n",
       "      <td>1</td>\n",
       "      <td>2.0</td>\n",
       "      <td>CONFLICTING_CHARGE</td>\n",
       "    </tr>\n",
       "    <tr>\n",
       "      <th>163</th>\n",
       "      <td>CHEBI:90120</td>\n",
       "      <td>indigo carmine(2-)</td>\n",
       "      <td>-2</td>\n",
       "      <td>NaN</td>\n",
       "      <td>MISSING_CHARGE</td>\n",
       "    </tr>\n",
       "    <tr>\n",
       "      <th>164</th>\n",
       "      <td>CHEBI:90289</td>\n",
       "      <td>Milling yellow 3G(1-)</td>\n",
       "      <td>-1</td>\n",
       "      <td>NaN</td>\n",
       "      <td>MISSING_CHARGE</td>\n",
       "    </tr>\n",
       "    <tr>\n",
       "      <th>165</th>\n",
       "      <td>CHEBI:91239</td>\n",
       "      <td>8-(4-chlorophenylthio)-cGMP(1-)</td>\n",
       "      <td>-1</td>\n",
       "      <td>NaN</td>\n",
       "      <td>MISSING_CHARGE</td>\n",
       "    </tr>\n",
       "  </tbody>\n",
       "</table>\n",
       "<p>166 rows × 5 columns</p>\n",
       "</div>"
      ],
      "text/plain": [
       "               id                            label expected  asserted  \\\n",
       "0    CHEBI:131605  dicarboxylic acid monoester(1-)       -1       NaN   \n",
       "1    CHEBI:131861                         HODE(1-)       -1       NaN   \n",
       "2    CHEBI:131862                        HPODE(1-)       -1       NaN   \n",
       "3    CHEBI:131865                          EET(1-)       -1       NaN   \n",
       "4    CHEBI:131873                        EpETE(1-)       -1       NaN   \n",
       "..            ...                              ...      ...       ...   \n",
       "161   CHEBI:88287              Durazol blue 4R(3-)       -3       NaN   \n",
       "162   CHEBI:88289                  ethyl green(1+)        1       2.0   \n",
       "163   CHEBI:90120               indigo carmine(2-)       -2       NaN   \n",
       "164   CHEBI:90289            Milling yellow 3G(1-)       -1       NaN   \n",
       "165   CHEBI:91239  8-(4-chlorophenylthio)-cGMP(1-)       -1       NaN   \n",
       "\n",
       "                problem  \n",
       "0        MISSING_CHARGE  \n",
       "1        MISSING_CHARGE  \n",
       "2        MISSING_CHARGE  \n",
       "3        MISSING_CHARGE  \n",
       "4        MISSING_CHARGE  \n",
       "..                  ...  \n",
       "161      MISSING_CHARGE  \n",
       "162  CONFLICTING_CHARGE  \n",
       "163      MISSING_CHARGE  \n",
       "164      MISSING_CHARGE  \n",
       "165      MISSING_CHARGE  \n",
       "\n",
       "[166 rows x 5 columns]"
      ]
     },
     "execution_count": 67,
     "metadata": {},
     "output_type": "execute_result"
    }
   ],
   "source": [
    "charge_problems = []  ## warning - global\n",
    "lexical_conj_pairs = []\n",
    "for stem, clique in stem_to_chem.items():\n",
    "    lexical_conj_pairs += make_conjrefs(clique, stem)\n",
    "\n",
    "charge_problems_df = pd.DataFrame(charge_problems)\n",
    "charge_problems_df\n",
    "\n",
    "#len(lexical_conj_pairs)"
   ]
  },
  {
   "cell_type": "code",
   "execution_count": 68,
   "id": "8c185afc-fc8f-4b95-9b9a-4f291d5fc11b",
   "metadata": {},
   "outputs": [
    {
     "data": {
      "text/html": [
       "<div>\n",
       "<style scoped>\n",
       "    .dataframe tbody tr th:only-of-type {\n",
       "        vertical-align: middle;\n",
       "    }\n",
       "\n",
       "    .dataframe tbody tr th {\n",
       "        vertical-align: top;\n",
       "    }\n",
       "\n",
       "    .dataframe thead th {\n",
       "        text-align: right;\n",
       "    }\n",
       "</style>\n",
       "<table border=\"1\" class=\"dataframe\">\n",
       "  <thead>\n",
       "    <tr style=\"text-align: right;\">\n",
       "      <th></th>\n",
       "      <th>suffix1</th>\n",
       "      <th>suffix2</th>\n",
       "      <th>predicate</th>\n",
       "      <th>chem1</th>\n",
       "      <th>chem2</th>\n",
       "      <th>charge_diff</th>\n",
       "      <th>charge_diff_sign</th>\n",
       "      <th>stem</th>\n",
       "    </tr>\n",
       "  </thead>\n",
       "  <tbody>\n",
       "    <tr>\n",
       "      <th>0</th>\n",
       "      <td>acid</td>\n",
       "      <td>anion</td>\n",
       "      <td>obo:chebi#is_conjugate_acid_of</td>\n",
       "      <td>CHEBI:100147</td>\n",
       "      <td>CHEBI:62070</td>\n",
       "      <td>NaN</td>\n",
       "      <td>NaN</td>\n",
       "      <td>nalidix</td>\n",
       "    </tr>\n",
       "    <tr>\n",
       "      <th>1</th>\n",
       "      <td>anion</td>\n",
       "      <td>acid</td>\n",
       "      <td>obo:chebi#is_conjugate_base_of</td>\n",
       "      <td>CHEBI:62070</td>\n",
       "      <td>CHEBI:100147</td>\n",
       "      <td>NaN</td>\n",
       "      <td>NaN</td>\n",
       "      <td>nalidix</td>\n",
       "    </tr>\n",
       "    <tr>\n",
       "      <th>2</th>\n",
       "      <td>acid</td>\n",
       "      <td>NO_SUFFIX</td>\n",
       "      <td>NO_REL</td>\n",
       "      <td>CHEBI:10046</td>\n",
       "      <td>CHEBI:10045</td>\n",
       "      <td>NaN</td>\n",
       "      <td>NaN</td>\n",
       "      <td>Wyerone</td>\n",
       "    </tr>\n",
       "    <tr>\n",
       "      <th>3</th>\n",
       "      <td>NO_SUFFIX</td>\n",
       "      <td>acid</td>\n",
       "      <td>NO_REL</td>\n",
       "      <td>CHEBI:10045</td>\n",
       "      <td>CHEBI:10046</td>\n",
       "      <td>NaN</td>\n",
       "      <td>NaN</td>\n",
       "      <td>Wyerone</td>\n",
       "    </tr>\n",
       "    <tr>\n",
       "      <th>4</th>\n",
       "      <td>acid</td>\n",
       "      <td>ate</td>\n",
       "      <td>obo:chebi#is_conjugate_acid_of</td>\n",
       "      <td>CHEBI:10072</td>\n",
       "      <td>CHEBI:71201</td>\n",
       "      <td>NaN</td>\n",
       "      <td>NaN</td>\n",
       "      <td>xanthuren</td>\n",
       "    </tr>\n",
       "    <tr>\n",
       "      <th>...</th>\n",
       "      <td>...</td>\n",
       "      <td>...</td>\n",
       "      <td>...</td>\n",
       "      <td>...</td>\n",
       "      <td>...</td>\n",
       "      <td>...</td>\n",
       "      <td>...</td>\n",
       "      <td>...</td>\n",
       "    </tr>\n",
       "    <tr>\n",
       "      <th>17159</th>\n",
       "      <td>NO_SUFFIX</td>\n",
       "      <td>(1-)</td>\n",
       "      <td>obo:chebi#is_conjugate_acid_of</td>\n",
       "      <td>CHEBI:130073</td>\n",
       "      <td>CHEBI:91301</td>\n",
       "      <td>NaN</td>\n",
       "      <td>NaN</td>\n",
       "      <td>5,20-diHEPE</td>\n",
       "    </tr>\n",
       "    <tr>\n",
       "      <th>17160</th>\n",
       "      <td>(1-)</td>\n",
       "      <td>NO_SUFFIX</td>\n",
       "      <td>obo:chebi#is_conjugate_base_of</td>\n",
       "      <td>CHEBI:9162</td>\n",
       "      <td>CHEBI:79317</td>\n",
       "      <td>NaN</td>\n",
       "      <td>NaN</td>\n",
       "      <td>sinigrin</td>\n",
       "    </tr>\n",
       "    <tr>\n",
       "      <th>17161</th>\n",
       "      <td>NO_SUFFIX</td>\n",
       "      <td>(1-)</td>\n",
       "      <td>obo:chebi#is_conjugate_acid_of</td>\n",
       "      <td>CHEBI:79317</td>\n",
       "      <td>CHEBI:9162</td>\n",
       "      <td>NaN</td>\n",
       "      <td>NaN</td>\n",
       "      <td>sinigrin</td>\n",
       "    </tr>\n",
       "    <tr>\n",
       "      <th>17162</th>\n",
       "      <td>ate</td>\n",
       "      <td>acid</td>\n",
       "      <td>obo:chebi#is_conjugate_base_of</td>\n",
       "      <td>CHEBI:994</td>\n",
       "      <td>CHEBI:995</td>\n",
       "      <td>NaN</td>\n",
       "      <td>NaN</td>\n",
       "      <td>cis,cis-2-amino-3-(3-oxoprop-1-enyl)but-2-enedio</td>\n",
       "    </tr>\n",
       "    <tr>\n",
       "      <th>17163</th>\n",
       "      <td>acid</td>\n",
       "      <td>ate</td>\n",
       "      <td>obo:chebi#is_conjugate_acid_of</td>\n",
       "      <td>CHEBI:995</td>\n",
       "      <td>CHEBI:994</td>\n",
       "      <td>NaN</td>\n",
       "      <td>NaN</td>\n",
       "      <td>cis,cis-2-amino-3-(3-oxoprop-1-enyl)but-2-enedio</td>\n",
       "    </tr>\n",
       "  </tbody>\n",
       "</table>\n",
       "<p>17164 rows × 8 columns</p>\n",
       "</div>"
      ],
      "text/plain": [
       "         suffix1    suffix2                       predicate         chem1  \\\n",
       "0           acid      anion  obo:chebi#is_conjugate_acid_of  CHEBI:100147   \n",
       "1          anion       acid  obo:chebi#is_conjugate_base_of   CHEBI:62070   \n",
       "2           acid  NO_SUFFIX                          NO_REL   CHEBI:10046   \n",
       "3      NO_SUFFIX       acid                          NO_REL   CHEBI:10045   \n",
       "4           acid        ate  obo:chebi#is_conjugate_acid_of   CHEBI:10072   \n",
       "...          ...        ...                             ...           ...   \n",
       "17159  NO_SUFFIX       (1-)  obo:chebi#is_conjugate_acid_of  CHEBI:130073   \n",
       "17160       (1-)  NO_SUFFIX  obo:chebi#is_conjugate_base_of    CHEBI:9162   \n",
       "17161  NO_SUFFIX       (1-)  obo:chebi#is_conjugate_acid_of   CHEBI:79317   \n",
       "17162        ate       acid  obo:chebi#is_conjugate_base_of     CHEBI:994   \n",
       "17163       acid        ate  obo:chebi#is_conjugate_acid_of     CHEBI:995   \n",
       "\n",
       "              chem2  charge_diff  charge_diff_sign  \\\n",
       "0       CHEBI:62070          NaN               NaN   \n",
       "1      CHEBI:100147          NaN               NaN   \n",
       "2       CHEBI:10045          NaN               NaN   \n",
       "3       CHEBI:10046          NaN               NaN   \n",
       "4       CHEBI:71201          NaN               NaN   \n",
       "...             ...          ...               ...   \n",
       "17159   CHEBI:91301          NaN               NaN   \n",
       "17160   CHEBI:79317          NaN               NaN   \n",
       "17161    CHEBI:9162          NaN               NaN   \n",
       "17162     CHEBI:995          NaN               NaN   \n",
       "17163     CHEBI:994          NaN               NaN   \n",
       "\n",
       "                                                   stem  \n",
       "0                                               nalidix  \n",
       "1                                               nalidix  \n",
       "2                                               Wyerone  \n",
       "3                                               Wyerone  \n",
       "4                                             xanthuren  \n",
       "...                                                 ...  \n",
       "17159                                       5,20-diHEPE  \n",
       "17160                                          sinigrin  \n",
       "17161                                          sinigrin  \n",
       "17162  cis,cis-2-amino-3-(3-oxoprop-1-enyl)but-2-enedio  \n",
       "17163  cis,cis-2-amino-3-(3-oxoprop-1-enyl)but-2-enedio  \n",
       "\n",
       "[17164 rows x 8 columns]"
      ]
     },
     "execution_count": 68,
     "metadata": {},
     "output_type": "execute_result"
    }
   ],
   "source": [
    "import pandas as pd\n",
    "lexical_df = pd.DataFrame(lexical_conj_pairs)\n",
    "lexical_df"
   ]
  },
  {
   "cell_type": "code",
   "execution_count": 69,
   "id": "08f9953b-6762-40d5-bfa0-fbe2dda4f019",
   "metadata": {},
   "outputs": [],
   "source": [
    "# Reported here: https://github.com/ebi-chebi/ChEBI/issues/4525\n",
    "charge_problems_df.to_csv(\"tmp/charge_problems.csv\", index=False)"
   ]
  },
  {
   "cell_type": "markdown",
   "id": "ab247072-f152-44dd-9c06-86cbee80ee52",
   "metadata": {},
   "source": [
    "## Create lexical cliques\n",
    "\n",
    "Create cliques/SCCs (`lexical_sccs`) from all lexically derived conjugate base pairs"
   ]
  },
  {
   "cell_type": "code",
   "execution_count": 70,
   "id": "3088a79bf38863f5",
   "metadata": {
    "ExecuteTime": {
     "end_time": "2024-08-24T00:15:17.362431Z",
     "start_time": "2024-08-24T00:15:17.347876Z"
    }
   },
   "outputs": [],
   "source": [
    "\n",
    "\n",
    "chem_to_stem: Dict[str, str] = {}\n",
    "for row in lexical_conj_pairs:\n",
    "    def _assign(chem: str, stem: str):\n",
    "        if chem in chem_to_stem:\n",
    "            if chem_to_stem[chem] != stem:\n",
    "                raise ValueError(f\"Conflicting stems for {chem}: {chem_to_stem[chem]} vs {stem}\")\n",
    "        else:\n",
    "            chem_to_stem[chem] = stem\n",
    "    stem = row[\"stem\"]\n",
    "    _assign(row[\"chem1\"], stem)\n",
    "    _assign(row[\"chem2\"], stem)"
   ]
  },
  {
   "cell_type": "code",
   "execution_count": 71,
   "id": "b0612535c952ce23",
   "metadata": {
    "ExecuteTime": {
     "end_time": "2024-08-24T00:19:49.836705Z",
     "start_time": "2024-08-24T00:19:49.729430Z"
    }
   },
   "outputs": [
    {
     "data": {
      "text/plain": [
       "7518"
      ]
     },
     "execution_count": 71,
     "metadata": {},
     "output_type": "execute_result"
    }
   ],
   "source": [
    "g = calculate_conj_graph([(row[\"chem1\"], \"?\", row[\"chem2\"]) for row in lexical_conj_pairs])\n",
    "lexical_sccs = list(nx.strongly_connected_components(g))\n",
    "len(lexical_sccs)"
   ]
  },
  {
   "cell_type": "code",
   "execution_count": null,
   "id": "fd3af467efa5e894",
   "metadata": {},
   "outputs": [],
   "source": []
  },
  {
   "cell_type": "code",
   "execution_count": 72,
   "id": "f1be2d07a0d5ce95",
   "metadata": {
    "ExecuteTime": {
     "end_time": "2024-08-24T00:15:18.505585Z",
     "start_time": "2024-08-24T00:15:18.496412Z"
    }
   },
   "outputs": [
    {
     "data": {
      "text/html": [
       "<div>\n",
       "<style scoped>\n",
       "    .dataframe tbody tr th:only-of-type {\n",
       "        vertical-align: middle;\n",
       "    }\n",
       "\n",
       "    .dataframe tbody tr th {\n",
       "        vertical-align: top;\n",
       "    }\n",
       "\n",
       "    .dataframe thead th {\n",
       "        text-align: right;\n",
       "    }\n",
       "</style>\n",
       "<table border=\"1\" class=\"dataframe\">\n",
       "  <thead>\n",
       "    <tr style=\"text-align: right;\">\n",
       "      <th></th>\n",
       "      <th>suffix1</th>\n",
       "      <th>suffix2</th>\n",
       "      <th>predicate</th>\n",
       "      <th>count</th>\n",
       "    </tr>\n",
       "  </thead>\n",
       "  <tbody>\n",
       "    <tr>\n",
       "      <th>353</th>\n",
       "      <td>ate</td>\n",
       "      <td>acid</td>\n",
       "      <td>obo:chebi#is_conjugate_base_of</td>\n",
       "      <td>1522</td>\n",
       "    </tr>\n",
       "    <tr>\n",
       "      <th>302</th>\n",
       "      <td>acid</td>\n",
       "      <td>ate</td>\n",
       "      <td>obo:chebi#is_conjugate_acid_of</td>\n",
       "      <td>1522</td>\n",
       "    </tr>\n",
       "    <tr>\n",
       "      <th>231</th>\n",
       "      <td>NO_SUFFIX</td>\n",
       "      <td>(1-)</td>\n",
       "      <td>obo:chebi#is_conjugate_acid_of</td>\n",
       "      <td>1332</td>\n",
       "    </tr>\n",
       "    <tr>\n",
       "      <th>37</th>\n",
       "      <td>(1-)</td>\n",
       "      <td>NO_SUFFIX</td>\n",
       "      <td>obo:chebi#is_conjugate_base_of</td>\n",
       "      <td>1332</td>\n",
       "    </tr>\n",
       "    <tr>\n",
       "      <th>248</th>\n",
       "      <td>NO_SUFFIX</td>\n",
       "      <td>(4-)</td>\n",
       "      <td>obo:chebi#is_conjugate_acid_of</td>\n",
       "      <td>673</td>\n",
       "    </tr>\n",
       "    <tr>\n",
       "      <th>...</th>\n",
       "      <td>...</td>\n",
       "      <td>...</td>\n",
       "      <td>...</td>\n",
       "      <td>...</td>\n",
       "    </tr>\n",
       "    <tr>\n",
       "      <th>327</th>\n",
       "      <td>anion(1-)</td>\n",
       "      <td>anion</td>\n",
       "      <td>NO_REL</td>\n",
       "      <td>1</td>\n",
       "    </tr>\n",
       "    <tr>\n",
       "      <th>326</th>\n",
       "      <td>anion(1-)</td>\n",
       "      <td>acid</td>\n",
       "      <td>NO_REL</td>\n",
       "      <td>1</td>\n",
       "    </tr>\n",
       "    <tr>\n",
       "      <th>201</th>\n",
       "      <td>(6-)</td>\n",
       "      <td>(2-)</td>\n",
       "      <td>NO_REL</td>\n",
       "      <td>1</td>\n",
       "    </tr>\n",
       "    <tr>\n",
       "      <th>202</th>\n",
       "      <td>(6-)</td>\n",
       "      <td>(3-)</td>\n",
       "      <td>NO_REL</td>\n",
       "      <td>1</td>\n",
       "    </tr>\n",
       "    <tr>\n",
       "      <th>423</th>\n",
       "      <td>zwitterion(2-)</td>\n",
       "      <td>zwitterion</td>\n",
       "      <td>obo:chebi#is_conjugate_base_of</td>\n",
       "      <td>1</td>\n",
       "    </tr>\n",
       "  </tbody>\n",
       "</table>\n",
       "<p>424 rows × 4 columns</p>\n",
       "</div>"
      ],
      "text/plain": [
       "            suffix1     suffix2                       predicate  count\n",
       "353             ate        acid  obo:chebi#is_conjugate_base_of   1522\n",
       "302            acid         ate  obo:chebi#is_conjugate_acid_of   1522\n",
       "231       NO_SUFFIX        (1-)  obo:chebi#is_conjugate_acid_of   1332\n",
       "37             (1-)   NO_SUFFIX  obo:chebi#is_conjugate_base_of   1332\n",
       "248       NO_SUFFIX        (4-)  obo:chebi#is_conjugate_acid_of    673\n",
       "..              ...         ...                             ...    ...\n",
       "327       anion(1-)       anion                          NO_REL      1\n",
       "326       anion(1-)        acid                          NO_REL      1\n",
       "201            (6-)        (2-)                          NO_REL      1\n",
       "202            (6-)        (3-)                          NO_REL      1\n",
       "423  zwitterion(2-)  zwitterion  obo:chebi#is_conjugate_base_of      1\n",
       "\n",
       "[424 rows x 4 columns]"
      ]
     },
     "execution_count": 72,
     "metadata": {},
     "output_type": "execute_result"
    }
   ],
   "source": [
    "# group by suffix1, suffix2, predicate, and count the number of rows\n",
    "summary = lexical_df.groupby([\"suffix1\", \"suffix2\", \"predicate\"]).size().reset_index(name='count')\n",
    "summary = summary.sort_values('count', ascending=False)\n",
    "summary.to_csv(\"tmp/suffix-pairs-summary.csv\")\n",
    "summary"
   ]
  },
  {
   "cell_type": "code",
   "execution_count": 73,
   "id": "68a25c0d-c468-45d7-838d-72d2a19f5fb9",
   "metadata": {},
   "outputs": [],
   "source": [
    "df = lexical_df"
   ]
  },
  {
   "cell_type": "code",
   "execution_count": 74,
   "id": "4f5986951d764fa1",
   "metadata": {
    "ExecuteTime": {
     "end_time": "2024-08-24T00:15:18.050305Z",
     "start_time": "2024-08-24T00:15:18.042190Z"
    }
   },
   "outputs": [
    {
     "data": {
      "text/html": [
       "<div>\n",
       "<style scoped>\n",
       "    .dataframe tbody tr th:only-of-type {\n",
       "        vertical-align: middle;\n",
       "    }\n",
       "\n",
       "    .dataframe tbody tr th {\n",
       "        vertical-align: top;\n",
       "    }\n",
       "\n",
       "    .dataframe thead th {\n",
       "        text-align: right;\n",
       "    }\n",
       "</style>\n",
       "<table border=\"1\" class=\"dataframe\">\n",
       "  <thead>\n",
       "    <tr style=\"text-align: right;\">\n",
       "      <th></th>\n",
       "      <th>suffix1</th>\n",
       "      <th>suffix2</th>\n",
       "      <th>predicate</th>\n",
       "      <th>chem1</th>\n",
       "      <th>chem2</th>\n",
       "      <th>charge_diff</th>\n",
       "      <th>charge_diff_sign</th>\n",
       "      <th>stem</th>\n",
       "    </tr>\n",
       "  </thead>\n",
       "  <tbody>\n",
       "    <tr>\n",
       "      <th>15583</th>\n",
       "      <td>(1+)</td>\n",
       "      <td>(5+)</td>\n",
       "      <td>obo:chebi#is_conjugate_acid_of</td>\n",
       "      <td>CHEBI:83553</td>\n",
       "      <td>CHEBI:82771</td>\n",
       "      <td>-4.0</td>\n",
       "      <td>-1.0</td>\n",
       "      <td>N(4)-bis(aminopropyl)spermidine</td>\n",
       "    </tr>\n",
       "  </tbody>\n",
       "</table>\n",
       "</div>"
      ],
      "text/plain": [
       "      suffix1 suffix2                       predicate        chem1  \\\n",
       "15583    (1+)    (5+)  obo:chebi#is_conjugate_acid_of  CHEBI:83553   \n",
       "\n",
       "             chem2  charge_diff  charge_diff_sign  \\\n",
       "15583  CHEBI:82771         -4.0              -1.0   \n",
       "\n",
       "                                  stem  \n",
       "15583  N(4)-bis(aminopropyl)spermidine  "
      ]
     },
     "execution_count": 74,
     "metadata": {},
     "output_type": "execute_result"
    }
   ],
   "source": [
    "df[(df[\"charge_diff_sign\"] < 0) & (df[\"predicate\"] == CAO)]"
   ]
  },
  {
   "cell_type": "code",
   "execution_count": 75,
   "id": "577c5ec2b5fe7e60",
   "metadata": {
    "ExecuteTime": {
     "end_time": "2024-08-24T00:15:18.091557Z",
     "start_time": "2024-08-24T00:15:18.083784Z"
    }
   },
   "outputs": [
    {
     "data": {
      "text/html": [
       "<div>\n",
       "<style scoped>\n",
       "    .dataframe tbody tr th:only-of-type {\n",
       "        vertical-align: middle;\n",
       "    }\n",
       "\n",
       "    .dataframe tbody tr th {\n",
       "        vertical-align: top;\n",
       "    }\n",
       "\n",
       "    .dataframe thead th {\n",
       "        text-align: right;\n",
       "    }\n",
       "</style>\n",
       "<table border=\"1\" class=\"dataframe\">\n",
       "  <thead>\n",
       "    <tr style=\"text-align: right;\">\n",
       "      <th></th>\n",
       "      <th>suffix1</th>\n",
       "      <th>suffix2</th>\n",
       "      <th>predicate</th>\n",
       "      <th>chem1</th>\n",
       "      <th>chem2</th>\n",
       "      <th>charge_diff</th>\n",
       "      <th>charge_diff_sign</th>\n",
       "      <th>stem</th>\n",
       "    </tr>\n",
       "  </thead>\n",
       "  <tbody>\n",
       "    <tr>\n",
       "      <th>15582</th>\n",
       "      <td>(5+)</td>\n",
       "      <td>(1+)</td>\n",
       "      <td>obo:chebi#is_conjugate_base_of</td>\n",
       "      <td>CHEBI:82771</td>\n",
       "      <td>CHEBI:83553</td>\n",
       "      <td>4.0</td>\n",
       "      <td>1.0</td>\n",
       "      <td>N(4)-bis(aminopropyl)spermidine</td>\n",
       "    </tr>\n",
       "  </tbody>\n",
       "</table>\n",
       "</div>"
      ],
      "text/plain": [
       "      suffix1 suffix2                       predicate        chem1  \\\n",
       "15582    (5+)    (1+)  obo:chebi#is_conjugate_base_of  CHEBI:82771   \n",
       "\n",
       "             chem2  charge_diff  charge_diff_sign  \\\n",
       "15582  CHEBI:83553          4.0               1.0   \n",
       "\n",
       "                                  stem  \n",
       "15582  N(4)-bis(aminopropyl)spermidine  "
      ]
     },
     "execution_count": 75,
     "metadata": {},
     "output_type": "execute_result"
    }
   ],
   "source": [
    "df[(df[\"charge_diff_sign\"] > 0) & (df[\"predicate\"] == CBO)]"
   ]
  },
  {
   "cell_type": "code",
   "execution_count": 76,
   "id": "b381a47bce47eda3",
   "metadata": {
    "ExecuteTime": {
     "end_time": "2024-08-24T00:15:18.269064Z",
     "start_time": "2024-08-24T00:15:18.262903Z"
    }
   },
   "outputs": [
    {
     "data": {
      "text/plain": [
       "predicate\n",
       "NO_REL                            3252\n",
       "obo:chebi#is_conjugate_acid_of    6379\n",
       "obo:chebi#is_conjugate_base_of    6379\n",
       "obo:chebi#is_tautomer_of          1154\n",
       "dtype: int64"
      ]
     },
     "execution_count": 76,
     "metadata": {},
     "output_type": "execute_result"
    }
   ],
   "source": [
    " df.groupby([\"predicate\"]).size()"
   ]
  },
  {
   "cell_type": "code",
   "execution_count": null,
   "id": "293ccb1b-dd4b-430f-b1ef-d37bc1b95862",
   "metadata": {},
   "outputs": [],
   "source": []
  },
  {
   "cell_type": "code",
   "execution_count": 77,
   "id": "5ee58eef65ddbc9d",
   "metadata": {
    "ExecuteTime": {
     "end_time": "2024-08-24T00:15:18.419745Z",
     "start_time": "2024-08-24T00:15:18.368478Z"
    }
   },
   "outputs": [],
   "source": [
    "df.to_csv(\"tmp/conjrels.csv\", index=False)\n"
   ]
  },
  {
   "cell_type": "markdown",
   "id": "d17e17831c235596",
   "metadata": {},
   "source": [
    "## Create is-a map"
   ]
  },
  {
   "cell_type": "code",
   "execution_count": 78,
   "id": "5a77f734fba5ae24",
   "metadata": {
    "ExecuteTime": {
     "end_time": "2024-08-24T00:15:25.218850Z",
     "start_time": "2024-08-24T00:15:19.687885Z"
    },
    "collapsed": false,
    "jupyter": {
     "outputs_hidden": false
    }
   },
   "outputs": [],
   "source": [
    "is_as = list(chebi.relationships(predicates=[IS_A]))"
   ]
  },
  {
   "cell_type": "code",
   "execution_count": 79,
   "id": "7a7a9eb7c9110c39",
   "metadata": {
    "ExecuteTime": {
     "end_time": "2024-08-24T00:15:25.362363Z",
     "start_time": "2024-08-24T00:15:25.255263Z"
    },
    "collapsed": false,
    "jupyter": {
     "outputs_hidden": false
    }
   },
   "outputs": [],
   "source": [
    "is_a_map = defaultdict(list)\n",
    "for s, _, o in is_as:\n",
    "    is_a_map[s].append(o)"
   ]
  },
  {
   "cell_type": "markdown",
   "id": "2e35a6a093aae65c",
   "metadata": {},
   "source": [
    "## Fetch Uniprot Synonyms\n",
    "\n",
    "One \"secret\" of CHEBI is that they place biologist-friendly synonyms on the ph 7.3 form. These are tagged \"uniprot\""
   ]
  },
  {
   "cell_type": "code",
   "execution_count": 80,
   "id": "6ac6247a4be899da",
   "metadata": {
    "ExecuteTime": {
     "end_time": "2024-08-24T00:15:38.864654Z",
     "start_time": "2024-08-24T00:15:25.397779Z"
    },
    "collapsed": false,
    "jupyter": {
     "outputs_hidden": false
    }
   },
   "outputs": [],
   "source": [
    "from semsql.sqla.semsql import OwlAxiomAnnotation\n",
    "\n",
    "q = session.query(OwlAxiomAnnotation)\n",
    "axiom_anns = list(q)"
   ]
  },
  {
   "cell_type": "code",
   "execution_count": 81,
   "id": "c2c109cbfa2e46a5",
   "metadata": {
    "ExecuteTime": {
     "end_time": "2024-08-24T00:15:38.874220Z",
     "start_time": "2024-08-24T00:15:38.870996Z"
    },
    "collapsed": false,
    "jupyter": {
     "outputs_hidden": false
    }
   },
   "outputs": [
    {
     "data": {
      "text/plain": [
       "717222"
      ]
     },
     "execution_count": 81,
     "metadata": {},
     "output_type": "execute_result"
    }
   ],
   "source": [
    "len(axiom_anns)"
   ]
  },
  {
   "cell_type": "code",
   "execution_count": 82,
   "id": "6132886244ebdbe",
   "metadata": {
    "ExecuteTime": {
     "end_time": "2024-08-24T00:15:39.558412Z",
     "start_time": "2024-08-24T00:15:39.176170Z"
    },
    "collapsed": false,
    "jupyter": {
     "outputs_hidden": false
    }
   },
   "outputs": [],
   "source": [
    "up_axiom_anns = [row for row in axiom_anns if row.annotation_predicate == \"oio:hasDbXref\" and row.annotation_value == \"UniProt\"]"
   ]
  },
  {
   "cell_type": "code",
   "execution_count": 83,
   "id": "a021b7d4e91c99e0",
   "metadata": {
    "ExecuteTime": {
     "end_time": "2024-08-24T00:15:40.260839Z",
     "start_time": "2024-08-24T00:15:39.867494Z"
    },
    "collapsed": false,
    "jupyter": {
     "outputs_hidden": false
    }
   },
   "outputs": [
    {
     "data": {
      "text/plain": [
       "16414"
      ]
     },
     "execution_count": 83,
     "metadata": {},
     "output_type": "execute_result"
    }
   ],
   "source": [
    "bio_syn_map = {row.subject: row.value for row in axiom_anns if row.annotation_predicate == \"oio:hasDbXref\" and row.annotation_value == \"UniProt\"}\n",
    "len(bio_syn_map)"
   ]
  },
  {
   "cell_type": "code",
   "execution_count": 84,
   "id": "8ad8345e0db49f7a",
   "metadata": {
    "ExecuteTime": {
     "end_time": "2024-08-24T00:15:40.583435Z",
     "start_time": "2024-08-24T00:15:40.580153Z"
    },
    "collapsed": false,
    "jupyter": {
     "outputs_hidden": false
    }
   },
   "outputs": [
    {
     "data": {
      "text/plain": [
       "16414"
      ]
     },
     "execution_count": 84,
     "metadata": {},
     "output_type": "execute_result"
    }
   ],
   "source": [
    "len(bio_syn_map)"
   ]
  },
  {
   "cell_type": "markdown",
   "id": "e6a59d62-5736-416d-8fb9-ddabf6f6940f",
   "metadata": {},
   "source": [
    "## Analyze lexically derived relationships"
   ]
  },
  {
   "cell_type": "code",
   "execution_count": 85,
   "id": "b15618246ffb5c58",
   "metadata": {
    "ExecuteTime": {
     "end_time": "2024-08-24T00:15:19.199737Z",
     "start_time": "2024-08-24T00:15:18.593731Z"
    }
   },
   "outputs": [
    {
     "data": {
      "image/png": "[encoded data removed]",
      "text/plain": [
       "<Figure size 1000x800 with 2 Axes>"
      ]
     },
     "metadata": {},
     "output_type": "display_data"
    }
   ],
   "source": [
    "import matplotlib.pyplot as plt\n",
    "import seaborn as sns\n",
    "from scipy.stats import entropy\n",
    "\n",
    "data = lexical_df\n",
    "\n",
    "# Display the first few rows of the data to understand its structure\n",
    "data.head()\n",
    "\n",
    "# Create a function to calculate entropy for each group\n",
    "def calculate_entropy(group):\n",
    "    counts = group.value_counts(normalize=True)\n",
    "    return entropy(counts)\n",
    "\n",
    "# Grouping the data by suffix1 and suffix2, then calculating entropy for the predicates\n",
    "entropy_data = data.groupby(['suffix1', 'suffix2'])['predicate'].apply(calculate_entropy).unstack(fill_value=0)\n",
    "\n",
    "# Plotting the entropy heatmap with reversed x-axis\n",
    "plt.figure(figsize=(10, 8))\n",
    "sns.heatmap(entropy_data.loc[:, ::-1], annot=True, cmap=\"coolwarm\")\n",
    "plt.title('Entropy of Predicate Distribution by Suffix1 and Suffix2 (Reversed X-Axis)')\n",
    "plt.xlabel('Suffix2')\n",
    "plt.ylabel('Suffix1')\n",
    "plt.show()\n"
   ]
  },
  {
   "cell_type": "code",
   "execution_count": 86,
   "id": "575eb6dbb6024008",
   "metadata": {
    "ExecuteTime": {
     "end_time": "2024-08-24T00:15:19.269514Z",
     "start_time": "2024-08-24T00:15:19.254225Z"
    }
   },
   "outputs": [
    {
     "data": {
      "text/html": [
       "<div>\n",
       "<style scoped>\n",
       "    .dataframe tbody tr th:only-of-type {\n",
       "        vertical-align: middle;\n",
       "    }\n",
       "\n",
       "    .dataframe tbody tr th {\n",
       "        vertical-align: top;\n",
       "    }\n",
       "\n",
       "    .dataframe thead th {\n",
       "        text-align: right;\n",
       "    }\n",
       "</style>\n",
       "<table border=\"1\" class=\"dataframe\">\n",
       "  <thead>\n",
       "    <tr style=\"text-align: right;\">\n",
       "      <th>predicate</th>\n",
       "      <th>suffix1</th>\n",
       "      <th>suffix2</th>\n",
       "      <th>NO_REL</th>\n",
       "      <th>obo:chebi#is_conjugate_acid_of</th>\n",
       "      <th>obo:chebi#is_conjugate_base_of</th>\n",
       "      <th>obo:chebi#is_tautomer_of</th>\n",
       "    </tr>\n",
       "  </thead>\n",
       "  <tbody>\n",
       "    <tr>\n",
       "      <th>0</th>\n",
       "      <td>(1+)</td>\n",
       "      <td>(1-)</td>\n",
       "      <td>2</td>\n",
       "      <td>2</td>\n",
       "      <td>0</td>\n",
       "      <td>0</td>\n",
       "    </tr>\n",
       "    <tr>\n",
       "      <th>1</th>\n",
       "      <td>(1+)</td>\n",
       "      <td>(2+)</td>\n",
       "      <td>19</td>\n",
       "      <td>0</td>\n",
       "      <td>19</td>\n",
       "      <td>0</td>\n",
       "    </tr>\n",
       "    <tr>\n",
       "      <th>2</th>\n",
       "      <td>(1+)</td>\n",
       "      <td>(2-)</td>\n",
       "      <td>3</td>\n",
       "      <td>2</td>\n",
       "      <td>0</td>\n",
       "      <td>0</td>\n",
       "    </tr>\n",
       "    <tr>\n",
       "      <th>3</th>\n",
       "      <td>(1+)</td>\n",
       "      <td>(3+)</td>\n",
       "      <td>11</td>\n",
       "      <td>0</td>\n",
       "      <td>0</td>\n",
       "      <td>0</td>\n",
       "    </tr>\n",
       "    <tr>\n",
       "      <th>4</th>\n",
       "      <td>(1+)</td>\n",
       "      <td>(3-)</td>\n",
       "      <td>2</td>\n",
       "      <td>0</td>\n",
       "      <td>0</td>\n",
       "      <td>0</td>\n",
       "    </tr>\n",
       "    <tr>\n",
       "      <th>...</th>\n",
       "      <td>...</td>\n",
       "      <td>...</td>\n",
       "      <td>...</td>\n",
       "      <td>...</td>\n",
       "      <td>...</td>\n",
       "      <td>...</td>\n",
       "    </tr>\n",
       "    <tr>\n",
       "      <th>271</th>\n",
       "      <td>zwitterion(1-)</td>\n",
       "      <td>ate</td>\n",
       "      <td>1</td>\n",
       "      <td>0</td>\n",
       "      <td>0</td>\n",
       "      <td>0</td>\n",
       "    </tr>\n",
       "    <tr>\n",
       "      <th>272</th>\n",
       "      <td>zwitterion(1-)</td>\n",
       "      <td>zwitterion</td>\n",
       "      <td>0</td>\n",
       "      <td>0</td>\n",
       "      <td>3</td>\n",
       "      <td>0</td>\n",
       "    </tr>\n",
       "    <tr>\n",
       "      <th>273</th>\n",
       "      <td>zwitterion(2-)</td>\n",
       "      <td>(3-)</td>\n",
       "      <td>0</td>\n",
       "      <td>1</td>\n",
       "      <td>0</td>\n",
       "      <td>0</td>\n",
       "    </tr>\n",
       "    <tr>\n",
       "      <th>274</th>\n",
       "      <td>zwitterion(2-)</td>\n",
       "      <td>acid</td>\n",
       "      <td>1</td>\n",
       "      <td>0</td>\n",
       "      <td>0</td>\n",
       "      <td>0</td>\n",
       "    </tr>\n",
       "    <tr>\n",
       "      <th>275</th>\n",
       "      <td>zwitterion(2-)</td>\n",
       "      <td>zwitterion</td>\n",
       "      <td>0</td>\n",
       "      <td>0</td>\n",
       "      <td>1</td>\n",
       "      <td>0</td>\n",
       "    </tr>\n",
       "  </tbody>\n",
       "</table>\n",
       "<p>276 rows × 6 columns</p>\n",
       "</div>"
      ],
      "text/plain": [
       "predicate         suffix1     suffix2  NO_REL  obo:chebi#is_conjugate_acid_of  \\\n",
       "0                    (1+)        (1-)       2                               2   \n",
       "1                    (1+)        (2+)      19                               0   \n",
       "2                    (1+)        (2-)       3                               2   \n",
       "3                    (1+)        (3+)      11                               0   \n",
       "4                    (1+)        (3-)       2                               0   \n",
       "..                    ...         ...     ...                             ...   \n",
       "271        zwitterion(1-)         ate       1                               0   \n",
       "272        zwitterion(1-)  zwitterion       0                               0   \n",
       "273        zwitterion(2-)        (3-)       0                               1   \n",
       "274        zwitterion(2-)        acid       1                               0   \n",
       "275        zwitterion(2-)  zwitterion       0                               0   \n",
       "\n",
       "predicate  obo:chebi#is_conjugate_base_of  obo:chebi#is_tautomer_of  \n",
       "0                                       0                         0  \n",
       "1                                      19                         0  \n",
       "2                                       0                         0  \n",
       "3                                       0                         0  \n",
       "4                                       0                         0  \n",
       "..                                    ...                       ...  \n",
       "271                                     0                         0  \n",
       "272                                     3                         0  \n",
       "273                                     0                         0  \n",
       "274                                     0                         0  \n",
       "275                                     1                         0  \n",
       "\n",
       "[276 rows x 6 columns]"
      ]
     },
     "execution_count": 86,
     "metadata": {},
     "output_type": "execute_result"
    }
   ],
   "source": [
    "pivot_table = lexical_df.pivot_table(index=['suffix1', 'suffix2'], columns='predicate', aggfunc='size', fill_value=0).reset_index()\n",
    "pivot_table.to_csv(\"tmp/pivot_table.csv\", index=False)\n",
    "pivot_table"
   ]
  },
  {
   "cell_type": "code",
   "execution_count": 87,
   "id": "ecff73edc212adaa",
   "metadata": {
    "ExecuteTime": {
     "end_time": "2024-08-24T00:15:19.346191Z",
     "start_time": "2024-08-24T00:15:19.334380Z"
    }
   },
   "outputs": [
    {
     "data": {
      "text/html": [
       "<div>\n",
       "<style scoped>\n",
       "    .dataframe tbody tr th:only-of-type {\n",
       "        vertical-align: middle;\n",
       "    }\n",
       "\n",
       "    .dataframe tbody tr th {\n",
       "        vertical-align: top;\n",
       "    }\n",
       "\n",
       "    .dataframe thead th {\n",
       "        text-align: right;\n",
       "    }\n",
       "</style>\n",
       "<table border=\"1\" class=\"dataframe\">\n",
       "  <thead>\n",
       "    <tr style=\"text-align: right;\">\n",
       "      <th></th>\n",
       "      <th>suffix1</th>\n",
       "      <th>suffix2</th>\n",
       "      <th>predicate</th>\n",
       "      <th>chem1</th>\n",
       "      <th>chem2</th>\n",
       "      <th>charge_diff</th>\n",
       "      <th>charge_diff_sign</th>\n",
       "      <th>stem</th>\n",
       "    </tr>\n",
       "  </thead>\n",
       "  <tbody>\n",
       "    <tr>\n",
       "      <th>3028</th>\n",
       "      <td>(1+)</td>\n",
       "      <td>NO_SUFFIX</td>\n",
       "      <td>obo:chebi#is_conjugate_base_of</td>\n",
       "      <td>CHEBI:141055</td>\n",
       "      <td>CHEBI:141057</td>\n",
       "      <td>NaN</td>\n",
       "      <td>NaN</td>\n",
       "      <td>validoxylamine B</td>\n",
       "    </tr>\n",
       "    <tr>\n",
       "      <th>10934</th>\n",
       "      <td>(1+)</td>\n",
       "      <td>NO_SUFFIX</td>\n",
       "      <td>obo:chebi#is_conjugate_base_of</td>\n",
       "      <td>CHEBI:58644</td>\n",
       "      <td>CHEBI:32818</td>\n",
       "      <td>NaN</td>\n",
       "      <td>NaN</td>\n",
       "      <td>p-coumaroylagmatine</td>\n",
       "    </tr>\n",
       "    <tr>\n",
       "      <th>12228</th>\n",
       "      <td>(1+)</td>\n",
       "      <td>NO_SUFFIX</td>\n",
       "      <td>obo:chebi#is_conjugate_base_of</td>\n",
       "      <td>CHEBI:64003</td>\n",
       "      <td>CHEBI:64004</td>\n",
       "      <td>NaN</td>\n",
       "      <td>NaN</td>\n",
       "      <td>N-allyl-6-chloro-1-(3-methylphenyl)-2,3,4,5-te...</td>\n",
       "    </tr>\n",
       "    <tr>\n",
       "      <th>12328</th>\n",
       "      <td>(1+)</td>\n",
       "      <td>NO_SUFFIX</td>\n",
       "      <td>obo:chebi#is_conjugate_base_of</td>\n",
       "      <td>CHEBI:64364</td>\n",
       "      <td>CHEBI:10650</td>\n",
       "      <td>NaN</td>\n",
       "      <td>NaN</td>\n",
       "      <td>sumatriptan</td>\n",
       "    </tr>\n",
       "    <tr>\n",
       "      <th>13404</th>\n",
       "      <td>(1+)</td>\n",
       "      <td>NO_SUFFIX</td>\n",
       "      <td>obo:chebi#is_conjugate_base_of</td>\n",
       "      <td>CHEBI:72567</td>\n",
       "      <td>CHEBI:6438</td>\n",
       "      <td>NaN</td>\n",
       "      <td>NaN</td>\n",
       "      <td>levobunolol</td>\n",
       "    </tr>\n",
       "    <tr>\n",
       "      <th>14206</th>\n",
       "      <td>(1+)</td>\n",
       "      <td>NO_SUFFIX</td>\n",
       "      <td>obo:chebi#is_conjugate_base_of</td>\n",
       "      <td>CHEBI:75297</td>\n",
       "      <td>CHEBI:31057</td>\n",
       "      <td>NaN</td>\n",
       "      <td>NaN</td>\n",
       "      <td>13-deoxydaunorubicin</td>\n",
       "    </tr>\n",
       "    <tr>\n",
       "      <th>14380</th>\n",
       "      <td>(1+)</td>\n",
       "      <td>NO_SUFFIX</td>\n",
       "      <td>obo:chebi#is_conjugate_base_of</td>\n",
       "      <td>CHEBI:76278</td>\n",
       "      <td>CHEBI:16299</td>\n",
       "      <td>NaN</td>\n",
       "      <td>NaN</td>\n",
       "      <td>dehydrocoformycin</td>\n",
       "    </tr>\n",
       "    <tr>\n",
       "      <th>14670</th>\n",
       "      <td>(1+)</td>\n",
       "      <td>NO_SUFFIX</td>\n",
       "      <td>obo:chebi#is_conjugate_base_of</td>\n",
       "      <td>CHEBI:76819</td>\n",
       "      <td>CHEBI:15906</td>\n",
       "      <td>NaN</td>\n",
       "      <td>NaN</td>\n",
       "      <td>demethylmacrocin</td>\n",
       "    </tr>\n",
       "    <tr>\n",
       "      <th>14696</th>\n",
       "      <td>(1+)</td>\n",
       "      <td>NO_SUFFIX</td>\n",
       "      <td>obo:chebi#is_conjugate_base_of</td>\n",
       "      <td>CHEBI:76922</td>\n",
       "      <td>CHEBI:77055</td>\n",
       "      <td>NaN</td>\n",
       "      <td>NaN</td>\n",
       "      <td>argemonine</td>\n",
       "    </tr>\n",
       "    <tr>\n",
       "      <th>16424</th>\n",
       "      <td>(1+)</td>\n",
       "      <td>NO_SUFFIX</td>\n",
       "      <td>obo:chebi#is_conjugate_base_of</td>\n",
       "      <td>CHEBI:86083</td>\n",
       "      <td>CHEBI:86085</td>\n",
       "      <td>NaN</td>\n",
       "      <td>NaN</td>\n",
       "      <td>(Z)-p-coumaroylagmatine</td>\n",
       "    </tr>\n",
       "    <tr>\n",
       "      <th>16450</th>\n",
       "      <td>(1+)</td>\n",
       "      <td>NO_SUFFIX</td>\n",
       "      <td>obo:chebi#is_conjugate_base_of</td>\n",
       "      <td>CHEBI:86380</td>\n",
       "      <td>CHEBI:599440</td>\n",
       "      <td>NaN</td>\n",
       "      <td>NaN</td>\n",
       "      <td>amorolfine</td>\n",
       "    </tr>\n",
       "  </tbody>\n",
       "</table>\n",
       "</div>"
      ],
      "text/plain": [
       "      suffix1    suffix2                       predicate         chem1  \\\n",
       "3028     (1+)  NO_SUFFIX  obo:chebi#is_conjugate_base_of  CHEBI:141055   \n",
       "10934    (1+)  NO_SUFFIX  obo:chebi#is_conjugate_base_of   CHEBI:58644   \n",
       "12228    (1+)  NO_SUFFIX  obo:chebi#is_conjugate_base_of   CHEBI:64003   \n",
       "12328    (1+)  NO_SUFFIX  obo:chebi#is_conjugate_base_of   CHEBI:64364   \n",
       "13404    (1+)  NO_SUFFIX  obo:chebi#is_conjugate_base_of   CHEBI:72567   \n",
       "14206    (1+)  NO_SUFFIX  obo:chebi#is_conjugate_base_of   CHEBI:75297   \n",
       "14380    (1+)  NO_SUFFIX  obo:chebi#is_conjugate_base_of   CHEBI:76278   \n",
       "14670    (1+)  NO_SUFFIX  obo:chebi#is_conjugate_base_of   CHEBI:76819   \n",
       "14696    (1+)  NO_SUFFIX  obo:chebi#is_conjugate_base_of   CHEBI:76922   \n",
       "16424    (1+)  NO_SUFFIX  obo:chebi#is_conjugate_base_of   CHEBI:86083   \n",
       "16450    (1+)  NO_SUFFIX  obo:chebi#is_conjugate_base_of   CHEBI:86380   \n",
       "\n",
       "              chem2  charge_diff  charge_diff_sign  \\\n",
       "3028   CHEBI:141057          NaN               NaN   \n",
       "10934   CHEBI:32818          NaN               NaN   \n",
       "12228   CHEBI:64004          NaN               NaN   \n",
       "12328   CHEBI:10650          NaN               NaN   \n",
       "13404    CHEBI:6438          NaN               NaN   \n",
       "14206   CHEBI:31057          NaN               NaN   \n",
       "14380   CHEBI:16299          NaN               NaN   \n",
       "14670   CHEBI:15906          NaN               NaN   \n",
       "14696   CHEBI:77055          NaN               NaN   \n",
       "16424   CHEBI:86085          NaN               NaN   \n",
       "16450  CHEBI:599440          NaN               NaN   \n",
       "\n",
       "                                                    stem  \n",
       "3028                                    validoxylamine B  \n",
       "10934                                p-coumaroylagmatine  \n",
       "12228  N-allyl-6-chloro-1-(3-methylphenyl)-2,3,4,5-te...  \n",
       "12328                                        sumatriptan  \n",
       "13404                                        levobunolol  \n",
       "14206                               13-deoxydaunorubicin  \n",
       "14380                                  dehydrocoformycin  \n",
       "14670                                   demethylmacrocin  \n",
       "14696                                         argemonine  \n",
       "16424                            (Z)-p-coumaroylagmatine  \n",
       "16450                                         amorolfine  "
      ]
     },
     "execution_count": 87,
     "metadata": {},
     "output_type": "execute_result"
    }
   ],
   "source": [
    "# suspect rows\n",
    "df = lexical_df\n",
    "df[(df[\"suffix1\"] == \"(1+)\") & (df[\"suffix2\"] == \"NO_SUFFIX\") & (df[\"predicate\"] == CBO)]"
   ]
  },
  {
   "cell_type": "code",
   "execution_count": null,
   "id": "d20d7eb6fce43eb1",
   "metadata": {
    "ExecuteTime": {
     "end_time": "2024-08-24T00:15:19.593644Z",
     "start_time": "2024-08-24T00:15:19.586411Z"
    }
   },
   "outputs": [],
   "source": []
  },
  {
   "cell_type": "markdown",
   "id": "2ccb6b41-9727-44a9-878a-403c50040974",
   "metadata": {},
   "source": [
    "## RHEA pH Mapping\n",
    "\n",
    "RHEA provides a table that maps CHEBI IDs to their pH 7.3 stable forms. The mapping may be reflexive\n",
    "print((e.g.a stable form will map to itself))\n",
    "\n",
    "The mappings may not be complete - in particular only leaf nodes are mapped."
   ]
  },
  {
   "cell_type": "code",
   "execution_count": 88,
   "id": "0d7bda2c-37c9-414d-8b17-47ea0c556ddb",
   "metadata": {},
   "outputs": [],
   "source": [
    "import pystow\n",
    "ph_mapping_df = pystow.ensure_csv(\"rhea\", url=\"https://ftp.expasy.org/databases/rhea/tsv/chebi_pH7_3_mapping.tsv\")\n",
    "for col in [\"CHEBI\", \"CHEBI_PH7_3\"]:\n",
    "    # rewrite to use CURIEs\n",
    "    ph_mapping_df[col] = \"CHEBI:\" + ph_mapping_df[col].astype(str)\n"
   ]
  },
  {
   "cell_type": "code",
   "execution_count": 89,
   "id": "7cc020b7576cc449",
   "metadata": {
    "ExecuteTime": {
     "end_time": "2024-08-24T00:15:41.969773Z",
     "start_time": "2024-08-24T00:15:41.963911Z"
    },
    "collapsed": false,
    "jupyter": {
     "outputs_hidden": false
    }
   },
   "outputs": [
    {
     "data": {
      "text/html": [
       "<div>\n",
       "<style scoped>\n",
       "    .dataframe tbody tr th:only-of-type {\n",
       "        vertical-align: middle;\n",
       "    }\n",
       "\n",
       "    .dataframe tbody tr th {\n",
       "        vertical-align: top;\n",
       "    }\n",
       "\n",
       "    .dataframe thead th {\n",
       "        text-align: right;\n",
       "    }\n",
       "</style>\n",
       "<table border=\"1\" class=\"dataframe\">\n",
       "  <thead>\n",
       "    <tr style=\"text-align: right;\">\n",
       "      <th></th>\n",
       "      <th>CHEBI</th>\n",
       "      <th>CHEBI_PH7_3</th>\n",
       "      <th>ORIGIN</th>\n",
       "    </tr>\n",
       "  </thead>\n",
       "  <tbody>\n",
       "    <tr>\n",
       "      <th>0</th>\n",
       "      <td>CHEBI:3</td>\n",
       "      <td>CHEBI:3</td>\n",
       "      <td>computation</td>\n",
       "    </tr>\n",
       "    <tr>\n",
       "      <th>1</th>\n",
       "      <td>CHEBI:7</td>\n",
       "      <td>CHEBI:7</td>\n",
       "      <td>computation</td>\n",
       "    </tr>\n",
       "    <tr>\n",
       "      <th>2</th>\n",
       "      <td>CHEBI:8</td>\n",
       "      <td>CHEBI:8</td>\n",
       "      <td>computation</td>\n",
       "    </tr>\n",
       "    <tr>\n",
       "      <th>3</th>\n",
       "      <td>CHEBI:19</td>\n",
       "      <td>CHEBI:19</td>\n",
       "      <td>computation</td>\n",
       "    </tr>\n",
       "    <tr>\n",
       "      <th>4</th>\n",
       "      <td>CHEBI:20</td>\n",
       "      <td>CHEBI:20</td>\n",
       "      <td>computation</td>\n",
       "    </tr>\n",
       "    <tr>\n",
       "      <th>...</th>\n",
       "      <td>...</td>\n",
       "      <td>...</td>\n",
       "      <td>...</td>\n",
       "    </tr>\n",
       "    <tr>\n",
       "      <th>119802</th>\n",
       "      <td>CHEBI:691037</td>\n",
       "      <td>CHEBI:691037</td>\n",
       "      <td>computation</td>\n",
       "    </tr>\n",
       "    <tr>\n",
       "      <th>119803</th>\n",
       "      <td>CHEBI:691622</td>\n",
       "      <td>CHEBI:691622</td>\n",
       "      <td>computation</td>\n",
       "    </tr>\n",
       "    <tr>\n",
       "      <th>119804</th>\n",
       "      <td>CHEBI:741548</td>\n",
       "      <td>CHEBI:132939</td>\n",
       "      <td>computation</td>\n",
       "    </tr>\n",
       "    <tr>\n",
       "      <th>119805</th>\n",
       "      <td>CHEBI:744019</td>\n",
       "      <td>CHEBI:744019</td>\n",
       "      <td>computation</td>\n",
       "    </tr>\n",
       "    <tr>\n",
       "      <th>119806</th>\n",
       "      <td>CHEBI:746859</td>\n",
       "      <td>CHEBI:746859</td>\n",
       "      <td>computation</td>\n",
       "    </tr>\n",
       "  </tbody>\n",
       "</table>\n",
       "<p>119807 rows × 3 columns</p>\n",
       "</div>"
      ],
      "text/plain": [
       "               CHEBI   CHEBI_PH7_3       ORIGIN\n",
       "0            CHEBI:3       CHEBI:3  computation\n",
       "1            CHEBI:7       CHEBI:7  computation\n",
       "2            CHEBI:8       CHEBI:8  computation\n",
       "3           CHEBI:19      CHEBI:19  computation\n",
       "4           CHEBI:20      CHEBI:20  computation\n",
       "...              ...           ...          ...\n",
       "119802  CHEBI:691037  CHEBI:691037  computation\n",
       "119803  CHEBI:691622  CHEBI:691622  computation\n",
       "119804  CHEBI:741548  CHEBI:132939  computation\n",
       "119805  CHEBI:744019  CHEBI:744019  computation\n",
       "119806  CHEBI:746859  CHEBI:746859  computation\n",
       "\n",
       "[119807 rows x 3 columns]"
      ]
     },
     "execution_count": 89,
     "metadata": {},
     "output_type": "execute_result"
    }
   ],
   "source": [
    "ph_mapping_df"
   ]
  },
  {
   "cell_type": "code",
   "execution_count": 90,
   "id": "afd7468af0f9a848",
   "metadata": {
    "ExecuteTime": {
     "end_time": "2024-08-24T00:15:42.342755Z",
     "start_time": "2024-08-24T00:15:42.311545Z"
    },
    "collapsed": false,
    "jupyter": {
     "outputs_hidden": false
    }
   },
   "outputs": [],
   "source": [
    "# create a dict from the dataframe\n",
    "ph_mapping = dict(zip(ph_mapping_df['CHEBI'], ph_mapping_df['CHEBI_PH7_3']))"
   ]
  },
  {
   "cell_type": "code",
   "execution_count": 91,
   "id": "feb64fe9e36bbdec",
   "metadata": {
    "ExecuteTime": {
     "end_time": "2024-08-24T00:15:42.386948Z",
     "start_time": "2024-08-24T00:15:42.383741Z"
    },
    "collapsed": false,
    "jupyter": {
     "outputs_hidden": false
    }
   },
   "outputs": [
    {
     "data": {
      "text/plain": [
       "119807"
      ]
     },
     "execution_count": 91,
     "metadata": {},
     "output_type": "execute_result"
    }
   ],
   "source": [
    "len(ph_mapping)"
   ]
  },
  {
   "cell_type": "code",
   "execution_count": 92,
   "id": "f960fab3cbd8c968",
   "metadata": {
    "ExecuteTime": {
     "end_time": "2024-08-24T00:15:42.438818Z",
     "start_time": "2024-08-24T00:15:42.436633Z"
    }
   },
   "outputs": [],
   "source": [
    "# we expected leaf and leaf-y nodes to be mapped\n",
    "assert ph_mapping[CYSTEINATE_1_MINUS] == CYSTEINE_ZWITTERION"
   ]
  },
  {
   "cell_type": "code",
   "execution_count": 93,
   "id": "5d984c637fc464a6",
   "metadata": {
    "ExecuteTime": {
     "end_time": "2024-08-24T00:15:42.756643Z",
     "start_time": "2024-08-24T00:15:42.754150Z"
    }
   },
   "outputs": [],
   "source": [
    "assert ph_mapping[CITRIC_ACID] != CITRIC_ACID"
   ]
  },
  {
   "cell_type": "code",
   "execution_count": 94,
   "id": "6215936dbaf1e9f7",
   "metadata": {
    "ExecuteTime": {
     "end_time": "2024-08-24T00:15:43.083666Z",
     "start_time": "2024-08-24T00:15:43.078525Z"
    }
   },
   "outputs": [],
   "source": [
    "# reflexivity\n",
    "assert ph_mapping[L_CYSTEINE_ZWITTERION] == L_CYSTEINE_ZWITTERION\n",
    "assert ph_mapping[CYSTEINE_ZWITTERION] == CYSTEINE_ZWITTERION"
   ]
  },
  {
   "cell_type": "code",
   "execution_count": 95,
   "id": "3f295b2fce03ea7f",
   "metadata": {
    "ExecuteTime": {
     "end_time": "2024-08-24T00:15:43.404535Z",
     "start_time": "2024-08-24T00:15:43.399428Z"
    }
   },
   "outputs": [],
   "source": [
    "assert ph_mapping[WATER] == WATER"
   ]
  },
  {
   "cell_type": "code",
   "execution_count": 96,
   "id": "41959f4eb1f532e7",
   "metadata": {
    "ExecuteTime": {
     "end_time": "2024-08-24T00:15:43.721454Z",
     "start_time": "2024-08-24T00:15:43.717362Z"
    }
   },
   "outputs": [],
   "source": [
    "# groupings are not mapped\n",
    "assert AMINO_ACID not in ph_mapping"
   ]
  },
  {
   "cell_type": "code",
   "execution_count": 97,
   "id": "5a139dee44a44030",
   "metadata": {
    "ExecuteTime": {
     "end_time": "2024-08-24T00:15:44.150952Z",
     "start_time": "2024-08-24T00:15:44.072155Z"
    },
    "collapsed": false,
    "jupyter": {
     "outputs_hidden": false
    }
   },
   "outputs": [
    {
     "data": {
      "text/plain": [
       "111077"
      ]
     },
     "execution_count": 97,
     "metadata": {},
     "output_type": "execute_result"
    }
   ],
   "source": [
    "# create a reverse mapping\n",
    "\n",
    "rev_ph_mapping = defaultdict(list)\n",
    "for k, v in ph_mapping.items():\n",
    "    rev_ph_mapping[v].append(k)\n",
    "    \n",
    "len(rev_ph_mapping)"
   ]
  },
  {
   "cell_type": "code",
   "execution_count": 98,
   "id": "7c88440d52718d0a",
   "metadata": {
    "ExecuteTime": {
     "end_time": "2024-08-24T00:15:45.050409Z",
     "start_time": "2024-08-24T00:15:45.024002Z"
    }
   },
   "outputs": [
    {
     "data": {
      "text/plain": [
       "(8140, 102937)"
      ]
     },
     "execution_count": 98,
     "metadata": {},
     "output_type": "execute_result"
    }
   ],
   "source": [
    "rhea_sccs = []\n",
    "rhea_singletons = []\n",
    "for _, clique in rev_ph_mapping.items():\n",
    "    if len(clique) > 1:\n",
    "        rhea_sccs.append(set(clique))\n",
    "    else:\n",
    "        rhea_singletons.append(clique[0])\n",
    "\n",
    "len(rhea_sccs), len(rhea_singletons)"
   ]
  },
  {
   "cell_type": "code",
   "execution_count": 99,
   "id": "9120365808e9bc04",
   "metadata": {
    "ExecuteTime": {
     "end_time": "2024-08-24T00:15:45.017037Z",
     "start_time": "2024-08-24T00:15:45.014725Z"
    },
    "collapsed": false,
    "jupyter": {
     "outputs_hidden": false
    }
   },
   "outputs": [],
   "source": [
    "assert L_CYSTEINE_ZWITTERION in rev_ph_mapping[L_CYSTEINE_ZWITTERION]\n",
    "assert CYSTEINATE_1_MINUS in rev_ph_mapping[CYSTEINE_ZWITTERION]\n",
    "\n"
   ]
  },
  {
   "cell_type": "code",
   "execution_count": null,
   "id": "e5792b2c75c4a675",
   "metadata": {
    "ExecuteTime": {
     "end_time": "2024-08-24T00:15:41.956470Z",
     "start_time": "2024-08-24T00:15:41.855434Z"
    }
   },
   "outputs": [],
   "source": []
  },
  {
   "cell_type": "code",
   "execution_count": null,
   "id": "9ab37d9db461f843",
   "metadata": {
    "ExecuteTime": {
     "end_time": "2024-08-24T00:15:40.905262Z",
     "start_time": "2024-08-24T00:15:40.903477Z"
    },
    "collapsed": false,
    "jupyter": {
     "outputs_hidden": false
    }
   },
   "outputs": [],
   "source": [
    "\n"
   ]
  },
  {
   "cell_type": "markdown",
   "id": "66a36fcc-cd43-47da-bacf-5329c36d070e",
   "metadata": {
    "ExecuteTime": {
     "end_time": "2024-08-24T00:15:41.219539Z",
     "start_time": "2024-08-24T00:15:41.217559Z"
    },
    "collapsed": false,
    "jupyter": {
     "outputs_hidden": false
    }
   },
   "source": [
    "## Consistency analysis\n",
    "\n",
    "venn diagram of overlaps between:\n",
    "\n",
    " - lexical_sccs\n",
    " - asserted_sccs\n",
    " - rhea_sccs"
   ]
  },
  {
   "cell_type": "code",
   "execution_count": 100,
   "id": "2305e056b7c20879",
   "metadata": {
    "ExecuteTime": {
     "end_time": "2024-08-24T00:25:07.736974Z",
     "start_time": "2024-08-24T00:25:07.639766Z"
    }
   },
   "outputs": [
    {
     "name": "stderr",
     "output_type": "stream",
     "text": [
      "/Users/cjm/repos/chemessence/.venv/lib/python3.9/site-packages/matplotlib_venn/_util.py:62: UserWarning: venn3_unweighted is deprecated. Use venn3 with the appropriate layout_algorithm instead.\n",
      "  warnings.warn(\n"
     ]
    },
    {
     "data": {
      "image/png": "[encoded data removed]",
      "text/plain": [
       "<Figure size 640x480 with 1 Axes>"
      ]
     },
     "metadata": {},
     "output_type": "display_data"
    }
   ],
   "source": [
    "\n",
    "\n",
    "from matplotlib_venn import venn3\n",
    "from matplotlib_venn import venn3_unweighted\n",
    "\n",
    "import matplotlib.pyplot as plt\n",
    "\n",
    "def hashable_scc_for_list(sccs):\n",
    "    \"\"\"\n",
    "    returns a set of hashes of each scc\n",
    "    \"\"\"\n",
    "    return set([tuple(sorted(list(scc))) for scc in sccs])\n",
    "\n",
    "def my_venn3(sccs_list, *args, **kwargs):\n",
    "    \"\"\"\n",
    "    Draw venn diagram of SCC Lists.\n",
    "\n",
    "    Note: Each element in each set is a complete SCC, thus if two SCCs\n",
    "    overlap but are non-identical, they are treated differently.\n",
    "    \"\"\"\n",
    "    scc_sets = [hashable_scc_for_list(sccs) for sccs in sccs_list]\n",
    "    venn3_unweighted(scc_sets, *args, **kwargs)\n",
    "\n",
    "my_venn3([lexical_sccs, asserted_sccs, rhea_sccs], (\"Lexical\", \"Asserted\", \"Rhea\"))\n",
    "plt.show()"
   ]
  },
  {
   "cell_type": "code",
   "execution_count": null,
   "id": "96f038a31ac729b0",
   "metadata": {},
   "outputs": [],
   "source": []
  },
  {
   "cell_type": "code",
   "execution_count": null,
   "id": "ce0321a0c59abbe8",
   "metadata": {
    "ExecuteTime": {
     "end_time": "2024-08-24T00:15:17.583624Z",
     "start_time": "2024-08-24T00:15:17.567225Z"
    }
   },
   "outputs": [],
   "source": []
  },
  {
   "cell_type": "markdown",
   "id": "9ab6512f389c6a93",
   "metadata": {},
   "source": [
    "## Pick Canonical from Conjugate Cliques\n",
    "\n",
    "For each clique, pick the canonical term. This will typically be the pH 7.3 term, but this is not always calculated.\n",
    "\n",
    "Priority order:\n",
    "    \n",
    " 1. pH 7.3 mapping\n",
    " 2. The one with a Uniprot synonym (biologist synonym)\n",
    " 3. The member that has Charge==0"
   ]
  },
  {
   "cell_type": "code",
   "execution_count": 101,
   "id": "e878bc530b346f26",
   "metadata": {
    "ExecuteTime": {
     "end_time": "2024-08-24T00:15:45.417866Z",
     "start_time": "2024-08-24T00:15:45.411105Z"
    }
   },
   "outputs": [],
   "source": [
    "\n",
    "arbitrary_canonical_map = {}\n",
    "def pick_canonical(ids: List[str]) -> str:\n",
    "    \"\"\"\n",
    "    Pick the canonical term from a list of ids.\n",
    "    \n",
    "    Priority order:\n",
    "    \n",
    "    1. pH mapping\n",
    "    2. Uniprot synonyms\n",
    "    3. Charge 0\n",
    "    \n",
    "    :param ids: SCC\n",
    "    :return: \n",
    "    \"\"\"\n",
    "    # ensure deterministic order\n",
    "    ids = sorted(ids)\n",
    "    for id in ids:\n",
    "        if id in ph_mapping:\n",
    "            return ph_mapping[id]\n",
    "    for id in ids:\n",
    "        if id in bio_syn_map:\n",
    "            return id\n",
    "    for id in ids:\n",
    "        if id in charges and charges[id] == 0:\n",
    "            return id\n",
    "    # prioritize shorter\n",
    "    ids = sorted(ids, key=lambda x: len(labels.get(x)))\n",
    "    for id in ids:\n",
    "        if id not in charges:\n",
    "            # last resort\n",
    "            return id\n",
    "    if len(ids) == 1:\n",
    "        return ids[0]\n",
    "    arbitrary_canonical_map[tuple(ids)] = ids[0]\n",
    "    return ids[0]\n",
    "    # raise ValueError(f\"Could not find canonical for {ids}\")\n",
    "\n",
    "\n",
    "    "
   ]
  },
  {
   "cell_type": "code",
   "execution_count": 102,
   "id": "437cc21e6c84393c",
   "metadata": {
    "ExecuteTime": {
     "end_time": "2024-08-24T00:15:45.779732Z",
     "start_time": "2024-08-24T00:15:45.775801Z"
    }
   },
   "outputs": [],
   "source": [
    "# tests\n",
    "assert pick_canonical([CITRIC_ACID]) == ph_mapping[CITRIC_ACID]\n",
    "assert pick_canonical([L_CYSTEINE_ZWITTERION]) == L_CYSTEINE_ZWITTERION\n",
    "assert pick_canonical([CYSTEINE_ZWITTERION, CYSTEINATE_1_MINUS, CYSTEINIUM]) == CYSTEINE_ZWITTERION\n",
    "assert pick_canonical([AMINO_ACID, AMINO_ACID_ANION]) == AMINO_ACID\n",
    "assert pick_canonical([ALPHA_AMINO_ACID, ALPHA_AMINO_ACID_ANION, ALPHA_AMINO_ACID_ZWITTERION]) == ALPHA_AMINO_ACID_ZWITTERION"
   ]
  },
  {
   "cell_type": "code",
   "execution_count": 103,
   "id": "25942fc6d94bd016",
   "metadata": {
    "ExecuteTime": {
     "end_time": "2024-08-24T00:15:46.522219Z",
     "start_time": "2024-08-24T00:15:46.520120Z"
    }
   },
   "outputs": [],
   "source": [
    "def my_venn3_canonical(sccs_list, *args, **kwargs):\n",
    "    \"\"\"\n",
    "    Draw venn diagram of SCC Lists.\n",
    "\n",
    "    Note: Each element in each set is a complete SCC, thus if two SCCs\n",
    "    overlap but are non-identical, they are treated differently.\n",
    "    \"\"\"\n",
    "    canonicals_lists = []\n",
    "    for sccs in sccs_list:\n",
    "        canonicals_lists.append(set([pick_canonical(scc) for scc in sccs]))\n",
    "    venn3_unweighted(canonicals_lists, *args, **kwargs)"
   ]
  },
  {
   "cell_type": "code",
   "execution_count": 104,
   "id": "43fef8eb-259f-4797-832d-49c2c32d2168",
   "metadata": {},
   "outputs": [
    {
     "data": {
      "image/png": "[encoded data removed]",
      "text/plain": [
       "<Figure size 640x480 with 1 Axes>"
      ]
     },
     "metadata": {},
     "output_type": "display_data"
    }
   ],
   "source": [
    "my_venn3_canonical([lexical_sccs, asserted_sccs, rhea_sccs], (\"Lexical Canonical\", \"Asserted Canonical\", \"Rhea Canonical\"))\n",
    "plt.show()"
   ]
  },
  {
   "cell_type": "markdown",
   "id": "a359dcc9-dbc5-4532-a787-ef33a55918bd",
   "metadata": {},
   "source": [
    "## Combine all SCCs and group by canonical member\n",
    "\n"
   ]
  },
  {
   "cell_type": "code",
   "execution_count": 105,
   "id": "5ac60d2c2ca3e36d",
   "metadata": {
    "ExecuteTime": {
     "end_time": "2024-08-24T00:15:46.540187Z",
     "start_time": "2024-08-24T00:15:46.528398Z"
    }
   },
   "outputs": [],
   "source": [
    "from typing import Set, Tuple\n",
    "\n",
    "\n",
    "def create_canonical_map(scc_sets: List[Set[str]]) -> Tuple[Dict[str, Set[str]], Dict[str, str]]:\n",
    "    \"\"\"\n",
    "    Create a mapping between canonical and members of the strongly connected components\n",
    "    \n",
    "    :param scc_sets: \n",
    "    :return: \n",
    "    \"\"\"\n",
    "    canonical_to_members = {}\n",
    "    for scc in scc_sets:\n",
    "        canonical = pick_canonical(scc)\n",
    "        canonical_to_members[canonical] = scc\n",
    "    members_to_canonical = {m: c for c, ms in canonical_to_members.items() for m in ms}\n",
    "    return (canonical_to_members, members_to_canonical)\n",
    "\n",
    "# Perform on asserted\n",
    "canonical_to_members, members_to_canonical = create_canonical_map(asserted_sccs)\n",
    "\n",
    "assert members_to_canonical[CYSTEINE_ZWITTERION] == CYSTEINE_ZWITTERION\n",
    "assert members_to_canonical[CYSTEINATE_1_MINUS] == CYSTEINE_ZWITTERION"
   ]
  },
  {
   "cell_type": "code",
   "execution_count": 106,
   "id": "50f22c21-816c-4a13-bf62-34d6439107a4",
   "metadata": {},
   "outputs": [
    {
     "data": {
      "text/plain": [
       "8542"
      ]
     },
     "execution_count": 106,
     "metadata": {},
     "output_type": "execute_result"
    }
   ],
   "source": [
    "len(canonical_to_members)"
   ]
  },
  {
   "cell_type": "code",
   "execution_count": 107,
   "id": "144827585302bdb6",
   "metadata": {
    "ExecuteTime": {
     "end_time": "2024-08-24T00:15:48.036517Z",
     "start_time": "2024-08-24T00:15:48.034616Z"
    }
   },
   "outputs": [],
   "source": [
    "assert len(canonical_to_members) > 8000"
   ]
  },
  {
   "cell_type": "code",
   "execution_count": 108,
   "id": "a021fe7fed571235",
   "metadata": {
    "ExecuteTime": {
     "end_time": "2024-08-24T00:15:48.400035Z",
     "start_time": "2024-08-24T00:15:48.390743Z"
    }
   },
   "outputs": [
    {
     "data": {
      "text/plain": [
       "31432"
      ]
     },
     "execution_count": 108,
     "metadata": {},
     "output_type": "execute_result"
    }
   ],
   "source": [
    "# assess completeness of the sccs\n",
    "missing_in_conjugate_sccs = []\n",
    "for chem in stem_to_chem.keys():\n",
    "    if chem not in canonical_to_members:\n",
    "        missing_in_conjugate_sccs.append(chem)\n",
    "        \n",
    "len(missing_in_conjugate_sccs)"
   ]
  },
  {
   "cell_type": "code",
   "execution_count": 109,
   "id": "803cbc15883d0c19",
   "metadata": {
    "ExecuteTime": {
     "end_time": "2024-08-24T00:15:48.752801Z",
     "start_time": "2024-08-24T00:15:48.747771Z"
    }
   },
   "outputs": [
    {
     "data": {
      "text/plain": [
       "1928"
      ]
     },
     "execution_count": 109,
     "metadata": {},
     "output_type": "execute_result"
    }
   ],
   "source": [
    "missing_in_lexical_analysis = []\n",
    "for chem in canonical_to_members.keys():\n",
    "    if chem not in chem_to_stem:\n",
    "        missing_in_lexical_analysis.append(chem)\n",
    "        \n",
    "len(missing_in_lexical_analysis)"
   ]
  },
  {
   "cell_type": "markdown",
   "id": "aef82e93-d0ee-49e9-a364-7af94febb284",
   "metadata": {},
   "source": [
    "## Combine all SCCs"
   ]
  },
  {
   "cell_type": "code",
   "execution_count": 110,
   "id": "c49abac57eb8498",
   "metadata": {
    "ExecuteTime": {
     "end_time": "2024-08-24T00:15:54.975376Z",
     "start_time": "2024-08-24T00:15:49.110226Z"
    }
   },
   "outputs": [
    {
     "data": {
      "text/plain": [
       "9324"
      ]
     },
     "execution_count": 110,
     "metadata": {},
     "output_type": "execute_result"
    }
   ],
   "source": [
    "# DEPRECATE!\n",
    "for _, vmap in stem_to_chem.items():\n",
    "    for v1 in vmap.values():\n",
    "        for v2 in vmap.values():\n",
    "            if v1 > v2:\n",
    "                rel = (v1, \"?\", v2)\n",
    "                if rel not in conjrels:\n",
    "                    conjrels.append(rel)\n",
    "                # conj_graph.add_edge(v1, v2))\n",
    "conj_graph = calculate_conj_graph(conjrels)\n",
    "full_sccs = list(nx.strongly_connected_components(conj_graph))\n",
    "len(full_sccs)"
   ]
  },
  {
   "cell_type": "code",
   "execution_count": 166,
   "id": "1ec86e4d-8d4b-43a9-b19b-ca10b3e39ffe",
   "metadata": {},
   "outputs": [
    {
     "data": {
      "text/plain": [
       "26036"
      ]
     },
     "execution_count": 166,
     "metadata": {},
     "output_type": "execute_result"
    }
   ],
   "source": [
    "all_rels = []\n",
    "for sccs in [lexical_sccs, asserted_sccs, rhea_sccs]:\n",
    "    for scc in sccs:\n",
    "        sccl = list(scc)\n",
    "        v1 = sccl[0]\n",
    "        for v2 in sccl[1:]:\n",
    "            rel = (v1, \"?\", v2)\n",
    "            all_rels.append(rel)\n",
    "len(all_rels)\n"
   ]
  },
  {
   "cell_type": "code",
   "execution_count": 167,
   "id": "676cd94e-1c13-4b13-8327-4363a4956962",
   "metadata": {},
   "outputs": [],
   "source": [
    "full_graph = calculate_conj_graph(all_rels)\n"
   ]
  },
  {
   "cell_type": "code",
   "execution_count": 168,
   "id": "f7a181fb-243c-4197-9349-6ac3180f013a",
   "metadata": {},
   "outputs": [
    {
     "data": {
      "text/plain": [
       "9541"
      ]
     },
     "execution_count": 168,
     "metadata": {},
     "output_type": "execute_result"
    }
   ],
   "source": [
    "full_sccs = list(nx.strongly_connected_components(full_graph))\n",
    "len(full_sccs)"
   ]
  },
  {
   "cell_type": "markdown",
   "id": "ddcaccb58acaefc1",
   "metadata": {},
   "source": [
    "This number is the total number of cliques we will use"
   ]
  },
  {
   "cell_type": "code",
   "execution_count": null,
   "id": "a426f8f57483a9e9",
   "metadata": {
    "ExecuteTime": {
     "end_time": "2024-08-24T00:15:55.327907Z",
     "start_time": "2024-08-24T00:15:55.326335Z"
    }
   },
   "outputs": [],
   "source": []
  },
  {
   "cell_type": "code",
   "execution_count": 169,
   "id": "7e12327ea167d1f7",
   "metadata": {
    "ExecuteTime": {
     "end_time": "2024-08-24T00:15:55.688891Z",
     "start_time": "2024-08-24T00:15:55.677465Z"
    }
   },
   "outputs": [],
   "source": [
    "canonical_to_members, members_to_canonical = create_canonical_map(full_sccs)\n",
    "assert len(canonical_to_members) > 9000"
   ]
  },
  {
   "cell_type": "code",
   "execution_count": 170,
   "id": "47d4065d938af84f",
   "metadata": {
    "ExecuteTime": {
     "end_time": "2024-08-24T00:15:56.037218Z",
     "start_time": "2024-08-24T00:15:56.034231Z"
    }
   },
   "outputs": [
    {
     "data": {
      "text/plain": [
       "'amino acid'"
      ]
     },
     "execution_count": 170,
     "metadata": {},
     "output_type": "execute_result"
    }
   ],
   "source": [
    "labels[members_to_canonical[AMINO_ACID]]"
   ]
  },
  {
   "cell_type": "code",
   "execution_count": 171,
   "id": "8ae582d277664a82",
   "metadata": {
    "ExecuteTime": {
     "end_time": "2024-08-24T00:15:56.384195Z",
     "start_time": "2024-08-24T00:15:56.382058Z"
    }
   },
   "outputs": [],
   "source": [
    "assert members_to_canonical[AMINO_ACID_ANION] == AMINO_ACID"
   ]
  },
  {
   "cell_type": "code",
   "execution_count": 172,
   "id": "626846d3-d14c-4656-9dc7-bec733dbda4d",
   "metadata": {},
   "outputs": [
    {
     "data": {
      "text/plain": [
       "[{'CHEBI:38705',\n",
       "  'CHEBI:38707',\n",
       "  'CHEBI:38708',\n",
       "  'CHEBI:38709',\n",
       "  'CHEBI:38710',\n",
       "  'CHEBI:38712',\n",
       "  'CHEBI:38714',\n",
       "  'CHEBI:38715'}]"
      ]
     },
     "execution_count": 172,
     "metadata": {},
     "output_type": "execute_result"
    }
   ],
   "source": [
    "def scc_matches(sccs, x):\n",
    "    return [scc for scc in sccs if x in scc]\n",
    "\n",
    "scc_matches(full_sccs, \"CHEBI:38709\")"
   ]
  },
  {
   "cell_type": "code",
   "execution_count": 173,
   "id": "538cd51c-a6a2-4ef4-9cac-606b75b130f2",
   "metadata": {},
   "outputs": [
    {
     "data": {
      "text/plain": [
       "'CHEBI:38712'"
      ]
     },
     "execution_count": 173,
     "metadata": {},
     "output_type": "execute_result"
    }
   ],
   "source": [
    "members_to_canonical[\"CHEBI:38709\"]"
   ]
  },
  {
   "cell_type": "code",
   "execution_count": 174,
   "id": "69daa1cf3e2af9a4",
   "metadata": {
    "ExecuteTime": {
     "end_time": "2024-08-24T00:15:56.734865Z",
     "start_time": "2024-08-24T00:15:56.732138Z"
    }
   },
   "outputs": [
    {
     "data": {
      "text/plain": [
       "20229"
      ]
     },
     "execution_count": 174,
     "metadata": {},
     "output_type": "execute_result"
    }
   ],
   "source": [
    "len(members_to_canonical)"
   ]
  },
  {
   "cell_type": "markdown",
   "id": "ff7443169be8ebfe",
   "metadata": {},
   "source": [
    "## Exclusion List\n",
    "\n",
    "TODO: decide whether to include this"
   ]
  },
  {
   "cell_type": "code",
   "execution_count": 175,
   "id": "6f9c14d520e38499",
   "metadata": {
    "ExecuteTime": {
     "end_time": "2024-08-24T00:16:00.126305Z",
     "start_time": "2024-08-24T00:15:57.086873Z"
    },
    "collapsed": false,
    "jupyter": {
     "outputs_hidden": false
    }
   },
   "outputs": [],
   "source": [
    "ions = list(chebi.descendants(ION, [IS_A]))\n",
    "exclusion_list = [ion for ion in ions if ion not in canonical_to_members]"
   ]
  },
  {
   "cell_type": "code",
   "execution_count": 176,
   "id": "707d750e6f27b0d",
   "metadata": {
    "ExecuteTime": {
     "end_time": "2024-08-24T00:16:00.495569Z",
     "start_time": "2024-08-24T00:16:00.492363Z"
    },
    "collapsed": false,
    "jupyter": {
     "outputs_hidden": false
    }
   },
   "outputs": [
    {
     "data": {
      "text/plain": [
       "6637"
      ]
     },
     "execution_count": 176,
     "metadata": {},
     "output_type": "execute_result"
    }
   ],
   "source": [
    "len(exclusion_list)"
   ]
  },
  {
   "cell_type": "code",
   "execution_count": 177,
   "id": "62a8e753-0bb5-452f-9473-61517850c51d",
   "metadata": {},
   "outputs": [
    {
     "data": {
      "text/plain": [
       "0"
      ]
     },
     "execution_count": 177,
     "metadata": {},
     "output_type": "execute_result"
    }
   ],
   "source": [
    "len([x for x in exclusion_list if x in canonical_to_members])"
   ]
  },
  {
   "cell_type": "markdown",
   "id": "41e32cb3-7ebf-44fc-98cf-9dd546436b51",
   "metadata": {},
   "source": [
    "## TODO"
   ]
  },
  {
   "cell_type": "code",
   "execution_count": 180,
   "id": "3c25be2e-9181-45d0-bf3c-4ff2a6732a3c",
   "metadata": {},
   "outputs": [],
   "source": [
    "exclusion_list = []"
   ]
  },
  {
   "cell_type": "code",
   "execution_count": 181,
   "id": "42968bfd-8f9d-4f95-b288-b4cfdaf71d3c",
   "metadata": {},
   "outputs": [],
   "source": [
    "\n",
    "for x in [x for x in exclusion_list if x in canonical_to_members]:\n",
    "    print(x, chebi.label(x), canonical_to_members[x])"
   ]
  },
  {
   "cell_type": "code",
   "execution_count": 182,
   "id": "d4012fde318a42cb",
   "metadata": {
    "ExecuteTime": {
     "end_time": "2024-08-24T00:16:00.878734Z",
     "start_time": "2024-08-24T00:16:00.868151Z"
    },
    "collapsed": false,
    "jupyter": {
     "outputs_hidden": false
    }
   },
   "outputs": [],
   "source": [
    "# assert AAAC in exclusion_list, f\"expected {AAAC} in exclusion_list\"\n",
    "assert CITRIC_ACID not in exclusion_list\n",
    "assert AMINO_ACID not in exclusion_list"
   ]
  },
  {
   "cell_type": "code",
   "execution_count": 183,
   "id": "eb60026fd7282828",
   "metadata": {
    "ExecuteTime": {
     "end_time": "2024-08-24T00:16:01.236665Z",
     "start_time": "2024-08-24T00:16:01.233771Z"
    },
    "collapsed": false,
    "jupyter": {
     "outputs_hidden": false
    }
   },
   "outputs": [],
   "source": [
    "def rewire(id: str) -> Optional[str]:\n",
    "    \"\"\"\n",
    "    Rewire an ID to its canonical form, if it is not in the exclusion list\n",
    "    :param id: \n",
    "    :return: \n",
    "    \"\"\"\n",
    "    rewired =  members_to_canonical.get(id, id)\n",
    "    if rewired in exclusion_list:\n",
    "        return None\n",
    "    return rewired"
   ]
  },
  {
   "cell_type": "code",
   "execution_count": 184,
   "id": "d2f7eb4cab17323e",
   "metadata": {
    "ExecuteTime": {
     "end_time": "2024-08-24T00:16:01.591510Z",
     "start_time": "2024-08-24T00:16:01.588085Z"
    }
   },
   "outputs": [
    {
     "data": {
      "text/plain": [
       "'CHEBI:83410'"
      ]
     },
     "execution_count": 184,
     "metadata": {},
     "output_type": "execute_result"
    }
   ],
   "source": [
    "rewire(AAAE)"
   ]
  },
  {
   "cell_type": "code",
   "execution_count": 185,
   "id": "458724079e756895",
   "metadata": {
    "ExecuteTime": {
     "end_time": "2024-08-24T00:16:01.944113Z",
     "start_time": "2024-08-24T00:16:01.940983Z"
    }
   },
   "outputs": [],
   "source": [
    "assert rewire(AAAE) != AAAE\n",
    "assert rewire(AAAE) not in exclusion_list"
   ]
  },
  {
   "cell_type": "markdown",
   "id": "3c586153bb91baeb",
   "metadata": {},
   "source": [
    "## Generate Ontology\n",
    "\n",
    "Use the combined SCC list and canonical mappings to create a simplified ontology.\n",
    "\n",
    "In this ontology:\n",
    "\n",
    "- all members of a SCC are collapsed to the canonical member\n",
    "- non-canonical members are merged\n",
    "- edges pointing to these are re-wired"
   ]
  },
  {
   "cell_type": "code",
   "execution_count": 186,
   "id": "e1d93ec81dd98d00",
   "metadata": {
    "ExecuteTime": {
     "end_time": "2024-08-24T00:16:02.662044Z",
     "start_time": "2024-08-24T00:16:02.649433Z"
    },
    "collapsed": false,
    "jupyter": {
     "outputs_hidden": false
    }
   },
   "outputs": [],
   "source": [
    "from typing import Tuple\n",
    "from pydantic import BaseModel\n",
    "\n",
    "class Term(BaseModel):\n",
    "    \"\"\"\n",
    "    Class representing a CHEBI ontology term\n",
    "    \"\"\"\n",
    "    stanza_type: str = \"Term\"\n",
    "    id: str\n",
    "    label: str\n",
    "    synonyms: Optional[List[str]] = None\n",
    "    xrefs: Optional[List[str]] = []\n",
    "    alt_ids: Optional[List[str]] = None\n",
    "    parents: List[str] = []\n",
    "    relationships: List[Tuple[str, str]] = []\n",
    "    inchi: Optional[str] = None\n",
    "    physiologically_stable_form: Optional[str] = None\n",
    "    comments: List[str] = []\n",
    "    \n",
    "    def as_obo(self) -> str:\n",
    "        name = self.label.replace('{', r'\\{')\n",
    "        lines = [\n",
    "            f\"[{self.stanza_type}]\",\n",
    "            f\"id: {self.id}\",\n",
    "            f\"name: {name}\",\n",
    "        ]\n",
    "        lines += [f\"synonym: {s}\" for s in self.synonyms or []]\n",
    "        lines += [f\"alt_id: {alt_id}\" for alt_id in self.alt_ids or []]\n",
    "        lines += [f\"is_a: {is_a}\" for is_a in self.parents or []]\n",
    "        lines += [f\"xref: {xref}\" for xref in self.xrefs or []]\n",
    "        lines += [f\"relationship: {p} {v}\" for p, v in self.relationships or []]\n",
    "        lines += [f\"comment: {'; '.join(self.comments)}\"] if self.comments else []\n",
    "        lines += [f\"property_value: chemrof:inchi_string \\\"{self.inchi}\\\" xsd:string\"] if self.inchi else []\n",
    "        lines += [f\"property_value: chemrof:has_physiologically_stable_form {self.physiologically_stable_form}\"] if self.physiologically_stable_form else []\n",
    "        lines += [\"\"]\n",
    "        return \"\\n\".join(lines)\n",
    "        \n",
    "        \n",
    "class Ontology(BaseModel):\n",
    "    terms: List[Term] = []\n",
    "    \n",
    "    def as_obo(self) -> str:\n",
    "        lines = [\n",
    "            f\"ontology: chebi-slim\",\n",
    "             \"idspace: chemrof https://w3id.org/chemrof/\",\n",
    "            \"\",\n",
    "            ]\n",
    "        return \"\\n\".join(lines + [t.as_obo() for t in self.terms])"
   ]
  },
  {
   "cell_type": "code",
   "execution_count": 187,
   "id": "b196288c3d4bc41c",
   "metadata": {
    "ExecuteTime": {
     "end_time": "2024-08-24T00:16:03.035098Z",
     "start_time": "2024-08-24T00:16:03.023772Z"
    },
    "collapsed": false,
    "jupyter": {
     "outputs_hidden": false
    }
   },
   "outputs": [
    {
     "name": "stdout",
     "output_type": "stream",
     "text": [
      "[Term]\n",
      "id: CHEBI:35235\n",
      "name: L-cysteine\n",
      "alt_id: CHEBI:32442\n",
      "alt_id: CHEBI:32445\n",
      "alt_id: CHEBI:32443\n",
      "alt_id: CHEBI:17561\n",
      "is_a: CHEBI:35237\n",
      "is_a: CHEBI:59869\n",
      "is_a: CHEBI:26650\n",
      "is_a: CHEBI:83813\n",
      "xref: Gmelin:49993\n",
      "xref: Reaxys:4128886\n",
      "xref: Gmelin:325857\n",
      "xref: Beilstein:4128886\n",
      "xref: Gmelin:325860\n",
      "xref: Reaxys:5921923\n",
      "xref: Gmelin:325856\n",
      "xref: Beilstein:5921923\n",
      "xref: YMDB:YMDB00046\n",
      "xref: Wikipedia:Cysteine\n",
      "xref: Reaxys:1721408\n",
      "xref: PDBeChem:CYS\n",
      "xref: MetaCyc:CYS\n",
      "xref: KNApSAcK:C00001351\n",
      "xref: KEGG:D00026\n",
      "xref: KEGG:C00097\n",
      "xref: HMDB:HMDB0000574\n",
      "xref: Gmelin:49991\n",
      "xref: ECMDB:ECMDB00574\n",
      "xref: Drug_Central:769\n",
      "xref: DrugBank:DB00151\n",
      "xref: CAS:52-90-4\n",
      "xref: Beilstein:1721408\n",
      "relationship: RO:0018039 CHEBI:35236\n",
      "relationship: RO:0000087 CHEBI:78675\n",
      "relationship: RO:0000087 CHEBI:64577\n",
      "relationship: RO:0000087 CHEBI:77703\n",
      "relationship: RO:0000087 CHEBI:77746\n",
      "comment: Original: CHEBI:35235->CHEBI:59814 rewired as CHEBI:32442->CHEBI:59869 (PC); Original: CHEBI:35235->CHEBI:26650 rewired as CHEBI:17561->CHEBI:26650 (C); Original: CHEBI:35235->CHEBI:83813 rewired as CHEBI:17561->CHEBI:83813 (C)\n",
      "property_value: chemrof:inchi_string \"InChI=1S/C3H7NO2S/c4-2(1-7)3(5)6/h2,7H,1,4H2,(H,5,6)/t2-/m0/s1\" xsd:string\n",
      "property_value: chemrof:has_physiologically_stable_form CHEBI:35235\n",
      "\n"
     ]
    }
   ],
   "source": [
    "# HACK: ideally we would use uniprot synonym to give terms their biologist-friendly\n",
    "# protonation-agnostic label. However, these are incomplete, and are never present\n",
    "# for groupings, including e.g \"lysine\" (only L-lysine).\n",
    "# here we lop off the protonation state (as we have made it state-agnostic),\n",
    "# but this is not a great solution as we still end up with e.g. \"lysinium\"\n",
    "BAD_SUFFIXES = [\" zwitterion\", \" ion\", \"(1+)\", \"(2+)\"] # relabel these\n",
    "\n",
    "def make_term(id: str) -> Optional[Term]:\n",
    "    \"\"\"\n",
    "    Make a term from an ID\n",
    "    \n",
    "    :param id: \n",
    "    :return: Term object, or None if term is to be excluded\n",
    "    \"\"\"\n",
    "    #if id in exclusion_list:\n",
    "    #    return None\n",
    "    if members_to_canonical.get(id, id) != id:\n",
    "        # non-canonical members are not included\n",
    "        return None\n",
    "    #if id not in initial_terms:\n",
    "    #    # filter for testing\n",
    "    #    return None\n",
    "    label = labels.get(id, id)\n",
    "    if id in bio_syn_map:\n",
    "        label = bio_syn_map[id]\n",
    "    else:\n",
    "        for suffix in BAD_SUFFIXES:\n",
    "            if label.endswith(suffix):\n",
    "                label = label.replace(suffix, \"\")\n",
    "    term = Term(id=id, label=label)\n",
    "    alt_ids = [x for x in canonical_to_members.get(id, []) if x != id]\n",
    "    if id in ph_mapping:\n",
    "        term.physiologically_stable_form = ph_mapping[id]\n",
    "    if alt_ids:\n",
    "        term.alt_ids = alt_ids\n",
    "    else:\n",
    "        alt_ids = []\n",
    "    equiv_set = [id] + alt_ids\n",
    "    comments = []\n",
    "    for alt_id in equiv_set:\n",
    "        for parent in is_a_map.get(alt_id, []):\n",
    "            rewired_parent = rewire(parent)\n",
    "            if rewired_parent and rewired_parent not in term.parents:\n",
    "                term.parents.append(rewired_parent)\n",
    "                if rewired_parent != parent or alt_id != id:\n",
    "                    ch = \"\"\n",
    "                    if rewired_parent != parent:\n",
    "                        ch += \"P\"\n",
    "                    if alt_id != id:\n",
    "                        ch += \"C\"\n",
    "                    comments.append(f\"Original: {id}->{parent} rewired as {alt_id}->{rewired_parent} ({ch})\")\n",
    "        for (p, o) in preserved_rels_by_subject.get(alt_id, []):\n",
    "            rewired_o = rewire(o)\n",
    "            if rewired_o and (p, rewired_o) not in term.relationships:\n",
    "                term.relationships.append((p, rewired_o))\n",
    "        # TODO: xrefs\n",
    "        for xref in xrefs.get(alt_id, []):\n",
    "            if xref.startswith(\"PMID:\"):\n",
    "                continue\n",
    "            term.xrefs.append(xref)\n",
    "        if alt_id in inchis:\n",
    "            if not term.inchi:\n",
    "                term.inchi = inchis[alt_id]\n",
    "    term.comments = comments\n",
    "    return term\n",
    "\n",
    "\n",
    "#assert L_CYSTEINE_ZWITTERION in initial_terms\n",
    "t = make_term(L_CYSTEINE_ZWITTERION)\n",
    "assert t.label == \"L-cysteine\"\n",
    "print(t.as_obo())"
   ]
  },
  {
   "cell_type": "code",
   "execution_count": 188,
   "id": "2a3ed58115eabd33",
   "metadata": {
    "ExecuteTime": {
     "end_time": "2024-08-24T00:16:03.397248Z",
     "start_time": "2024-08-24T00:16:03.394309Z"
    }
   },
   "outputs": [],
   "source": [
    "assert rewire(is_a_map[CORD_E][0]) not in exclusion_list"
   ]
  },
  {
   "cell_type": "code",
   "execution_count": 189,
   "id": "238e38614ea62be7",
   "metadata": {
    "ExecuteTime": {
     "end_time": "2024-08-24T00:16:03.748084Z",
     "start_time": "2024-08-24T00:16:03.744976Z"
    }
   },
   "outputs": [
    {
     "name": "stdout",
     "output_type": "stream",
     "text": [
      "[Term]\n",
      "id: CHEBI:213754\n",
      "name: Cordycepamide E\n",
      "is_a: CHEBI:83410\n",
      "comment: Original: CHEBI:213754->CHEBI:46874 rewired as CHEBI:213754->CHEBI:83410 (P)\n",
      "property_value: chemrof:inchi_string \"InChI=1S/C15H19NO4/c1-9(2)13-14(18)16(3)12(15(19)20-13)8-10-4-6-11(17)7-5-10/h4-7,9,12-13,17H,8H2,1-3H3/t12-,13+/m0/s1\" xsd:string\n",
      "property_value: chemrof:has_physiologically_stable_form CHEBI:213754\n",
      "\n"
     ]
    }
   ],
   "source": [
    "t = make_term(CORD_E)\n",
    "print(t.as_obo())\n"
   ]
  },
  {
   "cell_type": "code",
   "execution_count": 190,
   "id": "b4c0d1d4-6ae0-48e8-8f90-823269b44a13",
   "metadata": {},
   "outputs": [
    {
     "name": "stdout",
     "output_type": "stream",
     "text": [
      "[Term]\n",
      "id: CHEBI:32564\n",
      "name: lysinium\n",
      "alt_id: CHEBI:32563\n",
      "alt_id: CHEBI:32565\n",
      "alt_id: CHEBI:25094\n",
      "is_a: CHEBI:78608\n",
      "is_a: CHEBI:62031\n",
      "is_a: CHEBI:35987\n",
      "xref: Gmelin:815095\n",
      "xref: Wikipedia:Lysine\n",
      "xref: Reaxys:1616991\n",
      "xref: KEGG:C16440\n",
      "xref: Gmelin:279284\n",
      "xref: CAS:70-54-2\n",
      "xref: Beilstein:1616991\n",
      "relationship: BFO:0000051 CHEBI:50339\n",
      "relationship: RO:0000087 CHEBI:83056\n",
      "comment: Original: CHEBI:32564->CHEBI:33719 rewired as CHEBI:32564->CHEBI:78608 (P); Original: CHEBI:32564->CHEBI:26167 rewired as CHEBI:25094->CHEBI:62031 (PC); Original: CHEBI:32564->CHEBI:35987 rewired as CHEBI:25094->CHEBI:35987 (C)\n",
      "property_value: chemrof:inchi_string \"InChI=1S/C6H14N2O2/c7-4-2-1-3-5(8)6(9)10/h5H,1-4,7-8H2,(H,9,10)/p+1\" xsd:string\n",
      "property_value: chemrof:has_physiologically_stable_form CHEBI:32564\n",
      "\n"
     ]
    }
   ],
   "source": [
    "t = make_term(\"CHEBI:32564\")\n",
    "print(t.as_obo())\n",
    "assert t.label == \"lysinium\""
   ]
  },
  {
   "cell_type": "code",
   "execution_count": 191,
   "id": "bc403819eabb21f5",
   "metadata": {
    "ExecuteTime": {
     "end_time": "2024-08-24T00:16:04.101826Z",
     "start_time": "2024-08-24T00:16:04.096810Z"
    },
    "collapsed": false,
    "jupyter": {
     "outputs_hidden": false
    }
   },
   "outputs": [
    {
     "name": "stdout",
     "output_type": "stream",
     "text": [
      "[Term]\n",
      "id: CHEBI:35237\n",
      "name: cysteine\n",
      "alt_id: CHEBI:15356\n",
      "alt_id: CHEBI:32456\n",
      "alt_id: CHEBI:32457\n",
      "alt_id: CHEBI:32458\n",
      "is_a: CHEBI:33709\n",
      "is_a: CHEBI:62031\n",
      "is_a: CHEBI:26834\n",
      "is_a: CHEBI:78608\n",
      "xref: Gmelin:49992\n",
      "xref: Wikipedia:Cysteine\n",
      "xref: Reaxys:1721406\n",
      "xref: KNApSAcK:C00007323\n",
      "xref: KNApSAcK:C00001351\n",
      "xref: KEGG:C00736\n",
      "xref: Gmelin:2933\n",
      "xref: CAS:3374-22-9\n",
      "xref: Beilstein:1721406\n",
      "xref: Reaxys:4128885\n",
      "xref: Gmelin:363235\n",
      "xref: Beilstein:4128885\n",
      "xref: Gmelin:49990\n",
      "xref: Gmelin:325859\n",
      "relationship: BFO:0000051 CHEBI:50326\n",
      "relationship: RO:0000087 CHEBI:78675\n",
      "comment: Original: CHEBI:35237->CHEBI:35238 rewired as CHEBI:35237->CHEBI:33709 (P); Original: CHEBI:35237->CHEBI:26167 rewired as CHEBI:15356->CHEBI:62031 (PC); Original: CHEBI:35237->CHEBI:26834 rewired as CHEBI:15356->CHEBI:26834 (C); Original: CHEBI:35237->CHEBI:33704 rewired as CHEBI:15356->CHEBI:78608 (PC)\n",
      "property_value: chemrof:inchi_string \"InChI=1S/C3H7NO2S/c4-2(1-7)3(5)6/h2,7H,1,4H2,(H,5,6)\" xsd:string\n",
      "property_value: chemrof:has_physiologically_stable_form CHEBI:35237\n",
      "\n"
     ]
    }
   ],
   "source": [
    "\n",
    "# assert CYSTEINE_ZWITTERION in initial_terms\n",
    "t = make_term(CYSTEINE_ZWITTERION)\n",
    "assert t.label == \"cysteine\"\n",
    "assert \"CHEBI:78608\" in t.parents\n",
    "print(t.as_obo())"
   ]
  },
  {
   "cell_type": "code",
   "execution_count": 195,
   "id": "79d094c451d6a3d9",
   "metadata": {
    "ExecuteTime": {
     "end_time": "2024-08-24T00:16:04.461658Z",
     "start_time": "2024-08-24T00:16:04.458964Z"
    },
    "collapsed": false,
    "jupyter": {
     "outputs_hidden": false
    }
   },
   "outputs": [
    {
     "name": "stdout",
     "output_type": "stream",
     "text": [
      "CHEBI:33709 amino acid\n",
      "CHEBI:62031 polar amino acid zwitterion\n",
      "CHEBI:26834 sulfur-containing amino acid\n",
      "CHEBI:78608 alpha-amino acid zwitterion\n"
     ]
    }
   ],
   "source": [
    "# show parents\n",
    "# note:\n",
    "#   - some may be redundant, this will come out in reasoning\n",
    "#   - the labels are from main CHEBI, and not the newer labels\n",
    "for is_a in t.parents:\n",
    "    print(is_a, labels[is_a])"
   ]
  },
  {
   "cell_type": "code",
   "execution_count": 196,
   "id": "da5e5366-ae22-4656-8d94-65cd0091a035",
   "metadata": {},
   "outputs": [],
   "source": [
    "\n",
    "assert len(t.parents) == 4"
   ]
  },
  {
   "cell_type": "code",
   "execution_count": 197,
   "id": "2ae23324e2b21a47",
   "metadata": {
    "ExecuteTime": {
     "end_time": "2024-08-24T00:16:04.819737Z",
     "start_time": "2024-08-24T00:16:04.815776Z"
    }
   },
   "outputs": [
    {
     "name": "stdout",
     "output_type": "stream",
     "text": [
      "[Term]\n",
      "id: CHEBI:78608\n",
      "name: an alpha-amino acid\n",
      "alt_id: CHEBI:33558\n",
      "alt_id: CHEBI:33719\n",
      "alt_id: CHEBI:33704\n",
      "is_a: CHEBI:33709\n",
      "xref: MetaCyc:Alpha-Amino-Acids\n",
      "xref: KEGG:C05167\n",
      "xref: KEGG:C00045\n",
      "comment: Original: CHEBI:78608->CHEBI:35238 rewired as CHEBI:78608->CHEBI:33709 (P)\n",
      "property_value: chemrof:has_physiologically_stable_form CHEBI:78608\n",
      "\n"
     ]
    }
   ],
   "source": [
    "print(make_term(ALPHA_AMINO_ACID_ZWITTERION).as_obo())"
   ]
  },
  {
   "cell_type": "code",
   "execution_count": 198,
   "id": "7cf212252b470eac",
   "metadata": {
    "ExecuteTime": {
     "end_time": "2024-08-24T00:16:05.176457Z",
     "start_time": "2024-08-24T00:16:05.173476Z"
    }
   },
   "outputs": [
    {
     "name": "stdout",
     "output_type": "stream",
     "text": [
      "[Term]\n",
      "id: CHEBI:25944\n",
      "name: pesticide\n",
      "is_a: CHEBI:33232\n",
      "xref: Wikipedia:Pesticide\n",
      "\n"
     ]
    }
   ],
   "source": [
    "t = make_term(\"CHEBI:25944\")\n",
    "t.comments\n",
    "print(t.as_obo())\n"
   ]
  },
  {
   "cell_type": "code",
   "execution_count": 200,
   "id": "07dbc3c3-9a43-4df9-8375-bf12f36be23e",
   "metadata": {},
   "outputs": [
    {
     "name": "stdout",
     "output_type": "stream",
     "text": [
      "[Term]\n",
      "id: CHEBI:38712\n",
      "name: 2-mercaptosuccinate\n",
      "alt_id: CHEBI:38709\n",
      "alt_id: CHEBI:38705\n",
      "alt_id: CHEBI:38708\n",
      "alt_id: CHEBI:38714\n",
      "alt_id: CHEBI:38707\n",
      "alt_id: CHEBI:38715\n",
      "alt_id: CHEBI:38710\n",
      "is_a: CHEBI:38712\n",
      "is_a: CHEBI:61336\n",
      "is_a: CHEBI:35695\n",
      "is_a: CHEBI:38717\n",
      "is_a: CHEBI:28965\n",
      "xref: Gmelin:327565\n",
      "xref: Beilstein:4986676\n",
      "xref: Gmelin:602204\n",
      "xref: Gmelin:218084\n",
      "xref: CAS:70-49-5\n",
      "xref: Beilstein:1099858\n",
      "xref: Gmelin:602203\n",
      "xref: Gmelin:2186863\n",
      "xref: Beilstein:8141616\n",
      "xref: Gmelin:327564\n",
      "xref: Beilstein:4181562\n",
      "comment: Original: CHEBI:38712->CHEBI:38710 rewired as CHEBI:38712->CHEBI:38712 (P); Original: CHEBI:38712->CHEBI:35695 rewired as CHEBI:38708->CHEBI:35695 (C); Original: CHEBI:38712->CHEBI:38717 rewired as CHEBI:38715->CHEBI:38717 (C); Original: CHEBI:38712->CHEBI:28965 rewired as CHEBI:38710->CHEBI:28965 (C)\n",
      "property_value: chemrof:inchi_string \"InChI=1S/C4H6O4S/c5-3(6)1-2(9)4(7)8/h2,9H,1H2,(H,5,6)(H,7,8)/p-2\" xsd:string\n",
      "property_value: chemrof:has_physiologically_stable_form CHEBI:38712\n",
      "\n"
     ]
    }
   ],
   "source": [
    "t = make_term(members_to_canonical[\"CHEBI:38709\"])\n",
    "print(t.as_obo())"
   ]
  },
  {
   "cell_type": "code",
   "execution_count": 201,
   "id": "4fde5945f3dbd863",
   "metadata": {
    "ExecuteTime": {
     "end_time": "2024-08-24T00:16:05.536414Z",
     "start_time": "2024-08-24T00:16:05.531782Z"
    }
   },
   "outputs": [
    {
     "name": "stdout",
     "output_type": "stream",
     "text": [
      "[Term]\n",
      "id: CHEBI:14321\n",
      "name: glutamate\n",
      "alt_id: CHEBI:29987\n",
      "alt_id: CHEBI:18237\n",
      "is_a: CHEBI:78608\n",
      "is_a: CHEBI:28965\n",
      "is_a: CHEBI:62031\n",
      "xref: Gmelin:327908\n",
      "xref: Reaxys:4134100\n",
      "xref: Gmelin:327903\n",
      "xref: Beilstein:4134100\n",
      "xref: Wikipedia:Glutamic_acid\n",
      "xref: Reaxys:1723799\n",
      "xref: KNApSAcK:C00019577\n",
      "xref: KNApSAcK:C00001358\n",
      "xref: KEGG:D04341\n",
      "xref: KEGG:C00302\n",
      "xref: Gmelin:101971\n",
      "xref: CAS:617-65-2\n",
      "xref: Beilstein:1723799\n",
      "relationship: RO:0000087 CHEBI:78675\n",
      "relationship: BFO:0000051 CHEBI:50329\n",
      "comment: Original: CHEBI:14321->CHEBI:33558 rewired as CHEBI:14321->CHEBI:78608 (P); Original: CHEBI:14321->CHEBI:28965 rewired as CHEBI:29987->CHEBI:28965 (C); Original: CHEBI:14321->CHEBI:26167 rewired as CHEBI:18237->CHEBI:62031 (PC)\n",
      "property_value: chemrof:inchi_string \"InChI=1S/C5H9NO4/c6-3(5(9)10)1-2-4(7)8/h3H,1-2,6H2,(H,7,8)(H,9,10)/p-1\" xsd:string\n",
      "property_value: chemrof:has_physiologically_stable_form CHEBI:14321\n",
      "\n"
     ]
    }
   ],
   "source": [
    "GLU_1M = \"CHEBI:14321\"\n",
    "assert preserved_rels_by_subject[GLU_1M]\n",
    "print(make_term(GLU_1M).as_obo())"
   ]
  },
  {
   "cell_type": "code",
   "execution_count": 202,
   "id": "bad0eb941e50a582",
   "metadata": {
    "ExecuteTime": {
     "end_time": "2024-08-24T00:16:05.895884Z",
     "start_time": "2024-08-24T00:16:05.892222Z"
    }
   },
   "outputs": [
    {
     "data": {
      "text/plain": [
       "'an alpha-amino acid'"
      ]
     },
     "execution_count": 202,
     "metadata": {},
     "output_type": "execute_result"
    }
   ],
   "source": [
    "bio_syn_map[ALPHA_AMINO_ACID_ZWITTERION]"
   ]
  },
  {
   "cell_type": "code",
   "execution_count": 203,
   "id": "f8fda8f3ae80f063",
   "metadata": {
    "ExecuteTime": {
     "end_time": "2024-08-24T00:16:06.253758Z",
     "start_time": "2024-08-24T00:16:06.251105Z"
    },
    "collapsed": false,
    "jupyter": {
     "outputs_hidden": false
    }
   },
   "outputs": [
    {
     "name": "stdout",
     "output_type": "stream",
     "text": [
      "ontology: chebi-slim\n",
      "idspace: chemrof https://w3id.org/chemrof/\n",
      "\n",
      "[Term]\n",
      "id: CHEBI:38712\n",
      "name: 2-mercaptosuccinate\n",
      "alt_id: CHEBI:38709\n",
      "alt_id: CHEBI:38705\n",
      "alt_id: CHEBI:38708\n",
      "alt_id: CHEBI:38714\n",
      "alt_id: CHEBI:38707\n",
      "alt_id: CHEBI:38715\n",
      "alt_id: CHEBI:38710\n",
      "is_a: CHEBI:38712\n",
      "is_a: CHEBI:61336\n",
      "is_a: CHEBI:35695\n",
      "is_a: CHEBI:38717\n",
      "is_a: CHEBI:28965\n",
      "xref: Gmelin:327565\n",
      "xref: Beilstein:4986676\n",
      "xref: Gmelin:602204\n",
      "xref: Gmelin:218084\n",
      "xref: CAS:70-49-5\n",
      "xref: Beilstein:1099858\n",
      "xref: Gmelin:602203\n",
      "xref: Gmelin:2186863\n",
      "xref: Beilstein:8141616\n",
      "xref: Gmelin:327564\n",
      "xref: Beilstein:4181562\n",
      "comment: Original: CHEBI:38712->CHEBI:38710 rewired as CHEBI:38712->CHEBI:38712 (P); Original: CHEBI:38712->CHEBI:35695 rewired as CHEBI:38708->CHEBI:35695 (C); Original: CHEBI:38712->CHEBI:38717 rewired as CHEBI:38715->CHEBI:38717 (C); Original: CHEBI:38712->CHEBI:28965 rewired as CHEBI:38710->CHEBI:28965 (C)\n",
      "property_value: chemrof:inchi_string \"InChI=1S/C4H6O4S/c5-3(6)1-2(9)4(7)8/h2,9H,1H2,(H,5,6)(H,7,8)/p-2\" xsd:string\n",
      "property_value: chemrof:has_physiologically_stable_form CHEBI:38712\n",
      "\n"
     ]
    }
   ],
   "source": [
    "ont = Ontology(terms=[t])\n",
    "print(ont.as_obo())"
   ]
  },
  {
   "cell_type": "code",
   "execution_count": 204,
   "id": "b0e8b052fec4776f",
   "metadata": {
    "ExecuteTime": {
     "end_time": "2024-08-24T00:16:06.609616Z",
     "start_time": "2024-08-24T00:16:06.606612Z"
    },
    "collapsed": false,
    "jupyter": {
     "outputs_hidden": false
    }
   },
   "outputs": [],
   "source": [
    "with open(\"tmp/t.obo\", \"w\") as file:\n",
    "    file.write(ont.as_obo())"
   ]
  },
  {
   "cell_type": "code",
   "execution_count": 205,
   "id": "2aecf0e555b32a2a",
   "metadata": {
    "ExecuteTime": {
     "end_time": "2024-08-24T00:16:06.966113Z",
     "start_time": "2024-08-24T00:16:06.963704Z"
    },
    "collapsed": false,
    "jupyter": {
     "outputs_hidden": false
    }
   },
   "outputs": [],
   "source": [
    "def roots(terms: List[Term]):\n",
    "    return [t.id for t in terms if not t.parents]"
   ]
  },
  {
   "cell_type": "code",
   "execution_count": null,
   "id": "61d45587ba2b1b57",
   "metadata": {
    "ExecuteTime": {
     "end_time": "2024-08-24T00:16:07.314829Z",
     "start_time": "2024-08-24T00:16:07.313073Z"
    }
   },
   "outputs": [],
   "source": []
  },
  {
   "cell_type": "code",
   "execution_count": 206,
   "id": "6f93d120489cc7ac",
   "metadata": {
    "ExecuteTime": {
     "end_time": "2024-08-24T00:16:07.671947Z",
     "start_time": "2024-08-24T00:16:07.668198Z"
    },
    "collapsed": false,
    "jupyter": {
     "outputs_hidden": false
    }
   },
   "outputs": [],
   "source": [
    "\n",
    "def make_terms_for_ids(ids: List[str]) -> List[Term]:\n",
    "    \"\"\"\n",
    "    Make terms for a list of IDs\n",
    "    \n",
    "    :param ids: \n",
    "    :return: \n",
    "    \"\"\"\n",
    "    terms = []\n",
    "    n = 0\n",
    "    for id in ids:\n",
    "        n += 1\n",
    "        t = make_term(id)\n",
    "        if t:\n",
    "            terms.append(t)\n",
    "        if n % 10000 == 0:\n",
    "            print(f\"Processed {n} IDs, made {len(terms)} terms\")\n",
    "    return terms\n",
    "        "
   ]
  },
  {
   "cell_type": "code",
   "execution_count": null,
   "id": "fb1e972e983ab1ba",
   "metadata": {
    "ExecuteTime": {
     "end_time": "2024-08-24T00:16:08.026176Z",
     "start_time": "2024-08-24T00:16:08.024489Z"
    },
    "collapsed": false,
    "jupyter": {
     "outputs_hidden": false
    }
   },
   "outputs": [],
   "source": []
  },
  {
   "cell_type": "code",
   "execution_count": 207,
   "id": "373457deffad71d3",
   "metadata": {
    "ExecuteTime": {
     "end_time": "2024-08-24T00:16:08.384392Z",
     "start_time": "2024-08-24T00:16:08.381337Z"
    },
    "collapsed": false,
    "jupyter": {
     "outputs_hidden": false
    }
   },
   "outputs": [],
   "source": [
    "def write_terms(terms: List[Term], path: str):\n",
    "    \"\"\"\n",
    "    Write terms to a file\n",
    "    \n",
    "    :param terms: \n",
    "    :param path: \n",
    "    :return: \n",
    "    \"\"\"\n",
    "    ont = Ontology(terms=terms)\n",
    "    with open(path, \"w\") as file:\n",
    "        file.write(ont.as_obo())\n",
    "        \n",
    "    "
   ]
  },
  {
   "cell_type": "code",
   "execution_count": 208,
   "id": "4c511c4c5ff0977f",
   "metadata": {
    "ExecuteTime": {
     "end_time": "2024-08-24T00:16:08.738282Z",
     "start_time": "2024-08-24T00:16:08.735221Z"
    }
   },
   "outputs": [],
   "source": [
    "def generate_write_all(ids: List[str], path: str) -> List[Term]:\n",
    "    \"\"\"\n",
    "    Run whole pipeline\n",
    "    \n",
    "    :param ids: \n",
    "    :param path: \n",
    "    :return: \n",
    "    \"\"\"\n",
    "    terms = make_terms_for_ids(ids)\n",
    "    write_terms(terms, path)\n",
    "    return terms"
   ]
  },
  {
   "cell_type": "code",
   "execution_count": 209,
   "id": "9a96b67935019540",
   "metadata": {
    "ExecuteTime": {
     "end_time": "2024-08-24T00:16:12.151482Z",
     "start_time": "2024-08-24T00:16:09.088855Z"
    }
   },
   "outputs": [],
   "source": [
    "amino_acid_ids = list(chebi.descendants(AMINO_ACID))\n",
    "assert L_CYSTEINE_ZWITTERION in amino_acid_ids\n",
    "assert len(amino_acid_ids) > 100"
   ]
  },
  {
   "cell_type": "code",
   "execution_count": 210,
   "id": "816113d92ec207d1",
   "metadata": {
    "ExecuteTime": {
     "end_time": "2024-08-24T00:16:17.573504Z",
     "start_time": "2024-08-24T00:16:12.508101Z"
    }
   },
   "outputs": [
    {
     "name": "stdout",
     "output_type": "stream",
     "text": [
      "Processed 10000 IDs, made 7868 terms\n"
     ]
    }
   ],
   "source": [
    "terms = generate_write_all(amino_acid_ids, \"tmp/amino_acids.obo\")"
   ]
  },
  {
   "cell_type": "code",
   "execution_count": 211,
   "id": "136bd3d6-92c0-49b3-87ed-9e9214140d20",
   "metadata": {},
   "outputs": [],
   "source": [
    "term_map = {t.id: t for t in terms}"
   ]
  },
  {
   "cell_type": "code",
   "execution_count": 212,
   "id": "c0b4338f1146a984",
   "metadata": {
    "ExecuteTime": {
     "end_time": "2024-08-24T00:16:17.929169Z",
     "start_time": "2024-08-24T00:16:17.924748Z"
    }
   },
   "outputs": [
    {
     "name": "stdout",
     "output_type": "stream",
     "text": [
      "[Term]\n",
      "id: CHEBI:35235\n",
      "name: L-cysteine\n",
      "alt_id: CHEBI:32442\n",
      "alt_id: CHEBI:32445\n",
      "alt_id: CHEBI:32443\n",
      "alt_id: CHEBI:17561\n",
      "is_a: CHEBI:35237\n",
      "is_a: CHEBI:59869\n",
      "is_a: CHEBI:26650\n",
      "is_a: CHEBI:83813\n",
      "xref: Gmelin:49993\n",
      "xref: Reaxys:4128886\n",
      "xref: Gmelin:325857\n",
      "xref: Beilstein:4128886\n",
      "xref: Gmelin:325860\n",
      "xref: Reaxys:5921923\n",
      "xref: Gmelin:325856\n",
      "xref: Beilstein:5921923\n",
      "xref: YMDB:YMDB00046\n",
      "xref: Wikipedia:Cysteine\n",
      "xref: Reaxys:1721408\n",
      "xref: PDBeChem:CYS\n",
      "xref: MetaCyc:CYS\n",
      "xref: KNApSAcK:C00001351\n",
      "xref: KEGG:D00026\n",
      "xref: KEGG:C00097\n",
      "xref: HMDB:HMDB0000574\n",
      "xref: Gmelin:49991\n",
      "xref: ECMDB:ECMDB00574\n",
      "xref: Drug_Central:769\n",
      "xref: DrugBank:DB00151\n",
      "xref: CAS:52-90-4\n",
      "xref: Beilstein:1721408\n",
      "relationship: RO:0018039 CHEBI:35236\n",
      "relationship: RO:0000087 CHEBI:78675\n",
      "relationship: RO:0000087 CHEBI:64577\n",
      "relationship: RO:0000087 CHEBI:77703\n",
      "relationship: RO:0000087 CHEBI:77746\n",
      "comment: Original: CHEBI:35235->CHEBI:59814 rewired as CHEBI:32442->CHEBI:59869 (PC); Original: CHEBI:35235->CHEBI:26650 rewired as CHEBI:17561->CHEBI:26650 (C); Original: CHEBI:35235->CHEBI:83813 rewired as CHEBI:17561->CHEBI:83813 (C)\n",
      "property_value: chemrof:inchi_string \"InChI=1S/C3H7NO2S/c4-2(1-7)3(5)6/h2,7H,1,4H2,(H,5,6)/t2-/m0/s1\" xsd:string\n",
      "property_value: chemrof:has_physiologically_stable_form CHEBI:35235\n",
      "\n"
     ]
    }
   ],
   "source": [
    "t = term_map[L_CYSTEINE_ZWITTERION]\n",
    "print(t.as_obo())"
   ]
  },
  {
   "cell_type": "code",
   "execution_count": 213,
   "id": "7fec1427e96baea2",
   "metadata": {
    "ExecuteTime": {
     "end_time": "2024-08-24T00:17:38.010791Z",
     "start_time": "2024-08-24T00:16:18.302490Z"
    }
   },
   "outputs": [
    {
     "name": "stdout",
     "output_type": "stream",
     "text": [
      "Processed 10000 IDs, made 9967 terms\n",
      "Processed 20000 IDs, made 19938 terms\n",
      "Processed 30000 IDs, made 29908 terms\n",
      "Processed 40000 IDs, made 38752 terms\n",
      "Processed 50000 IDs, made 48363 terms\n",
      "Processed 60000 IDs, made 57893 terms\n",
      "Processed 70000 IDs, made 67396 terms\n",
      "Processed 80000 IDs, made 76905 terms\n",
      "Processed 90000 IDs, made 86562 terms\n",
      "Processed 100000 IDs, made 96416 terms\n",
      "Processed 110000 IDs, made 106377 terms\n",
      "Processed 120000 IDs, made 116317 terms\n",
      "Processed 130000 IDs, made 126277 terms\n",
      "Processed 140000 IDs, made 135309 terms\n",
      "Processed 150000 IDs, made 144050 terms\n",
      "Processed 160000 IDs, made 152949 terms\n",
      "Processed 170000 IDs, made 161893 terms\n",
      "Processed 180000 IDs, made 170489 terms\n",
      "Processed 190000 IDs, made 179530 terms\n",
      "Processed 200000 IDs, made 189316 terms\n"
     ]
    }
   ],
   "source": [
    "from oaklib.datamodels.vocabulary import OWL_CLASS\n",
    "\n",
    "# all_ids = list(chebi.descendants(ROOT))\n",
    "all_ids = list(chebi.entities(filter_obsoletes=True, owl_type=OWL_CLASS))\n",
    "print(\"all ids\", len(all_ids))\n",
    "terms = generate_write_all(all_ids, \"tmp/all.obo\")\n"
   ]
  },
  {
   "cell_type": "code",
   "execution_count": 216,
   "id": "153be3a8b30c2713",
   "metadata": {
    "ExecuteTime": {
     "end_time": "2024-08-24T00:17:38.389994Z",
     "start_time": "2024-08-24T00:17:38.385274Z"
    },
    "collapsed": false,
    "jupyter": {
     "outputs_hidden": false
    }
   },
   "outputs": [
    {
     "data": {
      "text/plain": [
       "190224"
      ]
     },
     "execution_count": 216,
     "metadata": {},
     "output_type": "execute_result"
    }
   ],
   "source": [
    "len(terms)"
   ]
  },
  {
   "cell_type": "code",
   "execution_count": 219,
   "id": "1e20043e-3ba6-4a61-b82a-aef1da36337f",
   "metadata": {},
   "outputs": [],
   "source": [
    "tmap = {t.id: t for t in terms}"
   ]
  },
  {
   "cell_type": "code",
   "execution_count": 217,
   "id": "ac31bc98e2ef7ef7",
   "metadata": {
    "ExecuteTime": {
     "end_time": "2024-08-24T00:17:38.794221Z",
     "start_time": "2024-08-24T00:17:38.762055Z"
    },
    "collapsed": false,
    "jupyter": {
     "outputs_hidden": false
    }
   },
   "outputs": [
    {
     "data": {
      "text/plain": [
       "3"
      ]
     },
     "execution_count": 217,
     "metadata": {},
     "output_type": "execute_result"
    }
   ],
   "source": [
    "# many roots expected when we make a subset\n",
    "len(roots(terms))"
   ]
  },
  {
   "cell_type": "code",
   "execution_count": 218,
   "id": "1f9434af-c21b-4997-8dea-2de435aa81ce",
   "metadata": {},
   "outputs": [],
   "source": [
    "def terms_as_df(terms: List[Term]) -> pd.DataFrame:\n",
    "    rows = [t.model_dump() for t in terms]\n",
    "    return pd.DataFrame(rows)"
   ]
  },
  {
   "cell_type": "code",
   "execution_count": 220,
   "id": "dd5c69fe-0e65-425d-ab2f-db57f97378dc",
   "metadata": {},
   "outputs": [
    {
     "data": {
      "text/html": [
       "<div>\n",
       "<style scoped>\n",
       "    .dataframe tbody tr th:only-of-type {\n",
       "        vertical-align: middle;\n",
       "    }\n",
       "\n",
       "    .dataframe tbody tr th {\n",
       "        vertical-align: top;\n",
       "    }\n",
       "\n",
       "    .dataframe thead th {\n",
       "        text-align: right;\n",
       "    }\n",
       "</style>\n",
       "<table border=\"1\" class=\"dataframe\">\n",
       "  <thead>\n",
       "    <tr style=\"text-align: right;\">\n",
       "      <th></th>\n",
       "      <th>stanza_type</th>\n",
       "      <th>id</th>\n",
       "      <th>label</th>\n",
       "      <th>synonyms</th>\n",
       "      <th>xrefs</th>\n",
       "      <th>alt_ids</th>\n",
       "      <th>parents</th>\n",
       "      <th>relationships</th>\n",
       "      <th>inchi</th>\n",
       "      <th>physiologically_stable_form</th>\n",
       "      <th>comments</th>\n",
       "    </tr>\n",
       "  </thead>\n",
       "  <tbody>\n",
       "    <tr>\n",
       "      <th>0</th>\n",
       "      <td>Term</td>\n",
       "      <td>CHEBI:24431</td>\n",
       "      <td>chemical entity</td>\n",
       "      <td>None</td>\n",
       "      <td>[]</td>\n",
       "      <td>None</td>\n",
       "      <td>[]</td>\n",
       "      <td>[]</td>\n",
       "      <td>None</td>\n",
       "      <td>CHEBI:24431</td>\n",
       "      <td>[]</td>\n",
       "    </tr>\n",
       "    <tr>\n",
       "      <th>1</th>\n",
       "      <td>Term</td>\n",
       "      <td>CHEBI:36342</td>\n",
       "      <td>subatomic particle</td>\n",
       "      <td>None</td>\n",
       "      <td>[Wikipedia:Subatomic_particle]</td>\n",
       "      <td>None</td>\n",
       "      <td>[]</td>\n",
       "      <td>[]</td>\n",
       "      <td>None</td>\n",
       "      <td>None</td>\n",
       "      <td>[]</td>\n",
       "    </tr>\n",
       "    <tr>\n",
       "      <th>2</th>\n",
       "      <td>Term</td>\n",
       "      <td>CHEBI:50906</td>\n",
       "      <td>role</td>\n",
       "      <td>None</td>\n",
       "      <td>[]</td>\n",
       "      <td>None</td>\n",
       "      <td>[]</td>\n",
       "      <td>[]</td>\n",
       "      <td>None</td>\n",
       "      <td>None</td>\n",
       "      <td>[]</td>\n",
       "    </tr>\n",
       "  </tbody>\n",
       "</table>\n",
       "</div>"
      ],
      "text/plain": [
       "  stanza_type           id               label synonyms  \\\n",
       "0        Term  CHEBI:24431     chemical entity     None   \n",
       "1        Term  CHEBI:36342  subatomic particle     None   \n",
       "2        Term  CHEBI:50906                role     None   \n",
       "\n",
       "                            xrefs alt_ids parents relationships inchi  \\\n",
       "0                              []    None      []            []  None   \n",
       "1  [Wikipedia:Subatomic_particle]    None      []            []  None   \n",
       "2                              []    None      []            []  None   \n",
       "\n",
       "  physiologically_stable_form comments  \n",
       "0                 CHEBI:24431       []  \n",
       "1                        None       []  \n",
       "2                        None       []  "
      ]
     },
     "execution_count": 220,
     "metadata": {},
     "output_type": "execute_result"
    }
   ],
   "source": [
    "terms_as_df([tmap[x] for x in roots(terms)])"
   ]
  },
  {
   "cell_type": "code",
   "execution_count": 147,
   "id": "858eda4cbfd8fb5d",
   "metadata": {
    "ExecuteTime": {
     "end_time": "2024-08-24T00:17:39.164648Z",
     "start_time": "2024-08-24T00:17:39.162207Z"
    },
    "collapsed": false,
    "jupyter": {
     "outputs_hidden": false
    }
   },
   "outputs": [],
   "source": [
    "#write_terms(terms, f\"tmp/{ROOT.replace(':', '_')}.obo\")"
   ]
  },
  {
   "cell_type": "code",
   "execution_count": 148,
   "id": "dbc4c586e92c3328",
   "metadata": {
    "ExecuteTime": {
     "end_time": "2024-08-24T00:17:39.531493Z",
     "start_time": "2024-08-24T00:17:39.529104Z"
    },
    "collapsed": false,
    "jupyter": {
     "outputs_hidden": false
    }
   },
   "outputs": [],
   "source": [
    "fertirelin = \"CHEBI:177856\""
   ]
  },
  {
   "cell_type": "code",
   "execution_count": 149,
   "id": "90336d5cc96554c7",
   "metadata": {
    "ExecuteTime": {
     "end_time": "2024-08-24T00:17:39.897479Z",
     "start_time": "2024-08-24T00:17:39.893737Z"
    },
    "collapsed": false,
    "jupyter": {
     "outputs_hidden": false
    }
   },
   "outputs": [
    {
     "name": "stdout",
     "output_type": "stream",
     "text": [
      "[Term]\n",
      "id: CHEBI:177856\n",
      "name: fertirelin\n",
      "is_a: CHEBI:25676\n",
      "xref: KEGG:D07957\n",
      "xref: Chemspider:163670\n",
      "xref: CAS:38234-21-8\n",
      "property_value: chemrof:inchi_string \"InChI=1S/C55H76N16O12/c1-4-59-53(82)44-12-8-20-71(44)54(83)38(11-7-19-60-55(56)57)66-49(78)39(21-30(2)3)65-46(75)27-62-47(76)40(22-31-13-15-34(73)16-14-31)67-52(81)43(28-72)70-50(79)41(23-32-25-61-36-10-6-5-9-35(32)36)68-51(80)42(24-33-26-58-29-63-33)69-48(77)37-17-18-45(74)64-37/h5-6,9-10,13-16,25-26,29-30,37-44,61,72-73H,4,7-8,11-12,17-24,27-28H2,1-3H3,(H,58,63)(H,59,82)(H,62,76)(H,64,74)(H,65,75)(H,66,78)(H,67,81)(H,68,80)(H,69,77)(H,70,79)(H4,56,57,60)/t37-,38-,39-,40-,41-,42-,43-,44-/m0/s1\" xsd:string\n",
      "\n"
     ]
    }
   ],
   "source": [
    "t = make_term(fertirelin)\n",
    "print(t.as_obo())"
   ]
  },
  {
   "cell_type": "code",
   "execution_count": 150,
   "id": "e1185be596f3b559",
   "metadata": {
    "ExecuteTime": {
     "end_time": "2024-08-24T00:17:40.260764Z",
     "start_time": "2024-08-24T00:17:40.255847Z"
    },
    "collapsed": false,
    "jupyter": {
     "outputs_hidden": false
    }
   },
   "outputs": [
    {
     "data": {
      "text/plain": [
       "'oligopeptide'"
      ]
     },
     "execution_count": 150,
     "metadata": {},
     "output_type": "execute_result"
    }
   ],
   "source": [
    "chebi.label(is_a_map[fertirelin][0])"
   ]
  },
  {
   "cell_type": "code",
   "execution_count": null,
   "id": "3e17588e0084f22d",
   "metadata": {
    "ExecuteTime": {
     "end_time": "2024-08-24T00:17:40.642267Z",
     "start_time": "2024-08-24T00:17:40.640098Z"
    },
    "collapsed": false,
    "jupyter": {
     "outputs_hidden": false
    }
   },
   "outputs": [],
   "source": []
  },
  {
   "cell_type": "code",
   "execution_count": null,
   "id": "30527ecc-9063-4f99-a39b-e866ea127648",
   "metadata": {},
   "outputs": [],
   "source": []
  }
 ],
 "metadata": {
  "kernelspec": {
   "display_name": "Python 3 (ipykernel)",
   "language": "python",
   "name": "python3"
  },
  "language_info": {
   "codemirror_mode": {
    "name": "ipython",
    "version": 3
   },
   "file_extension": ".py",
   "mimetype": "text/x-python",
   "name": "python",
   "nbconvert_exporter": "python",
   "pygments_lexer": "ipython3",
   "version": "3.9.5"
  }
 },
 "nbformat": 4,
 "nbformat_minor": 5
}
